{
 "cells": [
  {
   "cell_type": "code",
   "execution_count": 1,
   "id": "d82e15e2",
   "metadata": {},
   "outputs": [],
   "source": [
    "meyveler = ('elma','hurma','muz')\n",
    "sebzeler = ('domates','patates','kabak')\n"
   ]
  },
  {
   "cell_type": "code",
   "execution_count": 9,
   "id": "0156c236",
   "metadata": {},
   "outputs": [
    {
     "name": "stdout",
     "output_type": "stream",
     "text": [
      "('muz',)\n",
      "<class 'tuple'>\n"
     ]
    }
   ],
   "source": [
    "yemek_tp = meyveler + sebzeler #2\n",
    "yemek_lt = list(yemek_tp) #3\n",
    "\n",
    "yarim_yemek = yemek_tp[2:3] #4\n",
    "\n",
    "print(yarim_yemek)\n",
    "print(type(yarim_yemek))"
   ]
  }
 ],
 "metadata": {
  "kernelspec": {
   "display_name": "base",
   "language": "python",
   "name": "python3"
  },
  "language_info": {
   "codemirror_mode": {
    "name": "ipython",
    "version": 3
   },
   "file_extension": ".py",
   "mimetype": "text/x-python",
   "name": "python",
   "nbconvert_exporter": "python",
   "pygments_lexer": "ipython3",
   "version": "3.12.7"
  }
 },
 "nbformat": 4,
 "nbformat_minor": 5
}
