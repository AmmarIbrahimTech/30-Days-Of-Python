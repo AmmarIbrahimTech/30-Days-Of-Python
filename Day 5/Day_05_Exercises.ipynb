{
 "cells": [
  {
   "cell_type": "code",
   "execution_count": 62,
   "id": "eb50d4c0",
   "metadata": {},
   "outputs": [
    {
     "name": "stdout",
     "output_type": "stream",
     "text": [
      "The length of six_items is 6\n",
      "item1 item2 item6\n"
     ]
    }
   ],
   "source": [
    "# Declare an empty list\n",
    "\n",
    "# Declare a list with more than 5 items\n",
    "\n",
    "# Find the length of your list\n",
    "\n",
    "# Get the first item, the middle item and the last item of the list\n",
    "\n",
    "six_items = [\"item1\", \"item2\", \"item3\", \"item4\", \"item5\", \"item6\"] #2\n",
    "print(f\"The length of six_items is {len(six_items)}\") #3\n",
    "print(six_items[0], six_items[1], six_items[-1]) #4"
   ]
  },
  {
   "cell_type": "code",
   "execution_count": 63,
   "id": "8fc27819",
   "metadata": {},
   "outputs": [
    {
     "name": "stdout",
     "output_type": "stream",
     "text": [
      "item1\n",
      "item6\n",
      "item3\n"
     ]
    }
   ],
   "source": [
    "first_item = six_items[0]\n",
    "\n",
    "last_item = six_items[-1]\n",
    "if len(six_items) % 2 == 0:\n",
    "    middle_item_indx = round(len(six_items) / 2) - 1  \n",
    "else:    \n",
    "    middle_item_indx = round(len(six_items) / 2)\n",
    "\n",
    "\n",
    "middle_item = six_items[middle_item_indx]\n",
    "\n",
    "print(first_item)\n",
    "print(last_item)\n",
    "print(middle_item)"
   ]
  },
  {
   "cell_type": "code",
   "execution_count": 64,
   "id": "09cb9bc7",
   "metadata": {},
   "outputs": [
    {
     "name": "stdout",
     "output_type": "stream",
     "text": [
      "item4\n"
     ]
    }
   ],
   "source": [
    "import random\n",
    "\n",
    "idx = random.randint(0, len(six_items) -1)\n",
    "\n",
    "print(six_items[idx])"
   ]
  },
  {
   "cell_type": "code",
   "execution_count": 65,
   "id": "c1b5e5d1",
   "metadata": {},
   "outputs": [],
   "source": [
    "it_companies = [\"Facebook\", \"Google\", \"Microsoft\", \"Apple\", \"IBM\", \"Oracle\", \"Amazon\"] #6\n"
   ]
  },
  {
   "cell_type": "code",
   "execution_count": 56,
   "id": "6ac87a4d",
   "metadata": {},
   "outputs": [
    {
     "name": "stdout",
     "output_type": "stream",
     "text": [
      "Sorry, google doesn't exist in that list\n"
     ]
    }
   ],
   "source": [
    "lookup = input(\"Type a company name and I'll see if it exists in it_companies: \") #15\n",
    "#  if it_companies.index(lookup) != -1 :\n",
    "#  print(f\"Yes, {lookup} exists in it_companies.\\nIt is the item number {it_companies.index(lookup)+1} from right.\")\n",
    "#  else:\n",
    "#  print(f\"Sorry, {lookup} doesn't exist in that list\")\n",
    "\n",
    "#! This is probably a better method (because it can deal with the errors):\n",
    "#? How to make an if to make it point from left or right depending on the closest path.\n",
    "try:\n",
    "    print(f\"Yes, {lookup} exists in it_companies.\\nIt is the item number {it_companies.index(lookup)+1} from right.\")\n",
    "except ValueError: \n",
    "    print(f\"Sorry, {lookup} doesn't exist in that list\")\n"
   ]
  },
  {
   "cell_type": "code",
   "execution_count": 57,
   "id": "b0195a1c",
   "metadata": {},
   "outputs": [
    {
     "name": "stdout",
     "output_type": "stream",
     "text": [
      "NO\n"
     ]
    }
   ],
   "source": [
    "user_company = input(\"Type a company name and I'll see if it exists in it_companies: \").lower().strip() #15\n",
    "\n",
    "lower_companies = []\n",
    "for company in it_companies:\n",
    "    new_company = company.lower().strip()\n",
    "    lower_companies.append(new_company)\n",
    "\n",
    "exist = user_company in lower_companies\n",
    "\n",
    "if exist:\n",
    "    print(\"Yes\")\n",
    "else:\n",
    "    print(\"NO\")"
   ]
  },
  {
   "cell_type": "code",
   "execution_count": 58,
   "id": "b83138eb",
   "metadata": {},
   "outputs": [
    {
     "name": "stdout",
     "output_type": "stream",
     "text": [
      "['IBM', 'Oracle', 'Amazon']\n",
      "['IBM', 'Oracle']\n",
      "1\n",
      "2\n",
      "3\n",
      "4\n"
     ]
    }
   ],
   "source": [
    "print(it_companies[-3:]) #19\n",
    "print(it_companies[-3:-1])\n",
    "\n",
    "for number in range(1, 5):\n",
    "    print(number)"
   ]
  },
  {
   "cell_type": "code",
   "execution_count": 59,
   "id": "837f1634",
   "metadata": {},
   "outputs": [
    {
     "name": "stdout",
     "output_type": "stream",
     "text": [
      "['Facebook', 'Google', 'Microsoft', 'IBM', 'Oracle', 'Amazon']\n"
     ]
    }
   ],
   "source": [
    "middle_company_idx= round(len(it_companies)/2)\n",
    "\n",
    "del it_companies[middle_company_idx-1] #22\n",
    "print(it_companies)"
   ]
  },
  {
   "cell_type": "code",
   "execution_count": 60,
   "id": "967378b6",
   "metadata": {},
   "outputs": [
    {
     "name": "stdout",
     "output_type": "stream",
     "text": [
      "['Facebook', 'Google', 'Microsoft', 'IBM', 'Oracle']\n",
      "Amazon\n"
     ]
    }
   ],
   "source": [
    "last = it_companies.pop() #23\n",
    "print(it_companies)\n",
    "print(last)"
   ]
  },
  {
   "cell_type": "code",
   "execution_count": null,
   "id": "553517b7",
   "metadata": {},
   "outputs": [
    {
     "name": "stdout",
     "output_type": "stream",
     "text": [
      "[]\n"
     ]
    }
   ],
   "source": [
    "it_companies.clear()\n",
    "print(it_companies)\n"
   ]
  },
  {
   "cell_type": "code",
   "execution_count": 77,
   "id": "de1a3d0e",
   "metadata": {},
   "outputs": [
    {
     "name": "stdout",
     "output_type": "stream",
     "text": [
      "['HTML', 'CSS', 'JS', 'React', 'Redux', 'Node', 'Express', 'MongoDB']\n"
     ]
    }
   ],
   "source": [
    "front_end = ['HTML', 'CSS', 'JS', 'React', 'Redux']\n",
    "back_end = ['Node','Express', 'MongoDB']\n",
    "\n",
    "\n",
    "full_stack = front_end + back_end\n",
    "\n",
    "print(full_stack)"
   ]
  },
  {
   "cell_type": "code",
   "execution_count": null,
   "id": "a01b6cc1",
   "metadata": {},
   "outputs": [
    {
     "name": "stdout",
     "output_type": "stream",
     "text": [
      "['HTML', 'CSS', 'JS', 'React', 'Redux', 'Python', 'SQL', 'Node', 'Express', 'MongoDB']\n"
     ]
    }
   ],
   "source": [
    "full_stack.insert(full_stack.index(\"Redux\") + 1 , 'Python')\n",
    "full_stack.insert(full_stack.index(\"Python\")+ 1, 'SQL')\n",
    "print(full_stack)"
   ]
  },
  {
   "cell_type": "code",
   "execution_count": 93,
   "id": "02567c13",
   "metadata": {},
   "outputs": [
    {
     "name": "stdout",
     "output_type": "stream",
     "text": [
      "The min age is 19 and the max age is 26.\n",
      "[19, 19, 20, 22, 24, 24, 24, 25, 25, 26, 19, 26]\n"
     ]
    }
   ],
   "source": [
    "ages = [19, 22, 19, 24, 20, 25, 26, 24, 25, 24]\n",
    "\n",
    "ages.sort()\n",
    "max_age = max(ages)\n",
    "min_age = min(ages)\n",
    "# print(f\"The min age is {ages[0]} and the max age is {ages[-1]}.\")\n",
    "print(f\"The min age is {min_age} and the max age is {max_age}.\")\n",
    "\n",
    "ages.append(min_age)\n",
    "ages.append(max_age)\n",
    "print(ages)\n",
    "\n"
   ]
  },
  {
   "cell_type": "code",
   "execution_count": 92,
   "id": "a3b19aa0",
   "metadata": {},
   "outputs": [
    {
     "name": "stdout",
     "output_type": "stream",
     "text": [
      "The median age is 25\n"
     ]
    }
   ],
   "source": [
    "ages.sort()\n",
    "\n",
    "# 1   2   3   4\n",
    "# 1   2   3   4    5\n",
    "median_idx = round(len(ages)/2)\n",
    "\n",
    "if len(ages) % 2 == 0: #even\n",
    "    median_age = (ages[median_idx] + ages[median_idx-1]) /2 \n",
    "    \n",
    "else:\n",
    "    median_age = ages[median_idx]\n",
    "\n",
    "\n",
    "\n",
    "# median_age = (ages[5] + ages[6])/2\n",
    "\n",
    "print(f\"The median age is {round(median_age)}\")"
   ]
  },
  {
   "cell_type": "code",
   "execution_count": 105,
   "id": "7f67b456",
   "metadata": {},
   "outputs": [
    {
     "name": "stdout",
     "output_type": "stream",
     "text": [
      "The average age is around 22.8\n",
      "273\n"
     ]
    }
   ],
   "source": [
    "# average_age = (ages[0]+ages[1]+ages[2]+ages[3]+ages[4]+ages[5]+ages[6]+ages[7]+ages[8]+ages[9]+ages[10]+ages[11])/len(ages)\n",
    "average_age = sum(ages) / len(ages)\n",
    "\n",
    "\n",
    "\n",
    "print(f\"The average age is around {round(average_age, 1)}\")\n",
    "\n",
    "\n",
    "\n",
    "my_sum = 0 \n",
    "for age in ages:\n",
    "    my_sum += age\n",
    "\n",
    "print(my_sum)"
   ]
  },
  {
   "cell_type": "code",
   "execution_count": 107,
   "id": "69ece82a",
   "metadata": {},
   "outputs": [
    {
     "name": "stdout",
     "output_type": "stream",
     "text": [
      "The range of the ages is 7\n"
     ]
    }
   ],
   "source": [
    "ages_range = max(ages) - min(ages)\n",
    "print(f\"The range of the ages is {round(ages_range)}\")\n"
   ]
  },
  {
   "cell_type": "code",
   "execution_count": 108,
   "id": "bdf39023",
   "metadata": {},
   "outputs": [
    {
     "name": "stdout",
     "output_type": "stream",
     "text": [
      "3.25\n",
      "3.75\n"
     ]
    }
   ],
   "source": [
    "print(abs(ages[-1] - average_age))\n",
    "print(abs(ages[0] - average_age))"
   ]
  },
  {
   "cell_type": "code",
   "execution_count": null,
   "id": "811b192a",
   "metadata": {},
   "outputs": [
    {
     "name": "stdout",
     "output_type": "stream",
     "text": [
      "22.75\n",
      "24.0\n",
      "2.800162332956625\n",
      "273\n"
     ]
    }
   ],
   "source": [
    "#!\n",
    "#! طبيز\n",
    "\n",
    "import pandas as pd\n",
    "\n",
    "ages_serise = pd.Series(ages)\n",
    "mean = ages_serise.mean()\n",
    "median_age = ages_serise.median()\n",
    "std = ages_serise.std()\n",
    "summission = ages_serise.sum()\n",
    "print(mean)\n",
    "print(median_age)\n",
    "print(std)\n",
    "print(summission)\n"
   ]
  },
  {
   "cell_type": "code",
   "execution_count": 113,
   "id": "5947fe23",
   "metadata": {},
   "outputs": [],
   "source": [
    "countries = [\n",
    "  'Afghanistan',\n",
    "  'Albania',\n",
    "  'Algeria',\n",
    "  'Andorra',\n",
    "  'Angola',\n",
    "  'Antigua and Barbuda',\n",
    "  'Argentina',\n",
    "  'Armenia',\n",
    "  'Australia',\n",
    "  'Austria',\n",
    "  'Azerbaijan',\n",
    "  'Bahamas',\n",
    "  'Bahrain',\n",
    "  'Bangladesh',\n",
    "  'Barbados',\n",
    "  'Belarus',\n",
    "  'Belgium',\n",
    "  'Belize',\n",
    "  'Benin',\n",
    "  'Bhutan',\n",
    "  'Bolivia',\n",
    "  'Bosnia and Herzegovina',\n",
    "  'Botswana',\n",
    "  'Brazil',\n",
    "  'Brunei',\n",
    "  'Bulgaria',\n",
    "  'Burkina Faso',\n",
    "  'Burundi',\n",
    "  'Cambodia',\n",
    "  'Cameroon',\n",
    "  'Canada',\n",
    "  'Cape Verde',\n",
    "  'Central African Republic',\n",
    "  'Chad',\n",
    "  'Chile',\n",
    "  'China',\n",
    "  'Colombi',\n",
    "  'Comoros',\n",
    "  'Congo (Brazzaville)',\n",
    "  'Congo',\n",
    "  'Costa Rica',\n",
    "  \"Cote d'Ivoire\",\n",
    "  'Croatia',\n",
    "  'Cuba',\n",
    "  'Cyprus',\n",
    "  'Czech Republic',\n",
    "  'Denmark',\n",
    "  'Djibouti',\n",
    "  'Dominica',\n",
    "  'Dominican Republic',\n",
    "  'East Timor (Timor Timur)',\n",
    "  'Ecuador',\n",
    "  'Egypt',\n",
    "  'El Salvador',\n",
    "  'Equatorial Guinea',\n",
    "  'Eritrea',\n",
    "  'Estonia',\n",
    "  'Ethiopia',\n",
    "  'Fiji',\n",
    "  'Finland',\n",
    "  'France',\n",
    "  'Gabon',\n",
    "  'Gambia, The',\n",
    "  'Georgia',\n",
    "  'Germany',\n",
    "  'Ghana',\n",
    "  'Greece',\n",
    "  'Grenada',\n",
    "  'Guatemala',\n",
    "  'Guinea',\n",
    "  'Guinea-Bissau',\n",
    "  'Guyana',\n",
    "  'Haiti',\n",
    "  'Honduras',\n",
    "  'Hungary',\n",
    "  'Iceland',\n",
    "  'India',\n",
    "  'Indonesia',\n",
    "  'Iran',\n",
    "  'Iraq',\n",
    "  'Ireland',\n",
    "  'Israel',\n",
    "  'Italy',\n",
    "  'Jamaica',\n",
    "  'Japan',\n",
    "  'Jordan',\n",
    "  'Kazakhstan',\n",
    "  'Kenya',\n",
    "  'Kiribati',\n",
    "  'Korea, North',\n",
    "  'Korea, South',\n",
    "  'Kuwait',\n",
    "  'Kyrgyzstan',\n",
    "  'Laos',\n",
    "  'Latvia',\n",
    "  'Lebanon',\n",
    "  'Lesotho',\n",
    "  'Liberia',\n",
    "  'Libya',\n",
    "  'Liechtenstein',\n",
    "  'Lithuania',\n",
    "  'Luxembourg',\n",
    "  'Macedonia',\n",
    "  'Madagascar',\n",
    "  'Malawi',\n",
    "  'Malaysia',\n",
    "  'Maldives',\n",
    "  'Mali',\n",
    "  'Malta',\n",
    "  'Marshall Islands',\n",
    "  'Mauritania',\n",
    "  'Mauritius',\n",
    "  'Mexico',\n",
    "  'Micronesia',\n",
    "  'Moldova',\n",
    "  'Monaco',\n",
    "  'Mongolia',\n",
    "  'Morocco',\n",
    "  'Mozambique',\n",
    "  'Myanmar',\n",
    "  'Namibia',\n",
    "  'Nauru',\n",
    "  'Nepal',\n",
    "  'Netherlands',\n",
    "  'New Zealand',\n",
    "  'Nicaragua',\n",
    "  'Niger',\n",
    "  'Nigeria',\n",
    "  'Norway',\n",
    "  'Oman',\n",
    "  'Pakistan',\n",
    "  'Palau',\n",
    "  'Panama',\n",
    "  'Papua New Guinea',\n",
    "  'Paraguay',\n",
    "  'Peru',\n",
    "  'Philippines',\n",
    "  'Poland',\n",
    "  'Portugal',\n",
    "  'Qatar',\n",
    "  'Romania',\n",
    "  'Russia',\n",
    "  'Rwanda',\n",
    "  'Saint Kitts and Nevis',\n",
    "  'Saint Lucia',\n",
    "  'Saint Vincent',\n",
    "  'Samoa',\n",
    "  'San Marino',\n",
    "  'Sao Tome and Principe',\n",
    "  'Saudi Arabia',\n",
    "  'Senegal',\n",
    "  'Serbia and Montenegro',\n",
    "  'Seychelles',\n",
    "  'Sierra Leone',\n",
    "  'Singapore',\n",
    "  'Slovakia',\n",
    "  'Slovenia',\n",
    "  'Solomon Islands',\n",
    "  'Somalia',\n",
    "  'South Africa',\n",
    "  'Spain',\n",
    "  'Sri Lanka',\n",
    "  'Sudan',\n",
    "  'Suriname',\n",
    "  'Swaziland',\n",
    "  'Sweden',\n",
    "  'Switzerland',\n",
    "  'Syria',\n",
    "  'Taiwan',\n",
    "  'Tajikistan',\n",
    "  'Tanzania',\n",
    "  'Thailand',\n",
    "  'Togo',\n",
    "  'Tonga',\n",
    "  'Trinidad and Tobago',\n",
    "  'Tunisia',\n",
    "  'Turkey',\n",
    "  'Turkmenistan',\n",
    "  'Tuvalu',\n",
    "  'Uganda',\n",
    "  'Ukraine',\n",
    "  'United Arab Emirates',\n",
    "  'United Kingdom',\n",
    "  'United States',\n",
    "  'Uruguay',\n",
    "  'Uzbekistan',\n",
    "  'Vanuatu',\n",
    "  'Vatican City',\n",
    "  'Venezuela',\n",
    "  'Vietnam',\n",
    "  'Yemen',\n",
    "  'Zambia',\n",
    "  'Zimbabwe',\n",
    "]\n"
   ]
  },
  {
   "cell_type": "code",
   "execution_count": 114,
   "id": "17fb4fe8",
   "metadata": {},
   "outputs": [
    {
     "name": "stdout",
     "output_type": "stream",
     "text": [
      "96\n",
      "The middle country is Lebanon\n",
      "['Afghanistan', 'Albania', 'Algeria', 'Andorra', 'Angola', 'Antigua and Barbuda', 'Argentina', 'Armenia', 'Australia', 'Austria', 'Azerbaijan', 'Bahamas', 'Bahrain', 'Bangladesh', 'Barbados', 'Belarus', 'Belgium', 'Belize', 'Benin', 'Bhutan', 'Bolivia', 'Bosnia and Herzegovina', 'Botswana', 'Brazil', 'Brunei', 'Bulgaria', 'Burkina Faso', 'Burundi', 'Cambodia', 'Cameroon', 'Canada', 'Cape Verde', 'Central African Republic', 'Chad', 'Chile', 'China', 'Colombi', 'Comoros', 'Congo (Brazzaville)', 'Congo', 'Costa Rica', \"Cote d'Ivoire\", 'Croatia', 'Cuba', 'Cyprus', 'Czech Republic', 'Denmark', 'Djibouti', 'Dominica', 'Dominican Republic', 'East Timor (Timor Timur)', 'Ecuador', 'Egypt', 'El Salvador', 'Equatorial Guinea', 'Eritrea', 'Estonia', 'Ethiopia', 'Fiji', 'Finland', 'France', 'Gabon', 'Gambia, The', 'Georgia', 'Germany', 'Ghana', 'Greece', 'Grenada', 'Guatemala', 'Guinea', 'Guinea-Bissau', 'Guyana', 'Haiti', 'Honduras', 'Hungary', 'Iceland', 'India', 'Indonesia', 'Iran', 'Iraq', 'Ireland', 'Israel', 'Italy', 'Jamaica', 'Japan', 'Jordan', 'Kazakhstan', 'Kenya', 'Kiribati', 'Korea, North', 'Korea, South', 'Kuwait', 'Kyrgyzstan', 'Laos', 'Latvia', 'Lebanon', 'Lesotho']\n",
      "USA\n",
      "['Finland', 'Sweden', 'Norway', 'Denmark']\n"
     ]
    }
   ],
   "source": [
    "# print(len(countries))\n",
    "# 1   2   3   4   5\n",
    "middle_country_idx = (round(len(countries)/2))\n",
    "print(middle_country_idx)\n",
    "print(f\"The middle country is {countries[middle_country_idx-1]}\")\n",
    "\n",
    "if len(countries) % 2 == 0:\n",
    "    first_countries = countries[0:(middle_country_idx)]\n",
    "    last_countries = countries[middle_country_idx:]\n",
    "else:\n",
    "    first_countries = countries[0:(middle_country_idx+1)]\n",
    "    last_countries = countries[middle_country_idx+1:]\n",
    "print(first_countries)\n",
    "\n",
    "Sean, Rousia, Amrika, *Scandic = ['China', 'Russia', 'USA', 'Finland', 'Sweden', 'Norway', 'Denmark']\n",
    "print(Amrika)\n",
    "print(Scandic)"
   ]
  }
 ],
 "metadata": {
  "kernelspec": {
   "display_name": "base",
   "language": "python",
   "name": "python3"
  },
  "language_info": {
   "codemirror_mode": {
    "name": "ipython",
    "version": 3
   },
   "file_extension": ".py",
   "mimetype": "text/x-python",
   "name": "python",
   "nbconvert_exporter": "python",
   "pygments_lexer": "ipython3",
   "version": "3.12.7"
  }
 },
 "nbformat": 4,
 "nbformat_minor": 5
}
