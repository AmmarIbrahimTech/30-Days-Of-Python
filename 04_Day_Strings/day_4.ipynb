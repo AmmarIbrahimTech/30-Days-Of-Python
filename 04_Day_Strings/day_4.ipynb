{
 "cells": [
  {
   "cell_type": "markdown",
   "id": "a2deab68",
   "metadata": {},
   "source": [
    "# 30 Days Of Python: Day 4 - Strings"
   ]
  },
  {
   "cell_type": "code",
   "execution_count": 26,
   "id": "eafe96fa",
   "metadata": {},
   "outputs": [
    {
     "name": "stdout",
     "output_type": "stream",
     "text": [
      "He said \"let us do something\"\n"
     ]
    }
   ],
   "source": [
    "'strings' , \"strings\" , \"\"\"\"doc_string\"\"\"\n",
    "\n",
    "print('He said \"let us do something\"')"
   ]
  },
  {
   "cell_type": "code",
   "execution_count": 27,
   "id": "9446ea74",
   "metadata": {},
   "outputs": [
    {
     "name": "stdout",
     "output_type": "stream",
     "text": [
      "P\n",
      "1\n",
      "Hello, World!\n",
      "13\n",
      "I hope you are enjoying 30 days of Python Challenge\n"
     ]
    }
   ],
   "source": [
    "letter = 'P'                # A string could be a single character or a bunch of texts\n",
    "print(letter)               # P\n",
    "print(len(letter))          # 1\n",
    "greeting = 'Hello, World!'  # String could be made using a single or double quote,\"Hello, World!\"\n",
    "print(greeting)             # Hello, World!\n",
    "print(len(greeting))        # 13\n",
    "sentence = \"I hope you are enjoying 30 days of Python Challenge\"\n",
    "print(sentence)"
   ]
  },
  {
   "cell_type": "code",
   "execution_count": 28,
   "id": "4f5a0ce3",
   "metadata": {},
   "outputs": [
    {
     "name": "stdout",
     "output_type": "stream",
     "text": [
      "I am a teacher and enjoy teaching.\n",
      "I didn't find anything as rewarding as empowering people.\n",
      "That is why I created 30 days of python.\n",
      "I am a teacher and enjoy teaching.\n",
      "I didn't find anything as rewarding as empowering people.\n",
      "That is why I created 30 days of python.\n"
     ]
    }
   ],
   "source": [
    "multiline_string = '''I am a teacher and enjoy teaching.\n",
    "I didn't find anything as rewarding as empowering people.\n",
    "That is why I created 30 days of python.'''\n",
    "print(multiline_string)\n",
    "\n",
    "# Another way of doing the same thing\n",
    "multiline_string = \"\"\"I am a teacher and enjoy teaching.\n",
    "I didn't find anything as rewarding as empowering people.\n",
    "That is why I created 30 days of python.\"\"\"\n",
    "print(multiline_string)"
   ]
  },
  {
   "cell_type": "code",
   "execution_count": 29,
   "id": "b7b901a7",
   "metadata": {},
   "outputs": [
    {
     "name": "stdout",
     "output_type": "stream",
     "text": [
      "Asabeneh Yetayeh\n",
      "8\n",
      "7\n",
      "1\n",
      "True\n",
      "16\n"
     ]
    }
   ],
   "source": [
    "first_name = 'Asabeneh'\n",
    "last_name = 'Yetayeh'\n",
    "space = ' '\n",
    "full_name = first_name +  space  + last_name\n",
    "print(full_name) # Asabeneh Yetayeh\n",
    "# Checking the length of a string using len() built-in function\n",
    "print(len(first_name))  # 8\n",
    "print(len(last_name))   # 7\n",
    "print(len(space))\n",
    "print(len(first_name) > len(last_name)) # True\n",
    "print(len(full_name)) # 16"
   ]
  },
  {
   "cell_type": "code",
   "execution_count": 30,
   "id": "ce02120e",
   "metadata": {},
   "outputs": [
    {
     "name": "stdout",
     "output_type": "stream",
     "text": [
      "He said \"adsagfa\"\n",
      "C:\\MIT_Emarging_talent\\Practice\\30-Days-Of-Python\\04_Day_Strings\\04_strings.md\n",
      "C:/MIT_Emarging_talent/Practice/30-Days-Of-Python/04_Day_Strings/04_strings.md\n"
     ]
    }
   ],
   "source": [
    "\"\"\"\n",
    "\\n: new line\n",
    "\\t: Tab means(8 spaces)\n",
    "\\\\: Back slash\n",
    "\\': Single quote (')\n",
    "\\\": Double quote (\")\n",
    "\"\"\"\"\"\n",
    "\n",
    "print(\"He said \\\"adsagfa\\\"\")\n",
    "# print(\"C:\\MIT_Emarging_talent\\Practice\\30-Days-Of-Python\\04_Day_Strings\\04_strings.md\")\n",
    "print(\"C:\\\\MIT_Emarging_talent\\\\Practice\\\\30-Days-Of-Python\\\\04_Day_Strings\\\\04_strings.md\")\n",
    "print(\"C:/MIT_Emarging_talent/Practice/30-Days-Of-Python/04_Day_Strings/04_strings.md\")\n"
   ]
  },
  {
   "cell_type": "code",
   "execution_count": 31,
   "id": "cd9f216b",
   "metadata": {},
   "outputs": [
    {
     "name": "stdout",
     "output_type": "stream",
     "text": [
      "I hope everyone is enjoying the Python Challenge.\n",
      "Are you ?\n",
      "Days\tTopics\tExercises\n",
      "Day 1\t \t5\n",
      "Day 2\t6\t20\n",
      "Day 3\t5\t23\n",
      "Day 4\t1\t35\n",
      "This is a backslash  symbol (\\)\n",
      "In every programming language it starts with \"Hello, World!\"\n"
     ]
    }
   ],
   "source": [
    "print('I hope everyone is enjoying the Python Challenge.\\nAre you ?') # line break\n",
    "print('Days\\tTopics\\tExercises') # adding tab space or 4 spaces \n",
    "print('Day 1\\t \\t5')\n",
    "print('Day 2\\t6\\t20')\n",
    "print('Day 3\\t5\\t23')\n",
    "print('Day 4\\t1\\t35')\n",
    "print('This is a backslash  symbol (\\\\)') # To write a backslash\n",
    "print('In every programming language it starts with \"Hello, World!\"') # to write a double quote inside a single quote\n",
    "#* to write double inside double or single inside single*\n"
   ]
  },
  {
   "cell_type": "code",
   "execution_count": 32,
   "id": "16502849",
   "metadata": {},
   "outputs": [
    {
     "name": "stdout",
     "output_type": "stream",
     "text": [
      "I am Asabeneh Yetayeh. I teach Python\n",
      "The area of circle with a radius 10 is 314.00.\n",
      "The following are python libraries:['Django', 'Flask', 'NumPy', 'Matplotlib', 'Pandas']\n"
     ]
    }
   ],
   "source": [
    "# Strings only\n",
    "first_name = 'Asabeneh'\n",
    "last_name = 'Yetayeh'\n",
    "language = 'Python'\n",
    "formated_string = 'I am %s %s. I teach %s' %(first_name, last_name, language)\n",
    "print(formated_string)\n",
    "\n",
    "# Strings  and numbers\n",
    "radius = 10\n",
    "pi = 3.14\n",
    "area = pi * radius ** 2\n",
    "formated_string = 'The area of circle with a radius %d is %.2f.' %(radius, area) # 2 refers the 2 significant digits after the point\n",
    "print(formated_string)\n",
    "python_libraries = ['Django', 'Flask', 'NumPy', 'Matplotlib','Pandas']\n",
    "formated_string = 'The following are python libraries:%s' % (python_libraries)\n",
    "print(formated_string) # \"The following are python libraries:['Django', 'Flask', 'NumPy', 'Matplotlib','Pandas']\""
   ]
  },
  {
   "cell_type": "code",
   "execution_count": null,
   "id": "44e44a8d",
   "metadata": {},
   "outputs": [
    {
     "name": "stdout",
     "output_type": "stream",
     "text": [
      "integer is 5, float is 5.5, and string is ABC\n",
      "integer is 5\n",
      "integer is 5\n",
      "integer is 5, float is 5.5, and string is ABC\n"
     ]
    }
   ],
   "source": [
    "integer = 5\n",
    "Float = 5.5\n",
    "String = \"ABC\"\n",
    "\n",
    "\n",
    "print(\"integer is %d, float is %.1f, and string is %s\" %(integer, Float, String))\n",
    "print(f\"integer is {int(integer)}\")\n",
    "print(\"integer is {}\".format(integer))\n",
    "print(\"integer is %s, float is %.1f, and string is %s\" %(integer, Float, String))"
   ]
  },
  {
   "cell_type": "code",
   "execution_count": null,
   "id": "1e1b3b4d",
   "metadata": {},
   "outputs": [
    {
     "name": "stdout",
     "output_type": "stream",
     "text": [
      "I am Asabeneh Yetayeh. I teach Python\n",
      "4 + 3 = 7\n",
      "4 - 3 = 1\n",
      "4 * 3 = 12\n",
      "4 / 3 = 1.33\n",
      "4 % 3 = 1\n",
      "4 // 3 = 1\n",
      "4 ** 3 = 64\n"
     ]
    }
   ],
   "source": [
    "first_name = 'Asabeneh'\n",
    "last_name = 'Yetayeh'\n",
    "language = 'Python'\n",
    "formated_string = 'I am {} {}. I teach {}'.format(first_name, last_name, language)\n",
    "print(formated_string)\n",
    "a = 4\n",
    "b = 3\n",
    "\n",
    "print('{} + {} = {}'.format(a, b, a + b))\n",
    "print('{} - {} = {}'.format(a, b, a - b))\n",
    "print('{} * {} = {}'.format(a, b, a * b))\n",
    "print('{} / {} = {:.2f}'.format(a, b, a / b)) # limits it to two digits after decimal\n",
    "print('{} % {} = {}'.format(a, b, a % b))\n",
    "print('{} // {} = {}'.format(a, b, a // b))\n",
    "print('{} ** {} = {}'.format(a, b, a ** b))"
   ]
  },
  {
   "cell_type": "code",
   "execution_count": 36,
   "id": "97fa9e82",
   "metadata": {},
   "outputs": [
    {
     "name": "stdout",
     "output_type": "stream",
     "text": [
      "4 + 3 = 7\n",
      "4 - 3 = 1\n",
      "4 * 3 = 12\n",
      "4 / 3 = 1.33\n",
      "4 % 3 = 1\n",
      "4 // 3 = 1\n",
      "4 ** 3 = 64\n"
     ]
    }
   ],
   "source": [
    "a = 4\n",
    "b = 3\n",
    "print(f'{a} + {b} = {a +b}')\n",
    "print(f'{a} - {b} = {a - b}')\n",
    "print(f'{a} * {b} = {a * b}')\n",
    "print(f'{a} / {b} = {a / b:.2f}')\n",
    "print(f'{a} % {b} = {a % b}')\n",
    "print(f'{a} // {b} = {a // b}')\n",
    "print(f'{a} ** {b} = {a ** b}')"
   ]
  },
  {
   "cell_type": "markdown",
   "id": "01435aa0",
   "metadata": {},
   "source": [
    "### Python Strings as Sequences of Characters"
   ]
  },
  {
   "cell_type": "code",
   "execution_count": 39,
   "id": "3fbc2821",
   "metadata": {},
   "outputs": [
    {
     "name": "stdout",
     "output_type": "stream",
     "text": [
      "p y t h o n\n"
     ]
    }
   ],
   "source": [
    "my_list = [\"p\",\"y\",\"t\",\"h\",\"o\",\"n\"]\n",
    "my_tuple = (\"p\",\"y\",\"t\",\"h\",\"o\",\"n\")\n",
    "my_string = \"python\"\n",
    "a,b,c,d,e,f = my_string\n",
    "print(a,b,c,d,e,f)"
   ]
  },
  {
   "cell_type": "code",
   "execution_count": 40,
   "id": "b095837f",
   "metadata": {},
   "outputs": [
    {
     "name": "stdout",
     "output_type": "stream",
     "text": [
      "6\n"
     ]
    }
   ],
   "source": [
    "# Accessing Characters in Strings by Index\n",
    "my_list = [\"p\",\"y\",\"t\",\"h\",\"o\",\"n\"]\n",
    "#           0   1   2   3   4   5\n",
    "#iteration \n",
    "\n",
    "my_tuple = (\"p\",\"y\",\"t\",\"h\",\"o\",\"n\")\n",
    "my_string = \"python\"\n",
    "a,b,c,d,e,f = my_string\n",
    "print(len(my_list))\n"
   ]
  },
  {
   "cell_type": "code",
   "execution_count": 53,
   "id": "c8cef891",
   "metadata": {},
   "outputs": [
    {
     "name": "stdout",
     "output_type": "stream",
     "text": [
      "y\n",
      "y\n"
     ]
    }
   ],
   "source": [
    "## Accessing Characters in Strings by Index\n",
    "\n",
    "first_letter = my_list[1]\n",
    "print(first_letter)\n",
    "\n",
    "first_letter = my_string[1]\n",
    "print(first_letter)\n",
    "\n",
    "\n",
    "\n",
    "# for letter in range(len(my_list)):\n",
    "#     print(letter)\n",
    "# for i in range(5):\n",
    "#     print(i)"
   ]
  },
  {
   "cell_type": "code",
   "execution_count": 75,
   "id": "c1ed9a85",
   "metadata": {},
   "outputs": [
    {
     "name": "stdout",
     "output_type": "stream",
     "text": [
      "n\n",
      "Ahmed\n"
     ]
    }
   ],
   "source": [
    "last_letter = my_string[-1]\n",
    "print(last_letter)\n",
    "\n",
    "name = \"Ahmed.\"\n",
    "refined_name = name\n",
    "last_letter = name[-1]\n",
    "\n",
    "if last_letter == \".\":\n",
    "    #delete it\n",
    "    refined_name = name[0:-1]\n",
    "print(refined_name)"
   ]
  },
  {
   "cell_type": "code",
   "execution_count": 68,
   "id": "d9d11e4b",
   "metadata": {},
   "outputs": [
    {
     "name": "stdout",
     "output_type": "stream",
     "text": [
      "Ahmed\n"
     ]
    }
   ],
   "source": [
    "#Slicing\n",
    "\n",
    "refined_name = name[0:-1]\n",
    "print(refined_name)"
   ]
  },
  {
   "cell_type": "code",
   "execution_count": 83,
   "id": "7c1a9adc",
   "metadata": {},
   "outputs": [
    {
     "name": "stdout",
     "output_type": "stream",
     "text": [
      "cba\n"
     ]
    }
   ],
   "source": [
    "# Reversing a String\n",
    "my_string = \"abcd\"\n",
    "reverse = my_string[2::-1]\n",
    "print(reverse)"
   ]
  },
  {
   "cell_type": "code",
   "execution_count": 93,
   "id": "6a7193f2",
   "metadata": {},
   "outputs": [
    {
     "name": "stdout",
     "output_type": "stream",
     "text": [
      "7531\n",
      "7531\n",
      "8642\n",
      "8642\n"
     ]
    }
   ],
   "source": [
    "all_numbers = \"12345678\"\n",
    "#              01234567\n",
    "odd_numbers = all_numbers[6::-2]\n",
    "print(odd_numbers)\n",
    "odd_numbers = all_numbers[-2::-2]\n",
    "print(odd_numbers)\n",
    "\n",
    "evan_numbers = all_numbers[::-2]\n",
    "print(evan_numbers)\n",
    "evan_numbers = all_numbers[7::-2]\n",
    "print(evan_numbers)\n",
    "\n"
   ]
  },
  {
   "cell_type": "markdown",
   "id": "033d39e4",
   "metadata": {},
   "source": [
    "## String Methods"
   ]
  },
  {
   "cell_type": "code",
   "execution_count": 1,
   "id": "3b2d0094",
   "metadata": {},
   "outputs": [
    {
     "data": {
      "text/plain": [
       "'Begging of a line'"
      ]
     },
     "execution_count": 1,
     "metadata": {},
     "output_type": "execute_result"
    }
   ],
   "source": [
    "\"begging of a line\".capitalize()"
   ]
  },
  {
   "cell_type": "code",
   "execution_count": 12,
   "id": "5abd01a9",
   "metadata": {},
   "outputs": [
    {
     "name": "stdout",
     "output_type": "stream",
     "text": [
      "3\n",
      "1\n",
      "2\n",
      "1\n"
     ]
    }
   ],
   "source": [
    "challenge = 'thirty days of python'\n",
    "print(challenge.count('y')) # 3\n",
    "print(challenge.count('y', 7, 14)) # 1, \n",
    "print(challenge.count('th')) # 2`\n",
    "print(challenge.count(challenge))"
   ]
  },
  {
   "cell_type": "code",
   "execution_count": 11,
   "id": "aad4ae80",
   "metadata": {},
   "outputs": [
    {
     "name": "stdout",
     "output_type": "stream",
     "text": [
      "2\n",
      "3\n"
     ]
    }
   ],
   "source": [
    "# print(\"ABabABab\".count(\"A\"))\n",
    "# assert \"ABabABab\".count(\"A\") == 2\n",
    "# assert \"ABabABab\".count(\"b\") == 2\n",
    "\n",
    "assert \"ABabABab\".count(\"b\",0,7) == 1\n",
    "#*      01234567\n",
    "print(\"ABabABab\".count(\"B\",0,7))\n",
    "print(\"ABabABab\".lower().count(\"b\",0,7))\n"
   ]
  },
  {
   "cell_type": "code",
   "execution_count": null,
   "id": "37d45abd",
   "metadata": {},
   "outputs": [
    {
     "name": "stdout",
     "output_type": "stream",
     "text": [
      "Ahmed\n",
      "True\n",
      "true\n"
     ]
    }
   ],
   "source": [
    "name = \"Ahmed\"\n",
    "refined_name = name\n",
    "last_letter = name[-1]\n",
    "\n",
    "if name.endswith(\".\"):\n",
    "    #delete it\n",
    "    refined_name = name[0:-1]\n",
    "print(refined_name)\n",
    "\n",
    "print(name.startswith(\"A\"))\n",
    "\n",
    "\n",
    "# if True:\n",
    "#     print(\"true\")\n",
    "    \n",
    "# if False:\n",
    "#     print(\"False\")"
   ]
  },
  {
   "cell_type": "code",
   "execution_count": null,
   "id": "e6dd9d62",
   "metadata": {},
   "outputs": [
    {
     "name": "stdout",
     "output_type": "stream",
     "text": [
      "A\tB\n",
      "len secntence =  3\n",
      "A        B\n",
      "len expanded =  10\n"
     ]
    }
   ],
   "source": [
    "sentence = \"A\\tB\"\n",
    "#*              8           8        7\n",
    "print(sentence)\n",
    "print(\"len secntence = \", len(sentence))\n",
    "expanded_tab = sentence.expandtabs(9)\n",
    "print(expanded_tab)\n",
    "print(\"len expanded = \", len(expanded_tab))\n",
    "\n",
    "''' \n",
    "@ chatGPT\n",
    "Why is len(expanded_tab) == 9?\n",
    "The expandtabs(8) method replaces \\t with enough spaces to move to the next multiple of 8 columns.\n",
    "\n",
    "Let’s simulate how it works:\n",
    "\n",
    "'A' is at column 0\n",
    "\n",
    "The \\t wants to move to the next multiple of 8, which is column 8\n",
    "\n",
    "So, from column 1 to 8, it needs to add 7 spaces\n",
    "\n",
    "So the tab becomes 7 spaces.\n",
    "\n",
    "Then 'B' is printed at column 8.\n",
    "\n",
    "Therefore, expanded_tab becomes:\n",
    "\n",
    "bash\n",
    "Copy\n",
    "Edit\n",
    "'A       B'\n",
    "(1 for 'A' + 7 spaces + 1 for 'B' = 9 characters)'''"
   ]
  },
  {
   "cell_type": "code",
   "execution_count": 32,
   "id": "90284db3",
   "metadata": {},
   "outputs": [
    {
     "name": "stdout",
     "output_type": "stream",
     "text": [
      "5\n",
      "16\n",
      "0\n",
      "17\n"
     ]
    }
   ],
   "source": [
    "#find()\n",
    "\n",
    "challenge = 'thirty days of python'\n",
    "#*           0123456789\n",
    "print(challenge.find('y'))  # 5\n",
    "print(challenge.rfind('y')) #16\n",
    "\n",
    "print(challenge.find('th')) # 0\n",
    "print(challenge.rfind('th')) #17"
   ]
  },
  {
   "cell_type": "code",
   "execution_count": 39,
   "id": "fa1b371f",
   "metadata": {},
   "outputs": [
    {
     "name": "stdout",
     "output_type": "stream",
     "text": [
      "3\n",
      "8\n",
      "10\n"
     ]
    }
   ],
   "source": [
    "name = \"Ahemd Ammar\"\n",
    "#*      012345678910\n",
    "\n",
    "print(name.index(\"m\"))\n",
    "print(name.rindex(\"m\"))\n",
    "# print(name.index(\"r\",6,10)) # value error\n",
    "\n",
    "print(name.index(\"r\",6,11)) # 10"
   ]
  },
  {
   "cell_type": "code",
   "execution_count": 40,
   "id": "5ea8d8ee",
   "metadata": {},
   "outputs": [
    {
     "name": "stdout",
     "output_type": "stream",
     "text": [
      "True\n",
      "True\n",
      "False\n",
      "False\n"
     ]
    }
   ],
   "source": [
    "challenge = 'ThirtyDaysPython'\n",
    "print(challenge.isalnum()) # True\n",
    "\n",
    "challenge = '30DaysPython'\n",
    "print(challenge.isalnum()) # True\n",
    "\n",
    "challenge = 'thirty days of python'\n",
    "print(challenge.isalnum()) # False, space is not an alphanumeric character\n",
    "\n",
    "challenge = 'thirty days of python 2019'\n",
    "print(challenge.isalnum()) # False"
   ]
  },
  {
   "cell_type": "code",
   "execution_count": 43,
   "id": "dc119f69",
   "metadata": {},
   "outputs": [
    {
     "name": "stdout",
     "output_type": "stream",
     "text": [
      "invalid password\n"
     ]
    }
   ],
   "source": [
    "password = input(\"write your password\")\n",
    "\n",
    "if password.isalnum():\n",
    "    print(\"password changed successfully \\nyour new passowrd is {}\".format(password))\n",
    "else:\n",
    "    print(\"invalid password\")"
   ]
  },
  {
   "cell_type": "code",
   "execution_count": 48,
   "id": "c7491cee",
   "metadata": {},
   "outputs": [
    {
     "name": "stdout",
     "output_type": "stream",
     "text": [
      "AmmarOsman\n",
      "Thank you\n"
     ]
    }
   ],
   "source": [
    "name = input(\"Enter your name\")\n",
    "modified_name = name.replace(\" \",\"\")\n",
    "print(modified_name)\n",
    "if modified_name.isalpha():\n",
    "    print(\"Thank you\")\n",
    "else:\n",
    "    print(\"you don't know your name?\")"
   ]
  },
  {
   "cell_type": "code",
   "execution_count": 55,
   "id": "c15c84ba",
   "metadata": {},
   "outputs": [
    {
     "name": "stdout",
     "output_type": "stream",
     "text": [
      "❤\n",
      "1\n",
      "False\n",
      "False\n",
      "²\n",
      "True\n",
      "False\n"
     ]
    }
   ],
   "source": [
    "char = \"\\u2764\"   # ❤️ (heart)\n",
    "print(char)         \n",
    "print(len(char))   \n",
    "\n",
    "print(char.isdigit())\n",
    "print(char.isdecimal())\n",
    "\n",
    "challenge = '\\u00B2'\n",
    "print(challenge)\n",
    "print(challenge.isdigit()) \n",
    "print(challenge.isdecimal())\n"
   ]
  },
  {
   "cell_type": "code",
   "execution_count": 57,
   "id": "a83bf8d3",
   "metadata": {},
   "outputs": [
    {
     "name": "stdout",
     "output_type": "stream",
     "text": [
      "½\n",
      "False\n",
      "False\n",
      "True\n"
     ]
    }
   ],
   "source": [
    "half = '\\u00BD'\n",
    "print(half)\n",
    "\n",
    "print(half.isdecimal())\n",
    "print(half.isdigit())\n",
    "print(half.isnumeric())"
   ]
  },
  {
   "cell_type": "code",
   "execution_count": 63,
   "id": "f5a0298d",
   "metadata": {},
   "outputs": [
    {
     "data": {
      "text/plain": [
       "False"
      ]
     },
     "execution_count": 63,
     "metadata": {},
     "output_type": "execute_result"
    }
   ],
   "source": [
    "# isidentifier\n",
    "\"1_variable\".isidentifier()\n"
   ]
  },
  {
   "cell_type": "code",
   "execution_count": 64,
   "id": "e83f51f7",
   "metadata": {},
   "outputs": [
    {
     "name": "stdout",
     "output_type": "stream",
     "text": [
      "True\n",
      "False\n"
     ]
    }
   ],
   "source": [
    "challenge = 'thirty days of python'\n",
    "print(challenge.islower()) # True\n",
    "challenge = 'Thirty days of python'\n",
    "print(challenge.islower()) # False"
   ]
  },
  {
   "cell_type": "code",
   "execution_count": null,
   "id": "56b85f69",
   "metadata": {},
   "outputs": [],
   "source": [
    "challenge = 'thirty days of python'\n",
    "print(challenge.isupper()) #  False\n",
    "challenge = 'THIRTY DAYS OF PYTHON'\n",
    "print(challenge.isupper()) # True"
   ]
  },
  {
   "cell_type": "code",
   "execution_count": 109,
   "id": "e9d5cbb2",
   "metadata": {},
   "outputs": [
    {
     "name": "stdout",
     "output_type": "stream",
     "text": [
      "['Ahmed', 'Ammar', 'Sanosi']\n",
      "Ahmed Ammar\n"
     ]
    }
   ],
   "source": [
    "#* join\n",
    "\n",
    "name = \"Ahmed Ammar Sanosi\"\n",
    "#*      0123456789\n",
    "#*        0     1      2\n",
    "\n",
    "# [\"Ahmed', \"Ammar\", \"Sanosi\"]\n",
    "\n",
    "splited_name = name.split()\n",
    "print(splited_name)\n",
    "\n",
    "if splited_name[-1] == \"Sanosi\":\n",
    "    new_name = splited_name[0:-1]\n",
    "    joined_new_name = \" \".join(new_name)\n",
    "    \n",
    "print(joined_new_name)"
   ]
  },
  {
   "cell_type": "code",
   "execution_count": 100,
   "id": "7d7aff21",
   "metadata": {},
   "outputs": [
    {
     "name": "stdout",
     "output_type": "stream",
     "text": [
      "1abcxzxcd0\n",
      "xzx\n"
     ]
    }
   ],
   "source": [
    "my_string = \"abcxzxcd\"\n",
    "print(\"1\" + my_string.strip() + \"0\")\n",
    "print(my_string.strip(\"dabzc\"))\n",
    "\n",
    "# Black boxes\n",
    "#* Bahovior input --> output\n",
    "# Strategy \n",
    "# implementation "
   ]
  },
  {
   "cell_type": "code",
   "execution_count": 104,
   "id": "a6a3e917",
   "metadata": {},
   "outputs": [
    {
     "name": "stdout",
     "output_type": "stream",
     "text": [
      "abYxzxcd\n"
     ]
    }
   ],
   "source": [
    "print(my_string.replace(\"c\",\"Y\",1))"
   ]
  },
  {
   "cell_type": "code",
   "execution_count": 106,
   "id": "d1512af7",
   "metadata": {},
   "outputs": [
    {
     "name": "stdout",
     "output_type": "stream",
     "text": [
      "lower is:  aabb ccdd\n",
      "upper is  AABB CCDD\n",
      "title is Aabb Ccdd\n",
      "swap is  aAbB CcDd\n"
     ]
    }
   ],
   "source": [
    "new_str = \"AaBb cCdD\"\n",
    "\n",
    "lower = new_str.lower() # \"aabb ccdd\"\n",
    "upper = new_str.upper() # \"AABB CCDD\"\n",
    "title = new_str.title() # \"Aabb Ccdd\" or \"AaBb CCdD\"\n",
    "swap = new_str.swapcase() # \"aAbB CcDd\"\n",
    "\n",
    "print(\"lower is: \", lower)\n",
    "print(\"upper is \", upper)\n",
    "print(\"title is\" , title)\n",
    "print(\"swap is \", swap)"
   ]
  }
 ],
 "metadata": {
  "kernelspec": {
   "display_name": "base",
   "language": "python",
   "name": "python3"
  },
  "language_info": {
   "codemirror_mode": {
    "name": "ipython",
    "version": 3
   },
   "file_extension": ".py",
   "mimetype": "text/x-python",
   "name": "python",
   "nbconvert_exporter": "python",
   "pygments_lexer": "ipython3",
   "version": "3.12.7"
  }
 },
 "nbformat": 4,
 "nbformat_minor": 5
}
