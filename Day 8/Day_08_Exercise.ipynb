{
 "cells": [
  {
   "cell_type": "code",
   "execution_count": 4,
   "id": "ca13227f",
   "metadata": {},
   "outputs": [
    {
     "name": "stdout",
     "output_type": "stream",
     "text": [
      "9\n",
      "<class 'list'>\n",
      "['professional sleeping', 'graphic design', 'animation', 'primitive coding', 'Turkish', 'CAD Modeling']\n"
     ]
    }
   ],
   "source": [
    "student = {\n",
    "    'name':'Ahmed',\n",
    "    'surname':'Sanosi',\n",
    "    'gender':'male',\n",
    "    'age':'??',\n",
    "    'martial status':'single variable calculus',\n",
    "    'skills':['professional sleeping','graphic design', 'animation','primitive coding'],\n",
    "    'country':'Sudan',\n",
    "    'city':'Khartoum',\n",
    "    'address':'Square 1'\n",
    "} #3\n",
    "\n",
    "print(len(student)) #4\n",
    "\n",
    "skills_type = type(student['skills']) #5\n",
    "print(skills_type)\n",
    "\n",
    "# student['skills'] = student['skills'].append('Turkish') #! Wrong\n",
    "student['skills'].extend([\"Turkish\", \"CAD Modeling\"])\n",
    "\n",
    "print(student[\"skills\"])"
   ]
  },
  {
   "cell_type": "code",
   "execution_count": 5,
   "id": "a4dab0b5",
   "metadata": {},
   "outputs": [
    {
     "name": "stdout",
     "output_type": "stream",
     "text": [
      "dict_items([('name', 'Ahmed'), ('surname', 'Sanosi'), ('gender', 'male'), ('age', '??'), ('martial status', 'single variable calculus'), ('skills', ['professional sleeping', 'graphic design', 'animation', 'primitive coding', 'Turkish', 'CAD Modeling']), ('country', 'Sudan'), ('city', 'Khartoum'), ('address', 'Square 1')])\n"
     ]
    }
   ],
   "source": [
    "stuple = student.items() #9\n",
    "print(stuple)\n"
   ]
  },
  {
   "cell_type": "code",
   "execution_count": 6,
   "id": "b9682535",
   "metadata": {},
   "outputs": [
    {
     "name": "stdout",
     "output_type": "stream",
     "text": [
      "{'name': 'Ahmed', 'surname': 'Sanosi', 'gender': 'male', 'age': '??', 'skills': ['professional sleeping', 'graphic design', 'animation', 'primitive coding', 'Turkish', 'CAD Modeling'], 'country': 'Sudan', 'city': 'Khartoum', 'address': 'Square 1'}\n",
      "single variable calculus\n"
     ]
    }
   ],
   "source": [
    "ms = student.pop('martial status')\n",
    "print(student)\n",
    "print(ms)"
   ]
  }
 ],
 "metadata": {
  "kernelspec": {
   "display_name": "base",
   "language": "python",
   "name": "python3"
  },
  "language_info": {
   "codemirror_mode": {
    "name": "ipython",
    "version": 3
   },
   "file_extension": ".py",
   "mimetype": "text/x-python",
   "name": "python",
   "nbconvert_exporter": "python",
   "pygments_lexer": "ipython3",
   "version": "3.12.7"
  }
 },
 "nbformat": 4,
 "nbformat_minor": 5
}
