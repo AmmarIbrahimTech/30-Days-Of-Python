{
 "cells": [
  {
   "cell_type": "code",
   "execution_count": 1,
   "id": "7206bd35",
   "metadata": {},
   "outputs": [
    {
     "name": "stdout",
     "output_type": "stream",
     "text": [
      "7\n",
      "{'Oracle', 'Google', 'Facebook', 'Microsoft', 'Amazon', 'IBM', 'Apple', 'Twitter'}\n",
      "{'Oracle', 'Facebook', 'Lenovo', 'Samsung', 'Twitter', 'Dell', 'IBM', 'Google', 'Microsoft', 'Amazon', 'Apple'}\n"
     ]
    }
   ],
   "source": [
    "it_companies = {'Facebook', 'Google', 'Microsoft', 'Apple', 'IBM', 'Oracle', 'Amazon'}\n",
    "\n",
    "print(len(it_companies)) #1\n",
    "it_companies.add('Twitter') #2\n",
    "print(it_companies)\n",
    "\n",
    "it_companies.update(['Lenovo','Samsung','Dell'])\n",
    "print(it_companies) #3\n"
   ]
  },
  {
   "cell_type": "code",
   "execution_count": 2,
   "id": "9f959bc8",
   "metadata": {},
   "outputs": [
    {
     "name": "stdout",
     "output_type": "stream",
     "text": [
      "We have randomly selected Oracle and removed it from the set.\n"
     ]
    }
   ],
   "source": [
    "random_pop = it_companies.pop() #4\n",
    "print(f\"We have randomly selected {random_pop} and removed it from the set.\")"
   ]
  },
  {
   "cell_type": "code",
   "execution_count": 5,
   "id": "6a54d12e",
   "metadata": {},
   "outputs": [
    {
     "name": "stdout",
     "output_type": "stream",
     "text": [
      "None\n"
     ]
    }
   ],
   "source": [
    "diff_test = input('Enter a random value to test: ')\n",
    "random_pop2 = it_companies.discard(diff_test)\n",
    "\n",
    "print(random_pop2)"
   ]
  },
  {
   "cell_type": "code",
   "execution_count": 8,
   "id": "f45f28cb",
   "metadata": {},
   "outputs": [
    {
     "name": "stdout",
     "output_type": "stream",
     "text": [
      "1\n",
      "2\n",
      "3\n",
      "4\n"
     ]
    }
   ],
   "source": [
    "set_ = {1,2,3,4}\n",
    "\n",
    "for num in set_:\n",
    "    print(num)"
   ]
  },
  {
   "cell_type": "code",
   "execution_count": 9,
   "id": "588b7c7e",
   "metadata": {},
   "outputs": [
    {
     "name": "stdout",
     "output_type": "stream",
     "text": [
      "['I', 'am', 'a', 'teacher', 'and', 'I', 'love', 'to', 'inspire', 'and', 'teach', 'people.']\n",
      "The unique words used in the sentence are:\n",
      " {'teacher', 'inspire', 'people.', 'a', 'teach', 'and', 'love', 'to', 'I', 'am'}\n"
     ]
    }
   ],
   "source": [
    "sentence = \"I am a teacher and I love to inspire and teach people.\"\n",
    "sentence_list = sentence.split()\n",
    "print(sentence_list)\n",
    "sentence_set = set(sentence_list)\n",
    "print(\"The unique words used in the sentence are:\\n\", sentence_set)"
   ]
  }
 ],
 "metadata": {
  "kernelspec": {
   "display_name": "base",
   "language": "python",
   "name": "python3"
  },
  "language_info": {
   "codemirror_mode": {
    "name": "ipython",
    "version": 3
   },
   "file_extension": ".py",
   "mimetype": "text/x-python",
   "name": "python",
   "nbconvert_exporter": "python",
   "pygments_lexer": "ipython3",
   "version": "3.12.7"
  }
 },
 "nbformat": 4,
 "nbformat_minor": 5
}
