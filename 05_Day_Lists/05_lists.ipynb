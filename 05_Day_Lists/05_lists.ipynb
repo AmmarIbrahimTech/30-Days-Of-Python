{
 "cells": [
  {
   "cell_type": "markdown",
   "id": "81c2de9a",
   "metadata": {},
   "source": [
    "# Day 5 - Lists"
   ]
  },
  {
   "cell_type": "markdown",
   "id": "f4820daa",
   "metadata": {},
   "source": [
    "A list is collection of different data types which is ordered and modifiable(mutable). A list can be empty or it may have different data type items."
   ]
  },
  {
   "cell_type": "code",
   "execution_count": 3,
   "id": "1de861a8",
   "metadata": {},
   "outputs": [
    {
     "name": "stdout",
     "output_type": "stream",
     "text": [
      "[]\n"
     ]
    }
   ],
   "source": [
    "#Creat a list\n",
    "\n",
    "my_list = []\n",
    "my_list = list()\n",
    "\n",
    "\n",
    "# for kida in range(5):\n",
    "#     my_list.append(\"a\")\n",
    "\n",
    "print(my_list)"
   ]
  },
  {
   "cell_type": "code",
   "execution_count": 4,
   "id": "579e664a",
   "metadata": {},
   "outputs": [],
   "source": [
    "fruits = ['banana', 'orange', 'mango', 'lemon']                     # list of fruits\n",
    "vegetables = ['Tomato', 'Potato', 'Cabbage','Onion', 'Carrot']      # list of vegetables\n",
    "animal_products = ['milk', 'meat', 'butter', 'yoghurt']             # list of animal products\n",
    "web_techs = ['HTML', 'CSS', 'JS', 'React','Redux', 'Node', 'MongDB'] # list of web technologies\n",
    "countries = ['Finland', 'Estonia', 'Denmark', 'Sweden', 'Norway']\n"
   ]
  },
  {
   "cell_type": "code",
   "execution_count": 5,
   "id": "d24095c1",
   "metadata": {},
   "outputs": [
    {
     "name": "stdout",
     "output_type": "stream",
     "text": [
      "Fruits: ['banana', 'orange', 'mango', 'lemon']\n",
      "Number of fruits: 4\n",
      "Vegetables: ['Tomato', 'Potato', 'Cabbage', 'Onion', 'Carrot']\n",
      "Number of vegetables: 5\n",
      "Animal products: ['milk', 'meat', 'butter', 'yoghurt']\n",
      "Number of animal products: 4\n",
      "Web technologies: ['HTML', 'CSS', 'JS', 'React', 'Redux', 'Node', 'MongDB']\n",
      "Number of web technologies: 7\n",
      "Countries: ['Finland', 'Estonia', 'Denmark', 'Sweden', 'Norway']\n",
      "Number of countries: 5\n"
     ]
    }
   ],
   "source": [
    "print('Fruits:', fruits)\n",
    "print('Number of fruits:', len(fruits))\n",
    "print('Vegetables:', vegetables)\n",
    "print('Number of vegetables:', len(vegetables))\n",
    "print('Animal products:',animal_products)\n",
    "print('Number of animal products:', len(animal_products))\n",
    "print('Web technologies:', web_techs)\n",
    "print('Number of web technologies:', len(web_techs))\n",
    "print('Countries:', countries)\n",
    "print('Number of countries:', len(countries))"
   ]
  },
  {
   "cell_type": "code",
   "execution_count": 7,
   "id": "1c8e5012",
   "metadata": {},
   "outputs": [],
   "source": [
    "# Lists can have items of different data types\n",
    "\n",
    "coshry_list = ['A', 1, [['a','b'], ['c',1]], {'country':'Finland', 'city':'Helsinki'}, True, my_list]"
   ]
  },
  {
   "cell_type": "code",
   "execution_count": 9,
   "id": "53eb6c2a",
   "metadata": {},
   "outputs": [
    {
     "name": "stdout",
     "output_type": "stream",
     "text": [
      "b\n"
     ]
    }
   ],
   "source": [
    "print(coshry_list[2][0][1])"
   ]
  },
  {
   "cell_type": "markdown",
   "id": "a1d030d8",
   "metadata": {},
   "source": [
    "## Indexing"
   ]
  },
  {
   "cell_type": "code",
   "execution_count": null,
   "id": "be2e037c",
   "metadata": {},
   "outputs": [
    {
     "name": "stdout",
     "output_type": "stream",
     "text": [
      "lemon\n"
     ]
    }
   ],
   "source": [
    "# +ve\n",
    "last_index = len(fruits) - 1\n",
    "last_fruit = fruits[last_index]\n",
    "print(last_fruit)"
   ]
  },
  {
   "cell_type": "code",
   "execution_count": 26,
   "id": "ef495ee7",
   "metadata": {},
   "outputs": [
    {
     "name": "stdout",
     "output_type": "stream",
     "text": [
      "['Ammar', 'Osman', 'Ahmed', 'Ibrahim']\n",
      "['Ammar', 'Osman']\n"
     ]
    }
   ],
   "source": [
    "name_list = \"Ammar Osman Ahmed Ibrahim\".split()\n",
    "print(name_list)\n",
    "\n",
    "*remaning, third_name,last_name = name_list\n",
    "\n",
    "print(remaning)"
   ]
  },
  {
   "cell_type": "code",
   "execution_count": 28,
   "id": "60d6e775",
   "metadata": {},
   "outputs": [
    {
     "name": "stdout",
     "output_type": "stream",
     "text": [
      "[2, 3, 4, 5, 6, 7, 8]\n"
     ]
    }
   ],
   "source": [
    "I, * rest, IX,X = [1,2,3,4,5,6,7,8,9,10]\n",
    "\n",
    "print(rest)\n"
   ]
  },
  {
   "cell_type": "markdown",
   "id": "84905f9e",
   "metadata": {},
   "source": [
    "## Slicing"
   ]
  },
  {
   "cell_type": "code",
   "execution_count": null,
   "id": "969f68e6",
   "metadata": {},
   "outputs": [
    {
     "name": "stdout",
     "output_type": "stream",
     "text": [
      "['banana', 'orange', 'mango', 'lemon']\n"
     ]
    }
   ],
   "source": [
    "fruits = ['banana', 'orange', 'mango', 'lemon']\n",
    "all_fruits = fruits[0:4]\n",
    "all_fruits = fruits[:]\n",
    "print(all_fruits)\n",
    "\n"
   ]
  },
  {
   "cell_type": "code",
   "execution_count": 41,
   "id": "fc9a266d",
   "metadata": {},
   "outputs": [
    {
     "name": "stdout",
     "output_type": "stream",
     "text": [
      "[2, 4, 6, 8]\n",
      "[1, 3, 5, 7, 9]\n",
      "[8, 6, 4, 2]\n",
      "[9, 7, 5, 3, 1]\n"
     ]
    }
   ],
   "source": [
    "numbers = [1,2,3,4,5,6,7,8,9]\n",
    "\n",
    "evan_numbers = numbers[1::2]\n",
    "odd_numbers = numbers[::2]\n",
    "print(evan_numbers)\n",
    "print(odd_numbers)\n",
    "\n",
    "evan_numbers = numbers[-2::-2]\n",
    "odd_numbers = numbers[-1::-2]\n",
    "print(evan_numbers)\n",
    "print(odd_numbers)"
   ]
  },
  {
   "cell_type": "markdown",
   "id": "30b4420e",
   "metadata": {},
   "source": [
    "## Modifying Lists"
   ]
  },
  {
   "cell_type": "code",
   "execution_count": 45,
   "id": "8296185c",
   "metadata": {},
   "outputs": [
    {
     "name": "stdout",
     "output_type": "stream",
     "text": [
      "['avocado', 'apple', 'mango', 'lime', 'dates']\n"
     ]
    }
   ],
   "source": [
    "fruits = ['banana', 'orange', 'mango', 'lemon']\n",
    "\n",
    "fruits[0] = \"avocado\"\n",
    "fruits[1] = \"apple\"\n",
    "# fruits[4] = 'dates'\n",
    "#IndexError: list assignment index out of range\n",
    "fruits[-1] = \"lime\"\n",
    "\n",
    "fruits.append('dates')\n",
    "\n",
    "print(fruits)\n"
   ]
  },
  {
   "cell_type": "code",
   "execution_count": null,
   "id": "f3d3532f",
   "metadata": {},
   "outputs": [
    {
     "name": "stdout",
     "output_type": "stream",
     "text": [
      "False\n",
      "True\n"
     ]
    }
   ],
   "source": [
    "print('banana' in fruits)\n",
    "print('avocado' in fruits)"
   ]
  },
  {
   "cell_type": "code",
   "execution_count": null,
   "id": "ac38b0cc",
   "metadata": {},
   "outputs": [
    {
     "name": "stdout",
     "output_type": "stream",
     "text": [
      "2\n",
      "['avocado', 'apple', 'banana', 'mango', 'lime', 'dates']\n",
      "3\n",
      "['avocado', 'apple', 'banana', 'mango', 'lime', 'last', 'dates']\n"
     ]
    }
   ],
   "source": [
    "fruits = ['avocado', 'apple', 'mango', 'lime', 'dates']\n",
    "print(fruits.index('mango'))\n",
    "\n",
    "fruits.insert(2, 'banana')\n",
    "print(fruits)\n",
    "\n",
    "print(fruits.index('mango'))\n",
    "\n",
    "\n",
    "fruits.insert(-1, 'last')\n",
    "#! Interesting output\n",
    "print(fruits)\n"
   ]
  },
  {
   "cell_type": "code",
   "execution_count": null,
   "id": "3697def4",
   "metadata": {},
   "outputs": [
    {
     "name": "stdout",
     "output_type": "stream",
     "text": [
      "['avocado', 'apple', 'banana', 'mango', 'lime', 'dates']\n"
     ]
    }
   ],
   "source": [
    "#emove \n",
    "\n",
    "fruits.remove('last')\n",
    "print(fruits)"
   ]
  },
  {
   "cell_type": "code",
   "execution_count": null,
   "id": "c1730024",
   "metadata": {},
   "outputs": [
    {
     "name": "stdout",
     "output_type": "stream",
     "text": [
      "['avocado', 'apple', 'banana', 'mango', 'lime']\n"
     ]
    }
   ],
   "source": [
    "#pop\n",
    "\n",
    "fruits.pop()\n",
    "print(fruits)"
   ]
  },
  {
   "cell_type": "code",
   "execution_count": null,
   "id": "ebbd2533",
   "metadata": {},
   "outputs": [
    {
     "name": "stdout",
     "output_type": "stream",
     "text": [
      "['apple', 'banana', 'mango', 'lime']\n"
     ]
    }
   ],
   "source": [
    "fruits.pop(0)\n",
    "print(fruits)"
   ]
  },
  {
   "cell_type": "code",
   "execution_count": 59,
   "id": "e2e435d5",
   "metadata": {},
   "outputs": [
    {
     "name": "stdout",
     "output_type": "stream",
     "text": [
      "['mango', 'lime']\n"
     ]
    }
   ],
   "source": [
    "#del \n",
    "\n",
    "# del fruits\n",
    "del fruits[0:2]\n",
    "print(fruits)"
   ]
  },
  {
   "cell_type": "code",
   "execution_count": null,
   "id": "faef7400",
   "metadata": {},
   "outputs": [],
   "source": []
  }
 ],
 "metadata": {
  "kernelspec": {
   "display_name": "base",
   "language": "python",
   "name": "python3"
  },
  "language_info": {
   "codemirror_mode": {
    "name": "ipython",
    "version": 3
   },
   "file_extension": ".py",
   "mimetype": "text/x-python",
   "name": "python",
   "nbconvert_exporter": "python",
   "pygments_lexer": "ipython3",
   "version": "3.12.7"
  }
 },
 "nbformat": 4,
 "nbformat_minor": 5
}
