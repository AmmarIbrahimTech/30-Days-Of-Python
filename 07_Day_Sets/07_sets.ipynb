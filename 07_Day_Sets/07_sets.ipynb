{
 "cells": [
  {
   "cell_type": "markdown",
   "id": "9ac1e70c",
   "metadata": {},
   "source": [
    "# Sets"
   ]
  },
  {
   "cell_type": "markdown",
   "id": "b086db6f",
   "metadata": {},
   "source": [
    "## Creating a Set"
   ]
  },
  {
   "cell_type": "code",
   "execution_count": 21,
   "id": "95d2468f",
   "metadata": {},
   "outputs": [
    {
     "name": "stdout",
     "output_type": "stream",
     "text": [
      "<class 'set'>\n",
      "<class 'dict'>\n"
     ]
    }
   ],
   "source": [
    "# st:set = {}\n",
    "#dict\n",
    "\n",
    "st = set()\n",
    "\n",
    "st = {1,2,3,4}\n",
    "\n",
    "dct = {\"Key\":1,\"key2\":2 }\n",
    "print(type(st))\n",
    "print(type(dct))"
   ]
  },
  {
   "cell_type": "code",
   "execution_count": 3,
   "id": "9b0175e3",
   "metadata": {},
   "outputs": [
    {
     "name": "stdout",
     "output_type": "stream",
     "text": [
      "True\n"
     ]
    }
   ],
   "source": [
    "st = {'item1', 'item2', 'item3', 'item4'}\n",
    "is_in_set = 'item3' in st\n",
    "print(is_in_set)"
   ]
  },
  {
   "cell_type": "markdown",
   "id": "91ab8db8",
   "metadata": {},
   "source": [
    "## Adding Items to a Set"
   ]
  },
  {
   "cell_type": "code",
   "execution_count": 12,
   "id": "4eefcd7d",
   "metadata": {},
   "outputs": [
    {
     "name": "stdout",
     "output_type": "stream",
     "text": [
      "{'item1'}\n"
     ]
    }
   ],
   "source": [
    "st = {'item1', 'item1'}\n",
    "print(st)\n",
    "\n"
   ]
  },
  {
   "cell_type": "code",
   "execution_count": 16,
   "id": "336ccde5",
   "metadata": {},
   "outputs": [
    {
     "name": "stdout",
     "output_type": "stream",
     "text": [
      "{'item2', 'item1', 'item6', 'item4', 'item7', 'item5', 'item3'}\n"
     ]
    }
   ],
   "source": [
    "# syntax\n",
    "st = {'item1', 'item2', 'item3', 'item4'}\n",
    "st.update(('item5','item6','item7'))\n",
    "print(st)"
   ]
  },
  {
   "cell_type": "markdown",
   "id": "463586fd",
   "metadata": {},
   "source": [
    "## Removing Items from a Set\n",
    "We can remove an item from a set using remove() method. If the item is not found remove() method will raise errors, so it is good to check if the item exist in the given set. However, discard() method doesn't raise any errors."
   ]
  },
  {
   "cell_type": "code",
   "execution_count": 28,
   "id": "9c44fc5d",
   "metadata": {},
   "outputs": [
    {
     "name": "stdout",
     "output_type": "stream",
     "text": [
      "{'item1', 'item4', 'item3'}\n",
      "itme5 not found\n"
     ]
    }
   ],
   "source": [
    "st = {'item1', 'item2', 'item3', 'item4'}\n",
    "st.remove('item2')\n",
    "print(st)\n",
    "\n",
    "# if \"item5\" in st:\n",
    "#     st.remove(\"item5\")\n",
    "# else:\n",
    "#     print(\"item5 not found\")\n",
    "\n",
    "try:\n",
    "    st.remove(\"item5\")\n",
    "except KeyError:\n",
    "    print(\"itme5 not found\")"
   ]
  },
  {
   "cell_type": "code",
   "execution_count": 20,
   "id": "7a98b2c4",
   "metadata": {},
   "outputs": [
    {
     "name": "stdout",
     "output_type": "stream",
     "text": [
      "{'item1', 'item4', 'item3', 'item2'}\n"
     ]
    }
   ],
   "source": [
    "st = {'item1', 'item2', 'item3', 'item4'}\n",
    "st.discard(\"item5\")\n",
    "print(st)"
   ]
  },
  {
   "cell_type": "code",
   "execution_count": 40,
   "id": "903b0ffd",
   "metadata": {},
   "outputs": [
    {
     "data": {
      "text/plain": [
       "'orange'"
      ]
     },
     "execution_count": 40,
     "metadata": {},
     "output_type": "execute_result"
    }
   ],
   "source": [
    "fruits = {'banana', 'orange', 'mango', 'lemon'}\n",
    "fruits.pop()\n",
    "\n",
    "# fruits = ['banana', 'orange', 'mango', 'lemon', 'apple']\n",
    "# fruits.pop(0)"
   ]
  },
  {
   "cell_type": "code",
   "execution_count": 49,
   "id": "3c6147e7",
   "metadata": {},
   "outputs": [
    {
     "name": "stdout",
     "output_type": "stream",
     "text": [
      "removed fruit is: orange\n",
      "remaining fruits are: {'mango', 'banana', 'lemon'}\n",
      "removed number is: 1\n",
      "remaining numbers are: {2, 3, 4}\n"
     ]
    }
   ],
   "source": [
    "fruits = {'banana', 'orange', 'mango', 'lemon'}\n",
    "removed_item = fruits.pop() \n",
    "\n",
    "numbers = {1,2,3,4}\n",
    "removed_number = numbers.pop()\n",
    "\n",
    "print(f\"removed fruit is: {removed_item}\")\n",
    "print (f\"remaining fruits are: {fruits}\")\n",
    "\n",
    "print(f\"removed number is: {removed_number}\")\n",
    "print (f\"remaining numbers are: {numbers}\")"
   ]
  },
  {
   "cell_type": "code",
   "execution_count": 54,
   "id": "671c2aaf",
   "metadata": {},
   "outputs": [
    {
     "name": "stdout",
     "output_type": "stream",
     "text": [
      "set()\n",
      "[]\n",
      "()\n"
     ]
    }
   ],
   "source": [
    "# syntax\n",
    "st = {'item1', 'item2', 'item3', 'item4'}\n",
    "st.clear()\n",
    "print(st)\n",
    "\n",
    "lst = [1,2,3]\n",
    "lst.clear()\n",
    "print(lst)\n",
    "\n",
    "tpl = (1,2,3)\n",
    "#! tpl.clear()\n",
    "tpl = ()\n",
    "print(tpl)"
   ]
  },
  {
   "cell_type": "code",
   "execution_count": null,
   "id": "4b1fd190",
   "metadata": {},
   "outputs": [],
   "source": [
    "st = {'item1', 'item2', 'item3', 'item4'}\n",
    "del st"
   ]
  },
  {
   "cell_type": "code",
   "execution_count": 59,
   "id": "b7add67c",
   "metadata": {},
   "outputs": [],
   "source": [
    "# syntax\n",
    "lst = ['item1', 'item2', 'item3', 'item4', 'item1']\n",
    "st = set(lst)\n"
   ]
  },
  {
   "cell_type": "code",
   "execution_count": 61,
   "id": "7f88da8f",
   "metadata": {},
   "outputs": [
    {
     "name": "stdout",
     "output_type": "stream",
     "text": [
      "<class 'set'>\n"
     ]
    }
   ],
   "source": [
    "fruits_1 = ['banana', 'orange', 'mango', 'lemon','orange', 'banana']\n",
    "fruits_2 = ['banana', 'apple']\n",
    "\n",
    "\n",
    "fruits_1 = set(fruits_1)\n",
    "fruits_2 = set(fruits_2)\n",
    "\n",
    "print(type(fruits_1))\n"
   ]
  },
  {
   "cell_type": "code",
   "execution_count": 60,
   "id": "2f72e891",
   "metadata": {},
   "outputs": [
    {
     "name": "stdout",
     "output_type": "stream",
     "text": [
      "{'item2', 'item1', 'item6', 'item4', 'item7', 'item3', 'item5', 'item8'}\n"
     ]
    }
   ],
   "source": [
    "st1 = {'item1', 'item2', 'item3', 'item4'}\n",
    "st2 = {'item5', 'item6', 'item7', 'item8'}\n",
    "st3 = st1.union(st2)\n",
    "print(st3)"
   ]
  },
  {
   "cell_type": "code",
   "execution_count": 74,
   "id": "be734c2f",
   "metadata": {},
   "outputs": [
    {
     "name": "stdout",
     "output_type": "stream",
     "text": [
      "[1, 2, 3]\n",
      "My cordinate is (5, 5)\n",
      "(6, 6)\n",
      "(5, 5)\n",
      "1.0\n"
     ]
    }
   ],
   "source": [
    "class Point:\n",
    "    def __init__(self, x:int, y:int):\n",
    "        self.x = x\n",
    "        self.y = y\n",
    "\n",
    "    def distance_to(self, other):\n",
    "        return ((self.x - other.x)**2 + (self.y - other.y)**2)**0.\n",
    "    \n",
    "    def __add__(self, other):\n",
    "        return (self.x + other.x, self.y + other.y)\n",
    "\n",
    "    def show(self):\n",
    "        return f\"My cordinate is ({self.x}, {self.y})\"\n",
    "    \n",
    "    def __str__(self):\n",
    "        return f\"{(self.x, self.y)}\"\n",
    "    \n",
    "    \n",
    "    \n",
    "lst_1 = list([1,2,3])\n",
    "\n",
    "print(lst_1)\n",
    "\n",
    "point_1 = Point(5,5)\n",
    "point_2 = Point(1,1)\n",
    "\n",
    "print(point_1.show())\n",
    "point_3 = point_1 + point_2\n",
    "print(point_3)\n",
    "print(point_1)\n",
    "\n",
    "distance = point_1.distance_to(point_2)\n",
    "print(distance)\n",
    "\n",
    "\n"
   ]
  },
  {
   "cell_type": "code",
   "execution_count": null,
   "id": "a0fedff5",
   "metadata": {},
   "outputs": [],
   "source": [
    "st1 = {'item1', 'item2', 'item3', 'item4'}\n",
    "st2 = {'item5', 'item6', 'item7', 'item8'}\n",
    "st3 = st1.union(st2)\n",
    "\n",
    "st1 = {'item1', 'item2', 'item3', 'item4'}\n",
    "st2 = {'item5', 'item6', 'item7', 'item8'}\n",
    "st1.update(st2)"
   ]
  },
  {
   "cell_type": "code",
   "execution_count": 76,
   "id": "6fa45c68",
   "metadata": {},
   "outputs": [
    {
     "data": {
      "text/plain": [
       "{'item2', 'item3'}"
      ]
     },
     "execution_count": 76,
     "metadata": {},
     "output_type": "execute_result"
    }
   ],
   "source": [
    "st1 = {'item1', 'item2', 'item3', 'item4'}\n",
    "st2 = {'item3', 'item2'}\n",
    "st1.intersection(st2) "
   ]
  },
  {
   "cell_type": "code",
   "execution_count": 80,
   "id": "aaab4745",
   "metadata": {},
   "outputs": [
    {
     "name": "stdout",
     "output_type": "stream",
     "text": [
      "True\n",
      "True\n",
      "True\n",
      "True\n"
     ]
    }
   ],
   "source": [
    "# syntax\n",
    "st1 = {'item1', 'item2', 'item3', 'item4'}\n",
    "st2 = {'item2', 'item3'}\n",
    "print(st2.issubset(st1)) # True\n",
    "print(st1.issuperset(st2)) # True\n",
    "\n",
    "print(st1.issubset(st1)) # True\n",
    "print(st1.issuperset(st1)) # True"
   ]
  },
  {
   "cell_type": "code",
   "execution_count": 81,
   "id": "da61d0ac",
   "metadata": {},
   "outputs": [
    {
     "name": "stdout",
     "output_type": "stream",
     "text": [
      "{'item6'}\n",
      "{'item1', 'item4'}\n"
     ]
    }
   ],
   "source": [
    "# syntax\n",
    "st1 = {'item1', 'item2', 'item3', 'item4'}\n",
    "st2 = {'item2', 'item3','item6'}\n",
    "print(st2.difference(st1)) # set()\n",
    "print(st1.difference(st2)) # {'item1', 'item4'} => st1\\st2"
   ]
  },
  {
   "cell_type": "code",
   "execution_count": null,
   "id": "c74ff7da",
   "metadata": {},
   "outputs": [
    {
     "name": "stdout",
     "output_type": "stream",
     "text": [
      "{'item1', 'item4', 'item6'}\n",
      "{'item1', 'item6', 'item4'}\n"
     ]
    }
   ],
   "source": [
    "st1 = {'item1', 'item2', 'item3', 'item4'}\n",
    "st2 = {'item2', 'item3','item6'}\n",
    "print(st2.symmetric_difference(st1)) \n",
    "print(st1.symmetric_difference(st2))"
   ]
  },
  {
   "cell_type": "code",
   "execution_count": 84,
   "id": "83968e50",
   "metadata": {},
   "outputs": [
    {
     "data": {
      "text/plain": [
       "False"
      ]
     },
     "execution_count": 84,
     "metadata": {},
     "output_type": "execute_result"
    }
   ],
   "source": [
    "# syntax\n",
    "st1 = {'item1', 'item2', 'item3', 'item4'}\n",
    "st2 = {'item2', 'item3'}\n",
    "st2.isdisjoint(st1) # False"
   ]
  }
 ],
 "metadata": {
  "kernelspec": {
   "display_name": "base",
   "language": "python",
   "name": "python3"
  },
  "language_info": {
   "codemirror_mode": {
    "name": "ipython",
    "version": 3
   },
   "file_extension": ".py",
   "mimetype": "text/x-python",
   "name": "python",
   "nbconvert_exporter": "python",
   "pygments_lexer": "ipython3",
   "version": "3.12.7"
  }
 },
 "nbformat": 4,
 "nbformat_minor": 5
}
