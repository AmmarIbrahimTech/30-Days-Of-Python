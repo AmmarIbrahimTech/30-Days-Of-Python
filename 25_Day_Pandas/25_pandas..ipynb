{
 "cells": [
  {
   "cell_type": "markdown",
   "id": "ac011b34",
   "metadata": {},
   "source": [
    "## Importing Pandas"
   ]
  },
  {
   "cell_type": "code",
   "execution_count": 3,
   "id": "b99562da",
   "metadata": {},
   "outputs": [],
   "source": [
    "import pandas as pd # importing pandas as pd\n",
    "import numpy  as np # importing numpy as np"
   ]
  },
  {
   "cell_type": "markdown",
   "id": "312f66ef",
   "metadata": {},
   "source": [
    "## Series"
   ]
  },
  {
   "cell_type": "markdown",
   "id": "74dae067",
   "metadata": {},
   "source": [
    "### Creating Pandas Series with Default Index"
   ]
  },
  {
   "cell_type": "code",
   "execution_count": 4,
   "id": "5305cd0c",
   "metadata": {},
   "outputs": [
    {
     "data": {
      "text/plain": [
       "0    1\n",
       "1    2\n",
       "2    3\n",
       "3    4\n",
       "4    5\n",
       "dtype: int64"
      ]
     },
     "execution_count": 4,
     "metadata": {},
     "output_type": "execute_result"
    }
   ],
   "source": [
    "nums = [1, 2, 3, 4,5]\n",
    "s = pd.Series(nums)\n",
    "s"
   ]
  },
  {
   "cell_type": "markdown",
   "id": "ed05bf7e",
   "metadata": {},
   "source": [
    "### Creating Pandas Series with custom index"
   ]
  },
  {
   "cell_type": "code",
   "execution_count": 9,
   "id": "6bc04351",
   "metadata": {},
   "outputs": [
    {
     "data": {
      "text/plain": [
       "10    1\n",
       "20    2\n",
       "30    3\n",
       "40    4\n",
       "50    5\n",
       "dtype: int64"
      ]
     },
     "execution_count": 9,
     "metadata": {},
     "output_type": "execute_result"
    }
   ],
   "source": [
    "nums = [1,2,3,4,5]\n",
    "s = pd.Series(nums, index=[10,20,30,40,50])\n",
    "s"
   ]
  },
  {
   "cell_type": "code",
   "execution_count": 10,
   "id": "8287ede1",
   "metadata": {},
   "outputs": [
    {
     "name": "stdout",
     "output_type": "stream",
     "text": [
      "1    Orange\n",
      "2    Banana\n",
      "3     Mango\n",
      "dtype: object\n"
     ]
    }
   ],
   "source": [
    "fruits = ['Orange','Banana','Mango']\n",
    "fruits = pd.Series(fruits, index=[1, 2, 3])\n",
    "print(fruits)"
   ]
  },
  {
   "cell_type": "markdown",
   "id": "1ac39eba",
   "metadata": {},
   "source": [
    "### Creating Pandas Series from a Dictionary"
   ]
  },
  {
   "cell_type": "code",
   "execution_count": 16,
   "id": "fef810a0",
   "metadata": {},
   "outputs": [
    {
     "data": {
      "text/plain": [
       "ID1     Ammar Osman\n",
       "ID2     Ahmed Ammar\n",
       "ID3    Khadir Osman\n",
       "dtype: object"
      ]
     },
     "execution_count": 16,
     "metadata": {},
     "output_type": "execute_result"
    }
   ],
   "source": [
    "dct = {'ID1': \"Ammar Osman\", \"ID2\": \"Ahmed Ammar\", \"ID3\": \"Khadir Osman\"}\n",
    "\n",
    "Ids_names = pd.Series(dct)\n",
    "Ids_names"
   ]
  },
  {
   "cell_type": "markdown",
   "id": "53cdd5fc",
   "metadata": {},
   "source": [
    "### Creating a Constant Pandas Series"
   ]
  },
  {
   "cell_type": "code",
   "execution_count": 17,
   "id": "2df1afdd",
   "metadata": {},
   "outputs": [
    {
     "data": {
      "text/plain": [
       "1     10\n",
       "2     10\n",
       "3     10\n",
       "4     10\n",
       "5     10\n",
       "6     10\n",
       "7     10\n",
       "8     10\n",
       "9     10\n",
       "10    10\n",
       "dtype: int64"
      ]
     },
     "execution_count": 17,
     "metadata": {},
     "output_type": "execute_result"
    }
   ],
   "source": [
    "constant_series = pd.Series(10, index= [1,2,3,4,5,6,7,8,9,10])\n",
    "constant_series"
   ]
  },
  {
   "cell_type": "markdown",
   "id": "bdf31b59",
   "metadata": {},
   "source": [
    "### Creating a Pandas Series Using Linspace"
   ]
  },
  {
   "cell_type": "code",
   "execution_count": 20,
   "id": "50552564",
   "metadata": {},
   "outputs": [
    {
     "data": {
      "text/plain": [
       "0     0.0\n",
       "1     2.5\n",
       "2     5.0\n",
       "3     7.5\n",
       "4    10.0\n",
       "dtype: float64"
      ]
     },
     "execution_count": 20,
     "metadata": {},
     "output_type": "execute_result"
    }
   ],
   "source": [
    "series_with_linspace = pd.Series(np.linspace(0,10,5))\n",
    "series_with_linspace"
   ]
  },
  {
   "cell_type": "markdown",
   "id": "2643bd11",
   "metadata": {},
   "source": [
    "## Dataframes \n",
    "\n",
    "Pandas data frames can be created in different ways."
   ]
  },
  {
   "cell_type": "markdown",
   "id": "ec18269a",
   "metadata": {},
   "source": [
    "### Creating DataFrames from List of Lists"
   ]
  },
  {
   "cell_type": "code",
   "execution_count": 24,
   "id": "5795eb33",
   "metadata": {},
   "outputs": [
    {
     "data": {
      "text/html": [
       "<div>\n",
       "<style scoped>\n",
       "    .dataframe tbody tr th:only-of-type {\n",
       "        vertical-align: middle;\n",
       "    }\n",
       "\n",
       "    .dataframe tbody tr th {\n",
       "        vertical-align: top;\n",
       "    }\n",
       "\n",
       "    .dataframe thead th {\n",
       "        text-align: right;\n",
       "    }\n",
       "</style>\n",
       "<table border=\"1\" class=\"dataframe\">\n",
       "  <thead>\n",
       "    <tr style=\"text-align: right;\">\n",
       "      <th></th>\n",
       "      <th>Names</th>\n",
       "      <th>Grades</th>\n",
       "      <th>Pass</th>\n",
       "    </tr>\n",
       "  </thead>\n",
       "  <tbody>\n",
       "    <tr>\n",
       "      <th>0</th>\n",
       "      <td>Ammar</td>\n",
       "      <td>99%</td>\n",
       "      <td>pass</td>\n",
       "    </tr>\n",
       "    <tr>\n",
       "      <th>1</th>\n",
       "      <td>Mram</td>\n",
       "      <td>200%</td>\n",
       "      <td>pass</td>\n",
       "    </tr>\n",
       "    <tr>\n",
       "      <th>2</th>\n",
       "      <td>Khadir</td>\n",
       "      <td>100%</td>\n",
       "      <td>pass</td>\n",
       "    </tr>\n",
       "  </tbody>\n",
       "</table>\n",
       "</div>"
      ],
      "text/plain": [
       "    Names Grades  Pass\n",
       "0   Ammar    99%  pass\n",
       "1    Mram   200%  pass\n",
       "2  Khadir   100%  pass"
      ]
     },
     "execution_count": 24,
     "metadata": {},
     "output_type": "execute_result"
    }
   ],
   "source": [
    "list_of_lists = [[\"Ammar\",\"99%\" ,\"pass\"], [\"Mram\",\"200%\",\"pass\"], [\"Khadir\", \"100%\", \"pass\"]]\n",
    "\n",
    "df_from_lists = pd.DataFrame(list_of_lists, columns= [\"Names\", \"Grades\", \"Pass\"])\n",
    "df_from_lists"
   ]
  },
  {
   "cell_type": "markdown",
   "id": "e2627097",
   "metadata": {},
   "source": [
    "### Creating DataFrame Using Dictionary"
   ]
  },
  {
   "cell_type": "code",
   "execution_count": 26,
   "id": "3ea1b6d2",
   "metadata": {},
   "outputs": [
    {
     "data": {
      "text/html": [
       "<div>\n",
       "<style scoped>\n",
       "    .dataframe tbody tr th:only-of-type {\n",
       "        vertical-align: middle;\n",
       "    }\n",
       "\n",
       "    .dataframe tbody tr th {\n",
       "        vertical-align: top;\n",
       "    }\n",
       "\n",
       "    .dataframe thead th {\n",
       "        text-align: right;\n",
       "    }\n",
       "</style>\n",
       "<table border=\"1\" class=\"dataframe\">\n",
       "  <thead>\n",
       "    <tr style=\"text-align: right;\">\n",
       "      <th></th>\n",
       "      <th>Names</th>\n",
       "      <th>Grades</th>\n",
       "      <th>Pass</th>\n",
       "    </tr>\n",
       "  </thead>\n",
       "  <tbody>\n",
       "    <tr>\n",
       "      <th>0</th>\n",
       "      <td>Ammar</td>\n",
       "      <td>99%</td>\n",
       "      <td>Pass</td>\n",
       "    </tr>\n",
       "    <tr>\n",
       "      <th>1</th>\n",
       "      <td>Mram</td>\n",
       "      <td>200%</td>\n",
       "      <td>Pass</td>\n",
       "    </tr>\n",
       "    <tr>\n",
       "      <th>2</th>\n",
       "      <td>Khadir</td>\n",
       "      <td>100%</td>\n",
       "      <td>Pass</td>\n",
       "    </tr>\n",
       "  </tbody>\n",
       "</table>\n",
       "</div>"
      ],
      "text/plain": [
       "    Names Grades  Pass\n",
       "0   Ammar    99%  Pass\n",
       "1    Mram   200%  Pass\n",
       "2  Khadir   100%  Pass"
      ]
     },
     "execution_count": 26,
     "metadata": {},
     "output_type": "execute_result"
    }
   ],
   "source": [
    "dictionary = {\"Names\": [\"Ammar\", \"Mram\", \"Khadir\"], \"Grades\": [\"99%\", \"200%\", \"100%\"], \"Pass\": [\"Pass\",\"Pass\", \"Pass\"]}\n",
    "df_from_dict = pd.DataFrame(dictionary)\n",
    "df_from_dict"
   ]
  },
  {
   "cell_type": "markdown",
   "id": "3601e0f4",
   "metadata": {},
   "source": [
    "### Creating DataFrames from a List of Dictionaries"
   ]
  },
  {
   "cell_type": "code",
   "execution_count": 27,
   "id": "95bd666d",
   "metadata": {},
   "outputs": [
    {
     "data": {
      "text/html": [
       "<div>\n",
       "<style scoped>\n",
       "    .dataframe tbody tr th:only-of-type {\n",
       "        vertical-align: middle;\n",
       "    }\n",
       "\n",
       "    .dataframe tbody tr th {\n",
       "        vertical-align: top;\n",
       "    }\n",
       "\n",
       "    .dataframe thead th {\n",
       "        text-align: right;\n",
       "    }\n",
       "</style>\n",
       "<table border=\"1\" class=\"dataframe\">\n",
       "  <thead>\n",
       "    <tr style=\"text-align: right;\">\n",
       "      <th></th>\n",
       "      <th>Name</th>\n",
       "      <th>Country</th>\n",
       "      <th>City</th>\n",
       "    </tr>\n",
       "  </thead>\n",
       "  <tbody>\n",
       "    <tr>\n",
       "      <th>0</th>\n",
       "      <td>Asabeneh</td>\n",
       "      <td>Finland</td>\n",
       "      <td>Helsinki</td>\n",
       "    </tr>\n",
       "    <tr>\n",
       "      <th>1</th>\n",
       "      <td>David</td>\n",
       "      <td>UK</td>\n",
       "      <td>London</td>\n",
       "    </tr>\n",
       "    <tr>\n",
       "      <th>2</th>\n",
       "      <td>John</td>\n",
       "      <td>Sweden</td>\n",
       "      <td>Stockholm</td>\n",
       "    </tr>\n",
       "  </tbody>\n",
       "</table>\n",
       "</div>"
      ],
      "text/plain": [
       "       Name  Country       City\n",
       "0  Asabeneh  Finland   Helsinki\n",
       "1     David       UK     London\n",
       "2      John   Sweden  Stockholm"
      ]
     },
     "execution_count": 27,
     "metadata": {},
     "output_type": "execute_result"
    }
   ],
   "source": [
    "list_of_dicts = [\n",
    "    {'Name': 'Asabeneh', 'Country': 'Finland', 'City': 'Helsinki'},\n",
    "    {'Name': 'David', 'Country': 'UK', 'City': 'London'},\n",
    "    {'Name': 'John', 'Country': 'Sweden', 'City': 'Stockholm'}]\n",
    "df_from_ld = pd.DataFrame(list_of_dicts)\n",
    "df_from_ld"
   ]
  },
  {
   "cell_type": "markdown",
   "id": "dc508341",
   "metadata": {},
   "source": [
    "## Reading CSV File Using Pandas"
   ]
  },
  {
   "cell_type": "markdown",
   "id": "89075a9a",
   "metadata": {},
   "source": [
    "I will be setting my working directory"
   ]
  },
  {
   "cell_type": "code",
   "execution_count": 28,
   "id": "3fb5a305",
   "metadata": {},
   "outputs": [],
   "source": [
    "import os"
   ]
  },
  {
   "cell_type": "code",
   "execution_count": null,
   "id": "b47956d4",
   "metadata": {},
   "outputs": [
    {
     "data": {
      "text/plain": [
       "['25_pandas..ipynb', '25_pandas.md', 'weight-height.csv']"
      ]
     },
     "execution_count": 29,
     "metadata": {},
     "output_type": "execute_result"
    }
   ],
   "source": [
    "os.listdir(\".\") #means set the working dir here in this folder"
   ]
  },
  {
   "cell_type": "markdown",
   "id": "428da6bc",
   "metadata": {},
   "source": [
    "creating a dataframe by reading the file"
   ]
  },
  {
   "cell_type": "code",
   "execution_count": 34,
   "id": "d3b4b8e2",
   "metadata": {},
   "outputs": [
    {
     "data": {
      "text/html": [
       "<div>\n",
       "<style scoped>\n",
       "    .dataframe tbody tr th:only-of-type {\n",
       "        vertical-align: middle;\n",
       "    }\n",
       "\n",
       "    .dataframe tbody tr th {\n",
       "        vertical-align: top;\n",
       "    }\n",
       "\n",
       "    .dataframe thead th {\n",
       "        text-align: right;\n",
       "    }\n",
       "</style>\n",
       "<table border=\"1\" class=\"dataframe\">\n",
       "  <thead>\n",
       "    <tr style=\"text-align: right;\">\n",
       "      <th></th>\n",
       "      <th>Gender</th>\n",
       "      <th>Height</th>\n",
       "      <th>Weight</th>\n",
       "    </tr>\n",
       "  </thead>\n",
       "  <tbody>\n",
       "    <tr>\n",
       "      <th>0</th>\n",
       "      <td>Male</td>\n",
       "      <td>73.847017</td>\n",
       "      <td>241.893563</td>\n",
       "    </tr>\n",
       "    <tr>\n",
       "      <th>1</th>\n",
       "      <td>Male</td>\n",
       "      <td>68.781904</td>\n",
       "      <td>162.310473</td>\n",
       "    </tr>\n",
       "    <tr>\n",
       "      <th>2</th>\n",
       "      <td>Male</td>\n",
       "      <td>74.110105</td>\n",
       "      <td>212.740856</td>\n",
       "    </tr>\n",
       "    <tr>\n",
       "      <th>3</th>\n",
       "      <td>Male</td>\n",
       "      <td>71.730978</td>\n",
       "      <td>220.042470</td>\n",
       "    </tr>\n",
       "    <tr>\n",
       "      <th>4</th>\n",
       "      <td>Male</td>\n",
       "      <td>69.881796</td>\n",
       "      <td>206.349801</td>\n",
       "    </tr>\n",
       "    <tr>\n",
       "      <th>...</th>\n",
       "      <td>...</td>\n",
       "      <td>...</td>\n",
       "      <td>...</td>\n",
       "    </tr>\n",
       "    <tr>\n",
       "      <th>9995</th>\n",
       "      <td>Female</td>\n",
       "      <td>66.172652</td>\n",
       "      <td>136.777454</td>\n",
       "    </tr>\n",
       "    <tr>\n",
       "      <th>9996</th>\n",
       "      <td>Female</td>\n",
       "      <td>67.067155</td>\n",
       "      <td>170.867906</td>\n",
       "    </tr>\n",
       "    <tr>\n",
       "      <th>9997</th>\n",
       "      <td>Female</td>\n",
       "      <td>63.867992</td>\n",
       "      <td>128.475319</td>\n",
       "    </tr>\n",
       "    <tr>\n",
       "      <th>9998</th>\n",
       "      <td>Female</td>\n",
       "      <td>69.034243</td>\n",
       "      <td>163.852461</td>\n",
       "    </tr>\n",
       "    <tr>\n",
       "      <th>9999</th>\n",
       "      <td>Female</td>\n",
       "      <td>61.944246</td>\n",
       "      <td>113.649103</td>\n",
       "    </tr>\n",
       "  </tbody>\n",
       "</table>\n",
       "<p>10000 rows × 3 columns</p>\n",
       "</div>"
      ],
      "text/plain": [
       "      Gender     Height      Weight\n",
       "0       Male  73.847017  241.893563\n",
       "1       Male  68.781904  162.310473\n",
       "2       Male  74.110105  212.740856\n",
       "3       Male  71.730978  220.042470\n",
       "4       Male  69.881796  206.349801\n",
       "...      ...        ...         ...\n",
       "9995  Female  66.172652  136.777454\n",
       "9996  Female  67.067155  170.867906\n",
       "9997  Female  63.867992  128.475319\n",
       "9998  Female  69.034243  163.852461\n",
       "9999  Female  61.944246  113.649103\n",
       "\n",
       "[10000 rows x 3 columns]"
      ]
     },
     "execution_count": 34,
     "metadata": {},
     "output_type": "execute_result"
    }
   ],
   "source": [
    "df_weight_hight = pd.read_csv(\"weight-height.csv\")\n",
    "df_weight_hight"
   ]
  },
  {
   "cell_type": "markdown",
   "id": "65472faa",
   "metadata": {},
   "source": [
    "### Data Exploration"
   ]
  },
  {
   "cell_type": "code",
   "execution_count": 37,
   "id": "59838baf",
   "metadata": {},
   "outputs": [
    {
     "data": {
      "text/html": [
       "<div>\n",
       "<style scoped>\n",
       "    .dataframe tbody tr th:only-of-type {\n",
       "        vertical-align: middle;\n",
       "    }\n",
       "\n",
       "    .dataframe tbody tr th {\n",
       "        vertical-align: top;\n",
       "    }\n",
       "\n",
       "    .dataframe thead th {\n",
       "        text-align: right;\n",
       "    }\n",
       "</style>\n",
       "<table border=\"1\" class=\"dataframe\">\n",
       "  <thead>\n",
       "    <tr style=\"text-align: right;\">\n",
       "      <th></th>\n",
       "      <th>Gender</th>\n",
       "      <th>Height</th>\n",
       "      <th>Weight</th>\n",
       "    </tr>\n",
       "  </thead>\n",
       "  <tbody>\n",
       "    <tr>\n",
       "      <th>9995</th>\n",
       "      <td>Female</td>\n",
       "      <td>66.172652</td>\n",
       "      <td>136.777454</td>\n",
       "    </tr>\n",
       "    <tr>\n",
       "      <th>9996</th>\n",
       "      <td>Female</td>\n",
       "      <td>67.067155</td>\n",
       "      <td>170.867906</td>\n",
       "    </tr>\n",
       "    <tr>\n",
       "      <th>9997</th>\n",
       "      <td>Female</td>\n",
       "      <td>63.867992</td>\n",
       "      <td>128.475319</td>\n",
       "    </tr>\n",
       "    <tr>\n",
       "      <th>9998</th>\n",
       "      <td>Female</td>\n",
       "      <td>69.034243</td>\n",
       "      <td>163.852461</td>\n",
       "    </tr>\n",
       "    <tr>\n",
       "      <th>9999</th>\n",
       "      <td>Female</td>\n",
       "      <td>61.944246</td>\n",
       "      <td>113.649103</td>\n",
       "    </tr>\n",
       "  </tbody>\n",
       "</table>\n",
       "</div>"
      ],
      "text/plain": [
       "      Gender     Height      Weight\n",
       "9995  Female  66.172652  136.777454\n",
       "9996  Female  67.067155  170.867906\n",
       "9997  Female  63.867992  128.475319\n",
       "9998  Female  69.034243  163.852461\n",
       "9999  Female  61.944246  113.649103"
      ]
     },
     "execution_count": 37,
     "metadata": {},
     "output_type": "execute_result"
    }
   ],
   "source": [
    "# df_weight_hight.head()\n",
    "df_weight_hight.tail()"
   ]
  },
  {
   "cell_type": "code",
   "execution_count": 38,
   "id": "3d727c51",
   "metadata": {},
   "outputs": [
    {
     "data": {
      "text/plain": [
       "(10000, 3)"
      ]
     },
     "execution_count": 38,
     "metadata": {},
     "output_type": "execute_result"
    }
   ],
   "source": [
    "df_weight_hight.shape"
   ]
  },
  {
   "cell_type": "code",
   "execution_count": 39,
   "id": "77c979ff",
   "metadata": {},
   "outputs": [
    {
     "data": {
      "text/plain": [
       "Index(['Gender', 'Height', 'Weight'], dtype='object')"
      ]
     },
     "execution_count": 39,
     "metadata": {},
     "output_type": "execute_result"
    }
   ],
   "source": [
    "df_weight_hight.columns"
   ]
  },
  {
   "cell_type": "markdown",
   "id": "2753a2f7",
   "metadata": {},
   "source": [
    "getting a specific column as a Series using the column key"
   ]
  },
  {
   "cell_type": "code",
   "execution_count": 40,
   "id": "bace1652",
   "metadata": {},
   "outputs": [
    {
     "data": {
      "text/plain": [
       "0       73.847017\n",
       "1       68.781904\n",
       "2       74.110105\n",
       "3       71.730978\n",
       "4       69.881796\n",
       "          ...    \n",
       "9995    66.172652\n",
       "9996    67.067155\n",
       "9997    63.867992\n",
       "9998    69.034243\n",
       "9999    61.944246\n",
       "Name: Height, Length: 10000, dtype: float64"
      ]
     },
     "execution_count": 40,
     "metadata": {},
     "output_type": "execute_result"
    }
   ],
   "source": [
    "Hights = df_weight_hight[\"Height\"]\n",
    "Hights"
   ]
  },
  {
   "cell_type": "code",
   "execution_count": 50,
   "id": "bc404447",
   "metadata": {},
   "outputs": [
    {
     "data": {
      "text/plain": [
       "0       241.893563\n",
       "1       162.310473\n",
       "2       212.740856\n",
       "3       220.042470\n",
       "4       206.349801\n",
       "           ...    \n",
       "9995    136.777454\n",
       "9996    170.867906\n",
       "9997    128.475319\n",
       "9998    163.852461\n",
       "9999    113.649103\n",
       "Name: Weight, Length: 10000, dtype: float64"
      ]
     },
     "execution_count": 50,
     "metadata": {},
     "output_type": "execute_result"
    }
   ],
   "source": [
    "Weights = df_weight_hight[\"Weight\"]\n",
    "Weights\n",
    "# print(list(Weights))"
   ]
  },
  {
   "cell_type": "code",
   "execution_count": 46,
   "id": "ee11287c",
   "metadata": {},
   "outputs": [
    {
     "data": {
      "text/plain": [
       "True"
      ]
     },
     "execution_count": 46,
     "metadata": {},
     "output_type": "execute_result"
    }
   ],
   "source": [
    "len(Weights) == len(Hights) "
   ]
  },
  {
   "cell_type": "code",
   "execution_count": null,
   "id": "b568ce4a",
   "metadata": {},
   "outputs": [
    {
     "data": {
      "text/plain": [
       "count    10000.000000\n",
       "mean        66.367560\n",
       "std          3.847528\n",
       "min         54.263133\n",
       "25%         63.505620\n",
       "50%         66.318070\n",
       "75%         69.174262\n",
       "max         78.998742\n",
       "Name: Height, dtype: float64"
      ]
     },
     "execution_count": 48,
     "metadata": {},
     "output_type": "execute_result"
    }
   ],
   "source": [
    "Hights.describe()\n",
    "# or\n",
    "df_weight_hight[\"Height\"].describe()"
   ]
  },
  {
   "cell_type": "code",
   "execution_count": 49,
   "id": "bd2bf413",
   "metadata": {},
   "outputs": [
    {
     "data": {
      "text/html": [
       "<div>\n",
       "<style scoped>\n",
       "    .dataframe tbody tr th:only-of-type {\n",
       "        vertical-align: middle;\n",
       "    }\n",
       "\n",
       "    .dataframe tbody tr th {\n",
       "        vertical-align: top;\n",
       "    }\n",
       "\n",
       "    .dataframe thead th {\n",
       "        text-align: right;\n",
       "    }\n",
       "</style>\n",
       "<table border=\"1\" class=\"dataframe\">\n",
       "  <thead>\n",
       "    <tr style=\"text-align: right;\">\n",
       "      <th></th>\n",
       "      <th>Height</th>\n",
       "      <th>Weight</th>\n",
       "    </tr>\n",
       "  </thead>\n",
       "  <tbody>\n",
       "    <tr>\n",
       "      <th>count</th>\n",
       "      <td>10000.000000</td>\n",
       "      <td>10000.000000</td>\n",
       "    </tr>\n",
       "    <tr>\n",
       "      <th>mean</th>\n",
       "      <td>66.367560</td>\n",
       "      <td>161.440357</td>\n",
       "    </tr>\n",
       "    <tr>\n",
       "      <th>std</th>\n",
       "      <td>3.847528</td>\n",
       "      <td>32.108439</td>\n",
       "    </tr>\n",
       "    <tr>\n",
       "      <th>min</th>\n",
       "      <td>54.263133</td>\n",
       "      <td>64.700127</td>\n",
       "    </tr>\n",
       "    <tr>\n",
       "      <th>25%</th>\n",
       "      <td>63.505620</td>\n",
       "      <td>135.818051</td>\n",
       "    </tr>\n",
       "    <tr>\n",
       "      <th>50%</th>\n",
       "      <td>66.318070</td>\n",
       "      <td>161.212928</td>\n",
       "    </tr>\n",
       "    <tr>\n",
       "      <th>75%</th>\n",
       "      <td>69.174262</td>\n",
       "      <td>187.169525</td>\n",
       "    </tr>\n",
       "    <tr>\n",
       "      <th>max</th>\n",
       "      <td>78.998742</td>\n",
       "      <td>269.989699</td>\n",
       "    </tr>\n",
       "  </tbody>\n",
       "</table>\n",
       "</div>"
      ],
      "text/plain": [
       "             Height        Weight\n",
       "count  10000.000000  10000.000000\n",
       "mean      66.367560    161.440357\n",
       "std        3.847528     32.108439\n",
       "min       54.263133     64.700127\n",
       "25%       63.505620    135.818051\n",
       "50%       66.318070    161.212928\n",
       "75%       69.174262    187.169525\n",
       "max       78.998742    269.989699"
      ]
     },
     "execution_count": 49,
     "metadata": {},
     "output_type": "execute_result"
    }
   ],
   "source": [
    "#describe the whoole dataframe\n",
    "\n",
    "df_weight_hight.describe()"
   ]
  },
  {
   "cell_type": "markdown",
   "id": "329aed28",
   "metadata": {},
   "source": [
    "### Modifying a DataFrame"
   ]
  },
  {
   "cell_type": "code",
   "execution_count": 68,
   "id": "e1c8a5fe",
   "metadata": {},
   "outputs": [
    {
     "data": {
      "text/html": [
       "<div>\n",
       "<style scoped>\n",
       "    .dataframe tbody tr th:only-of-type {\n",
       "        vertical-align: middle;\n",
       "    }\n",
       "\n",
       "    .dataframe tbody tr th {\n",
       "        vertical-align: top;\n",
       "    }\n",
       "\n",
       "    .dataframe thead th {\n",
       "        text-align: right;\n",
       "    }\n",
       "</style>\n",
       "<table border=\"1\" class=\"dataframe\">\n",
       "  <thead>\n",
       "    <tr style=\"text-align: right;\">\n",
       "      <th></th>\n",
       "      <th>Name</th>\n",
       "      <th>Country</th>\n",
       "      <th>City</th>\n",
       "    </tr>\n",
       "  </thead>\n",
       "  <tbody>\n",
       "    <tr>\n",
       "      <th>0</th>\n",
       "      <td>Asabeneh</td>\n",
       "      <td>Finland</td>\n",
       "      <td>Helsinki</td>\n",
       "    </tr>\n",
       "    <tr>\n",
       "      <th>1</th>\n",
       "      <td>David</td>\n",
       "      <td>UK</td>\n",
       "      <td>London</td>\n",
       "    </tr>\n",
       "    <tr>\n",
       "      <th>2</th>\n",
       "      <td>John</td>\n",
       "      <td>Sweden</td>\n",
       "      <td>Stockholm</td>\n",
       "    </tr>\n",
       "  </tbody>\n",
       "</table>\n",
       "</div>"
      ],
      "text/plain": [
       "       Name  Country       City\n",
       "0  Asabeneh  Finland   Helsinki\n",
       "1     David       UK     London\n",
       "2      John   Sweden  Stockholm"
      ]
     },
     "execution_count": 68,
     "metadata": {},
     "output_type": "execute_result"
    }
   ],
   "source": [
    "data = [\n",
    "    {\"Name\": \"Asabeneh\", \"Country\":\"Finland\",\"City\":\"Helsinki\"},\n",
    "    {\"Name\": \"David\", \"Country\":\"UK\",\"City\":\"London\"},\n",
    "    {\"Name\": \"John\", \"Country\":\"Sweden\",\"City\":\"Stockholm\"}]\n",
    "df_locations = pd.DataFrame(data)\n",
    "df_locations"
   ]
  },
  {
   "cell_type": "code",
   "execution_count": 80,
   "id": "f66f9be1",
   "metadata": {},
   "outputs": [
    {
     "data": {
      "text/html": [
       "<div>\n",
       "<style scoped>\n",
       "    .dataframe tbody tr th:only-of-type {\n",
       "        vertical-align: middle;\n",
       "    }\n",
       "\n",
       "    .dataframe tbody tr th {\n",
       "        vertical-align: top;\n",
       "    }\n",
       "\n",
       "    .dataframe thead th {\n",
       "        text-align: right;\n",
       "    }\n",
       "</style>\n",
       "<table border=\"1\" class=\"dataframe\">\n",
       "  <thead>\n",
       "    <tr style=\"text-align: right;\">\n",
       "      <th></th>\n",
       "      <th>Name</th>\n",
       "      <th>Country</th>\n",
       "      <th>City</th>\n",
       "      <th>whight</th>\n",
       "      <th>Height</th>\n",
       "    </tr>\n",
       "  </thead>\n",
       "  <tbody>\n",
       "    <tr>\n",
       "      <th>0</th>\n",
       "      <td>Asabeneh</td>\n",
       "      <td>Finland</td>\n",
       "      <td>Helsinki</td>\n",
       "      <td>74</td>\n",
       "      <td>1.73</td>\n",
       "    </tr>\n",
       "    <tr>\n",
       "      <th>1</th>\n",
       "      <td>David</td>\n",
       "      <td>UK</td>\n",
       "      <td>London</td>\n",
       "      <td>78</td>\n",
       "      <td>1.75</td>\n",
       "    </tr>\n",
       "    <tr>\n",
       "      <th>2</th>\n",
       "      <td>John</td>\n",
       "      <td>Sweden</td>\n",
       "      <td>Stockholm</td>\n",
       "      <td>69</td>\n",
       "      <td>1.69</td>\n",
       "    </tr>\n",
       "  </tbody>\n",
       "</table>\n",
       "</div>"
      ],
      "text/plain": [
       "       Name  Country       City  whight  Height\n",
       "0  Asabeneh  Finland   Helsinki      74    1.73\n",
       "1     David       UK     London      78    1.75\n",
       "2      John   Sweden  Stockholm      69    1.69"
      ]
     },
     "execution_count": 80,
     "metadata": {},
     "output_type": "execute_result"
    }
   ],
   "source": [
    "new_col = [74, 78, 69]\n",
    "df_locations[\"whight\"] = new_col\n",
    "df_locations"
   ]
  },
  {
   "cell_type": "code",
   "execution_count": 81,
   "id": "7c9a11e4",
   "metadata": {},
   "outputs": [
    {
     "data": {
      "text/html": [
       "<div>\n",
       "<style scoped>\n",
       "    .dataframe tbody tr th:only-of-type {\n",
       "        vertical-align: middle;\n",
       "    }\n",
       "\n",
       "    .dataframe tbody tr th {\n",
       "        vertical-align: top;\n",
       "    }\n",
       "\n",
       "    .dataframe thead th {\n",
       "        text-align: right;\n",
       "    }\n",
       "</style>\n",
       "<table border=\"1\" class=\"dataframe\">\n",
       "  <thead>\n",
       "    <tr style=\"text-align: right;\">\n",
       "      <th></th>\n",
       "      <th>Name</th>\n",
       "      <th>Country</th>\n",
       "      <th>City</th>\n",
       "      <th>whight</th>\n",
       "      <th>Height</th>\n",
       "    </tr>\n",
       "  </thead>\n",
       "  <tbody>\n",
       "    <tr>\n",
       "      <th>0</th>\n",
       "      <td>Asabeneh</td>\n",
       "      <td>Finland</td>\n",
       "      <td>Helsinki</td>\n",
       "      <td>74</td>\n",
       "      <td>173</td>\n",
       "    </tr>\n",
       "    <tr>\n",
       "      <th>1</th>\n",
       "      <td>David</td>\n",
       "      <td>UK</td>\n",
       "      <td>London</td>\n",
       "      <td>78</td>\n",
       "      <td>175</td>\n",
       "    </tr>\n",
       "    <tr>\n",
       "      <th>2</th>\n",
       "      <td>John</td>\n",
       "      <td>Sweden</td>\n",
       "      <td>Stockholm</td>\n",
       "      <td>69</td>\n",
       "      <td>169</td>\n",
       "    </tr>\n",
       "  </tbody>\n",
       "</table>\n",
       "</div>"
      ],
      "text/plain": [
       "       Name  Country       City  whight  Height\n",
       "0  Asabeneh  Finland   Helsinki      74     173\n",
       "1     David       UK     London      78     175\n",
       "2      John   Sweden  Stockholm      69     169"
      ]
     },
     "execution_count": 81,
     "metadata": {},
     "output_type": "execute_result"
    }
   ],
   "source": [
    "heights = [173, 175, 169]\n",
    "df_locations['Height'] = heights\n",
    "df_locations"
   ]
  },
  {
   "cell_type": "markdown",
   "id": "7e390b75",
   "metadata": {},
   "source": [
    "BMI(Body Mass Index) BMI is mass divided by height squared (in meters) - Weight/Height * Height."
   ]
  },
  {
   "cell_type": "code",
   "execution_count": 82,
   "id": "d7122ea7",
   "metadata": {},
   "outputs": [
    {
     "data": {
      "text/html": [
       "<div>\n",
       "<style scoped>\n",
       "    .dataframe tbody tr th:only-of-type {\n",
       "        vertical-align: middle;\n",
       "    }\n",
       "\n",
       "    .dataframe tbody tr th {\n",
       "        vertical-align: top;\n",
       "    }\n",
       "\n",
       "    .dataframe thead th {\n",
       "        text-align: right;\n",
       "    }\n",
       "</style>\n",
       "<table border=\"1\" class=\"dataframe\">\n",
       "  <thead>\n",
       "    <tr style=\"text-align: right;\">\n",
       "      <th></th>\n",
       "      <th>Name</th>\n",
       "      <th>Country</th>\n",
       "      <th>City</th>\n",
       "      <th>whight</th>\n",
       "      <th>Height</th>\n",
       "    </tr>\n",
       "  </thead>\n",
       "  <tbody>\n",
       "    <tr>\n",
       "      <th>0</th>\n",
       "      <td>Asabeneh</td>\n",
       "      <td>Finland</td>\n",
       "      <td>Helsinki</td>\n",
       "      <td>74</td>\n",
       "      <td>1.73</td>\n",
       "    </tr>\n",
       "    <tr>\n",
       "      <th>1</th>\n",
       "      <td>David</td>\n",
       "      <td>UK</td>\n",
       "      <td>London</td>\n",
       "      <td>78</td>\n",
       "      <td>1.75</td>\n",
       "    </tr>\n",
       "    <tr>\n",
       "      <th>2</th>\n",
       "      <td>John</td>\n",
       "      <td>Sweden</td>\n",
       "      <td>Stockholm</td>\n",
       "      <td>69</td>\n",
       "      <td>1.69</td>\n",
       "    </tr>\n",
       "  </tbody>\n",
       "</table>\n",
       "</div>"
      ],
      "text/plain": [
       "       Name  Country       City  whight  Height\n",
       "0  Asabeneh  Finland   Helsinki      74    1.73\n",
       "1     David       UK     London      78    1.75\n",
       "2      John   Sweden  Stockholm      69    1.69"
      ]
     },
     "execution_count": 82,
     "metadata": {},
     "output_type": "execute_result"
    }
   ],
   "source": [
    "# Making Heights cm --> m\n",
    "\n",
    "df_locations[\"Height\"] *= 0.01\n",
    "df_locations"
   ]
  },
  {
   "cell_type": "code",
   "execution_count": 85,
   "id": "df96ac87",
   "metadata": {},
   "outputs": [
    {
     "name": "stdout",
     "output_type": "stream",
     "text": [
      "0    74\n",
      "1    78\n",
      "2    69\n",
      "Name: whight, dtype: int64\n"
     ]
    }
   ],
   "source": [
    "# creating BMI list to use it as colmun\n",
    "\n",
    "def calculate_BMI(Weights, Hights):\n",
    "    BMI = []\n",
    "    print(Weights)\n",
    "    for w, h in zip(Weights, Hights):\n",
    "        # print(\"w is:\", type(w))\n",
    "        # print(\"h is: \", type(h))\n",
    "        # I was getting type error becuse when I created\n",
    "        # the weights col I made the numbers strings\n",
    "        b = w / (h*h)\n",
    "        BMI.append(b)\n",
    "    \n",
    "    return BMI\n",
    "\n",
    "BMI = calculate_BMI( df_locations[\"whight\"] ,df_locations[\"Height\"])\n"
   ]
  },
  {
   "cell_type": "code",
   "execution_count": 87,
   "id": "30f3a03f",
   "metadata": {},
   "outputs": [
    {
     "data": {
      "text/html": [
       "<div>\n",
       "<style scoped>\n",
       "    .dataframe tbody tr th:only-of-type {\n",
       "        vertical-align: middle;\n",
       "    }\n",
       "\n",
       "    .dataframe tbody tr th {\n",
       "        vertical-align: top;\n",
       "    }\n",
       "\n",
       "    .dataframe thead th {\n",
       "        text-align: right;\n",
       "    }\n",
       "</style>\n",
       "<table border=\"1\" class=\"dataframe\">\n",
       "  <thead>\n",
       "    <tr style=\"text-align: right;\">\n",
       "      <th></th>\n",
       "      <th>Name</th>\n",
       "      <th>Country</th>\n",
       "      <th>City</th>\n",
       "      <th>whight</th>\n",
       "      <th>Height</th>\n",
       "      <th>BMI</th>\n",
       "    </tr>\n",
       "  </thead>\n",
       "  <tbody>\n",
       "    <tr>\n",
       "      <th>0</th>\n",
       "      <td>Asabeneh</td>\n",
       "      <td>Finland</td>\n",
       "      <td>Helsinki</td>\n",
       "      <td>74</td>\n",
       "      <td>1.73</td>\n",
       "      <td>24.725183</td>\n",
       "    </tr>\n",
       "    <tr>\n",
       "      <th>1</th>\n",
       "      <td>David</td>\n",
       "      <td>UK</td>\n",
       "      <td>London</td>\n",
       "      <td>78</td>\n",
       "      <td>1.75</td>\n",
       "      <td>25.469388</td>\n",
       "    </tr>\n",
       "    <tr>\n",
       "      <th>2</th>\n",
       "      <td>John</td>\n",
       "      <td>Sweden</td>\n",
       "      <td>Stockholm</td>\n",
       "      <td>69</td>\n",
       "      <td>1.69</td>\n",
       "      <td>24.158818</td>\n",
       "    </tr>\n",
       "  </tbody>\n",
       "</table>\n",
       "</div>"
      ],
      "text/plain": [
       "       Name  Country       City  whight  Height        BMI\n",
       "0  Asabeneh  Finland   Helsinki      74    1.73  24.725183\n",
       "1     David       UK     London      78    1.75  25.469388\n",
       "2      John   Sweden  Stockholm      69    1.69  24.158818"
      ]
     },
     "execution_count": 87,
     "metadata": {},
     "output_type": "execute_result"
    }
   ],
   "source": [
    "# Add the BMI column \n",
    "\n",
    "df_locations[\"BMI\"] = BMI\n",
    "df_locations"
   ]
  },
  {
   "cell_type": "code",
   "execution_count": 88,
   "id": "7092c5db",
   "metadata": {},
   "outputs": [
    {
     "data": {
      "text/html": [
       "<div>\n",
       "<style scoped>\n",
       "    .dataframe tbody tr th:only-of-type {\n",
       "        vertical-align: middle;\n",
       "    }\n",
       "\n",
       "    .dataframe tbody tr th {\n",
       "        vertical-align: top;\n",
       "    }\n",
       "\n",
       "    .dataframe thead th {\n",
       "        text-align: right;\n",
       "    }\n",
       "</style>\n",
       "<table border=\"1\" class=\"dataframe\">\n",
       "  <thead>\n",
       "    <tr style=\"text-align: right;\">\n",
       "      <th></th>\n",
       "      <th>Name</th>\n",
       "      <th>Country</th>\n",
       "      <th>City</th>\n",
       "      <th>whight</th>\n",
       "      <th>Height</th>\n",
       "      <th>BMI</th>\n",
       "    </tr>\n",
       "  </thead>\n",
       "  <tbody>\n",
       "    <tr>\n",
       "      <th>0</th>\n",
       "      <td>Asabeneh</td>\n",
       "      <td>Finland</td>\n",
       "      <td>Helsinki</td>\n",
       "      <td>74</td>\n",
       "      <td>1.73</td>\n",
       "      <td>24.73</td>\n",
       "    </tr>\n",
       "    <tr>\n",
       "      <th>1</th>\n",
       "      <td>David</td>\n",
       "      <td>UK</td>\n",
       "      <td>London</td>\n",
       "      <td>78</td>\n",
       "      <td>1.75</td>\n",
       "      <td>25.47</td>\n",
       "    </tr>\n",
       "    <tr>\n",
       "      <th>2</th>\n",
       "      <td>John</td>\n",
       "      <td>Sweden</td>\n",
       "      <td>Stockholm</td>\n",
       "      <td>69</td>\n",
       "      <td>1.69</td>\n",
       "      <td>24.16</td>\n",
       "    </tr>\n",
       "  </tbody>\n",
       "</table>\n",
       "</div>"
      ],
      "text/plain": [
       "       Name  Country       City  whight  Height    BMI\n",
       "0  Asabeneh  Finland   Helsinki      74    1.73  24.73\n",
       "1     David       UK     London      78    1.75  25.47\n",
       "2      John   Sweden  Stockholm      69    1.69  24.16"
      ]
     },
     "execution_count": 88,
     "metadata": {},
     "output_type": "execute_result"
    }
   ],
   "source": [
    "# Round the BMI values\n",
    "\n",
    "df_locations[\"BMI\"] = round(df_locations[\"BMI\"], 2)\n",
    "df_locations"
   ]
  },
  {
   "cell_type": "markdown",
   "id": "5acc60c6",
   "metadata": {},
   "source": [
    "### Checking data types of Column values"
   ]
  },
  {
   "cell_type": "code",
   "execution_count": 91,
   "id": "b1bcf844",
   "metadata": {},
   "outputs": [
    {
     "data": {
      "text/html": [
       "<div>\n",
       "<style scoped>\n",
       "    .dataframe tbody tr th:only-of-type {\n",
       "        vertical-align: middle;\n",
       "    }\n",
       "\n",
       "    .dataframe tbody tr th {\n",
       "        vertical-align: top;\n",
       "    }\n",
       "\n",
       "    .dataframe thead th {\n",
       "        text-align: right;\n",
       "    }\n",
       "</style>\n",
       "<table border=\"1\" class=\"dataframe\">\n",
       "  <thead>\n",
       "    <tr style=\"text-align: right;\">\n",
       "      <th></th>\n",
       "      <th>Name</th>\n",
       "      <th>Country</th>\n",
       "      <th>City</th>\n",
       "      <th>whight</th>\n",
       "      <th>Height</th>\n",
       "      <th>BMI</th>\n",
       "      <th>Current Year</th>\n",
       "      <th>Birth Year</th>\n",
       "    </tr>\n",
       "  </thead>\n",
       "  <tbody>\n",
       "    <tr>\n",
       "      <th>0</th>\n",
       "      <td>Asabeneh</td>\n",
       "      <td>Finland</td>\n",
       "      <td>Helsinki</td>\n",
       "      <td>74</td>\n",
       "      <td>1.73</td>\n",
       "      <td>24.73</td>\n",
       "      <td>2025</td>\n",
       "      <td>1769</td>\n",
       "    </tr>\n",
       "    <tr>\n",
       "      <th>1</th>\n",
       "      <td>David</td>\n",
       "      <td>UK</td>\n",
       "      <td>London</td>\n",
       "      <td>78</td>\n",
       "      <td>1.75</td>\n",
       "      <td>25.47</td>\n",
       "      <td>2025</td>\n",
       "      <td>1985</td>\n",
       "    </tr>\n",
       "    <tr>\n",
       "      <th>2</th>\n",
       "      <td>John</td>\n",
       "      <td>Sweden</td>\n",
       "      <td>Stockholm</td>\n",
       "      <td>69</td>\n",
       "      <td>1.69</td>\n",
       "      <td>24.16</td>\n",
       "      <td>2025</td>\n",
       "      <td>1990</td>\n",
       "    </tr>\n",
       "  </tbody>\n",
       "</table>\n",
       "</div>"
      ],
      "text/plain": [
       "       Name  Country       City  whight  Height    BMI  Current Year  \\\n",
       "0  Asabeneh  Finland   Helsinki      74    1.73  24.73          2025   \n",
       "1     David       UK     London      78    1.75  25.47          2025   \n",
       "2      John   Sweden  Stockholm      69    1.69  24.16          2025   \n",
       "\n",
       "  Birth Year  \n",
       "0       1769  \n",
       "1       1985  \n",
       "2       1990  "
      ]
     },
     "execution_count": 91,
     "metadata": {},
     "output_type": "execute_result"
    }
   ],
   "source": [
    "# let's add birth year and current year\n",
    "\n",
    "current_year = pd.Series(2025, index=[0, 1, 2])\n",
    "\n",
    "birth_year = ['1769', '1985', '1990']\n",
    "\n",
    "df_locations[\"Current Year\"] = current_year\n",
    "df_locations[\"Birth Year\"] = birth_year\n",
    "df_locations"
   ]
  },
  {
   "cell_type": "code",
   "execution_count": null,
   "id": "257467bc",
   "metadata": {},
   "outputs": [
    {
     "data": {
      "text/plain": [
       "dtype('float64')"
      ]
     },
     "execution_count": 90,
     "metadata": {},
     "output_type": "execute_result"
    }
   ],
   "source": [
    "df_locations[\"Height\"].dtype\n",
    "# Or\n",
    "df_locations.Height.dtype"
   ]
  },
  {
   "cell_type": "code",
   "execution_count": 96,
   "id": "b6f07e84",
   "metadata": {},
   "outputs": [
    {
     "data": {
      "text/plain": [
       "dtype('O')"
      ]
     },
     "execution_count": 96,
     "metadata": {},
     "output_type": "execute_result"
    }
   ],
   "source": [
    "# if we check birth year --> str\n",
    "df_locations[\"Birth Year\"].dtype"
   ]
  },
  {
   "cell_type": "code",
   "execution_count": 97,
   "id": "0f0fa892",
   "metadata": {},
   "outputs": [
    {
     "data": {
      "text/plain": [
       "dtype('int32')"
      ]
     },
     "execution_count": 97,
     "metadata": {},
     "output_type": "execute_result"
    }
   ],
   "source": [
    "# let's change is to int type using .astype\n",
    "\n",
    "df_locations[\"Birth Year\"] = df_locations[\"Birth Year\"].astype(int)\n",
    "df_locations[\"Birth Year\"].dtype"
   ]
  },
  {
   "cell_type": "code",
   "execution_count": null,
   "id": "562f989c",
   "metadata": {},
   "outputs": [
    {
     "data": {
      "text/plain": [
       "dtype('int64')"
      ]
     },
     "execution_count": 98,
     "metadata": {},
     "output_type": "execute_result"
    }
   ],
   "source": [
    "df_locations[\"Current Year\"].dtype # it is int \n",
    "#let's calculate age"
   ]
  },
  {
   "cell_type": "code",
   "execution_count": 99,
   "id": "d5c60cc9",
   "metadata": {},
   "outputs": [
    {
     "data": {
      "text/plain": [
       "0    256\n",
       "1     40\n",
       "2     35\n",
       "dtype: int64"
      ]
     },
     "execution_count": 99,
     "metadata": {},
     "output_type": "execute_result"
    }
   ],
   "source": [
    "ages = df_locations[\"Current Year\"] - df_locations[\"Birth Year\"]\n",
    "ages"
   ]
  },
  {
   "cell_type": "code",
   "execution_count": 100,
   "id": "ab913780",
   "metadata": {},
   "outputs": [
    {
     "data": {
      "text/html": [
       "<div>\n",
       "<style scoped>\n",
       "    .dataframe tbody tr th:only-of-type {\n",
       "        vertical-align: middle;\n",
       "    }\n",
       "\n",
       "    .dataframe tbody tr th {\n",
       "        vertical-align: top;\n",
       "    }\n",
       "\n",
       "    .dataframe thead th {\n",
       "        text-align: right;\n",
       "    }\n",
       "</style>\n",
       "<table border=\"1\" class=\"dataframe\">\n",
       "  <thead>\n",
       "    <tr style=\"text-align: right;\">\n",
       "      <th></th>\n",
       "      <th>Name</th>\n",
       "      <th>Country</th>\n",
       "      <th>City</th>\n",
       "      <th>whight</th>\n",
       "      <th>Height</th>\n",
       "      <th>BMI</th>\n",
       "      <th>Current Year</th>\n",
       "      <th>Birth Year</th>\n",
       "      <th>Age</th>\n",
       "    </tr>\n",
       "  </thead>\n",
       "  <tbody>\n",
       "    <tr>\n",
       "      <th>0</th>\n",
       "      <td>Asabeneh</td>\n",
       "      <td>Finland</td>\n",
       "      <td>Helsinki</td>\n",
       "      <td>74</td>\n",
       "      <td>1.73</td>\n",
       "      <td>24.73</td>\n",
       "      <td>2025</td>\n",
       "      <td>1769</td>\n",
       "      <td>256</td>\n",
       "    </tr>\n",
       "    <tr>\n",
       "      <th>1</th>\n",
       "      <td>David</td>\n",
       "      <td>UK</td>\n",
       "      <td>London</td>\n",
       "      <td>78</td>\n",
       "      <td>1.75</td>\n",
       "      <td>25.47</td>\n",
       "      <td>2025</td>\n",
       "      <td>1985</td>\n",
       "      <td>40</td>\n",
       "    </tr>\n",
       "    <tr>\n",
       "      <th>2</th>\n",
       "      <td>John</td>\n",
       "      <td>Sweden</td>\n",
       "      <td>Stockholm</td>\n",
       "      <td>69</td>\n",
       "      <td>1.69</td>\n",
       "      <td>24.16</td>\n",
       "      <td>2025</td>\n",
       "      <td>1990</td>\n",
       "      <td>35</td>\n",
       "    </tr>\n",
       "  </tbody>\n",
       "</table>\n",
       "</div>"
      ],
      "text/plain": [
       "       Name  Country       City  whight  Height    BMI  Current Year  \\\n",
       "0  Asabeneh  Finland   Helsinki      74    1.73  24.73          2025   \n",
       "1     David       UK     London      78    1.75  25.47          2025   \n",
       "2      John   Sweden  Stockholm      69    1.69  24.16          2025   \n",
       "\n",
       "   Birth Year  Age  \n",
       "0        1769  256  \n",
       "1        1985   40  \n",
       "2        1990   35  "
      ]
     },
     "execution_count": 100,
     "metadata": {},
     "output_type": "execute_result"
    }
   ],
   "source": [
    "df_locations[\"Age\"] = ages\n",
    "df_locations"
   ]
  },
  {
   "cell_type": "code",
   "execution_count": 101,
   "id": "74d757b8",
   "metadata": {},
   "outputs": [
    {
     "data": {
      "text/html": [
       "<div>\n",
       "<style scoped>\n",
       "    .dataframe tbody tr th:only-of-type {\n",
       "        vertical-align: middle;\n",
       "    }\n",
       "\n",
       "    .dataframe tbody tr th {\n",
       "        vertical-align: top;\n",
       "    }\n",
       "\n",
       "    .dataframe thead th {\n",
       "        text-align: right;\n",
       "    }\n",
       "</style>\n",
       "<table border=\"1\" class=\"dataframe\">\n",
       "  <thead>\n",
       "    <tr style=\"text-align: right;\">\n",
       "      <th></th>\n",
       "      <th>Name</th>\n",
       "      <th>Country</th>\n",
       "      <th>City</th>\n",
       "      <th>whight</th>\n",
       "      <th>Height</th>\n",
       "      <th>BMI</th>\n",
       "      <th>Current Year</th>\n",
       "      <th>Birth Year</th>\n",
       "      <th>Age</th>\n",
       "    </tr>\n",
       "  </thead>\n",
       "  <tbody>\n",
       "    <tr>\n",
       "      <th>0</th>\n",
       "      <td>Asabeneh</td>\n",
       "      <td>Finland</td>\n",
       "      <td>Helsinki</td>\n",
       "      <td>74</td>\n",
       "      <td>1.73</td>\n",
       "      <td>24.73</td>\n",
       "      <td>2025</td>\n",
       "      <td>1769</td>\n",
       "      <td>256</td>\n",
       "    </tr>\n",
       "  </tbody>\n",
       "</table>\n",
       "</div>"
      ],
      "text/plain": [
       "       Name  Country      City  whight  Height    BMI  Current Year  \\\n",
       "0  Asabeneh  Finland  Helsinki      74    1.73  24.73          2025   \n",
       "\n",
       "   Birth Year  Age  \n",
       "0        1769  256  "
      ]
     },
     "execution_count": 101,
     "metadata": {},
     "output_type": "execute_result"
    }
   ],
   "source": [
    "# check if one lives above 120 years\n",
    "\n",
    "df_locations[df_locations[\"Age\"] > 120]"
   ]
  },
  {
   "cell_type": "code",
   "execution_count": 102,
   "id": "ae97f5e6",
   "metadata": {},
   "outputs": [
    {
     "data": {
      "text/plain": [
       "37.5"
      ]
     },
     "execution_count": 102,
     "metadata": {},
     "output_type": "execute_result"
    }
   ],
   "source": [
    "# calculte the mean ignoring typo error (>120 age)\n",
    "\n",
    "mean = (40+35)/2\n",
    "mean"
   ]
  },
  {
   "cell_type": "markdown",
   "id": "6ab2694b",
   "metadata": {},
   "source": [
    "## Exercises: Day 25"
   ]
  },
  {
   "cell_type": "markdown",
   "id": "4e8509a7",
   "metadata": {},
   "source": [
    "1. Read the hacker_news.csv file from data directory \n",
    "1. Get the first five rows\n",
    "1. Get the last five rows\n",
    "1. Get the title column as pandas series\n",
    "1. Count the number of rows and columns\n",
    "    - Filter the titles which contain python\n",
    "    - Filter the titles which contain JavaScript\n",
    "    - Explore the data and make sense of it"
   ]
  },
  {
   "cell_type": "code",
   "execution_count": 103,
   "id": "f001dd64",
   "metadata": {},
   "outputs": [],
   "source": [
    "import pandas as pd \n",
    "import numpy as np "
   ]
  },
  {
   "cell_type": "code",
   "execution_count": null,
   "id": "c8a74bae",
   "metadata": {},
   "outputs": [
    {
     "data": {
      "text/html": [
       "<div>\n",
       "<style scoped>\n",
       "    .dataframe tbody tr th:only-of-type {\n",
       "        vertical-align: middle;\n",
       "    }\n",
       "\n",
       "    .dataframe tbody tr th {\n",
       "        vertical-align: top;\n",
       "    }\n",
       "\n",
       "    .dataframe thead th {\n",
       "        text-align: right;\n",
       "    }\n",
       "</style>\n",
       "<table border=\"1\" class=\"dataframe\">\n",
       "  <thead>\n",
       "    <tr style=\"text-align: right;\">\n",
       "      <th></th>\n",
       "      <th>id</th>\n",
       "      <th>title</th>\n",
       "      <th>url</th>\n",
       "      <th>num_points</th>\n",
       "      <th>num_comments</th>\n",
       "      <th>author</th>\n",
       "      <th>created_at</th>\n",
       "    </tr>\n",
       "  </thead>\n",
       "  <tbody>\n",
       "    <tr>\n",
       "      <th>0</th>\n",
       "      <td>12224879</td>\n",
       "      <td>Interactive Dynamic Video</td>\n",
       "      <td>http://www.interactivedynamicvideo.com/</td>\n",
       "      <td>386</td>\n",
       "      <td>52</td>\n",
       "      <td>ne0phyte</td>\n",
       "      <td>8/4/2016 11:52</td>\n",
       "    </tr>\n",
       "    <tr>\n",
       "      <th>1</th>\n",
       "      <td>11964716</td>\n",
       "      <td>Florida DJs May Face Felony for April Fools' W...</td>\n",
       "      <td>http://www.thewire.com/entertainment/2013/04/f...</td>\n",
       "      <td>2</td>\n",
       "      <td>1</td>\n",
       "      <td>vezycash</td>\n",
       "      <td>6/23/2016 22:20</td>\n",
       "    </tr>\n",
       "    <tr>\n",
       "      <th>2</th>\n",
       "      <td>11919867</td>\n",
       "      <td>Technology ventures: From Idea to Enterprise</td>\n",
       "      <td>https://www.amazon.com/Technology-Ventures-Ent...</td>\n",
       "      <td>3</td>\n",
       "      <td>1</td>\n",
       "      <td>hswarna</td>\n",
       "      <td>6/17/2016 0:01</td>\n",
       "    </tr>\n",
       "    <tr>\n",
       "      <th>3</th>\n",
       "      <td>10301696</td>\n",
       "      <td>Note by Note: The Making of Steinway L1037 (2007)</td>\n",
       "      <td>http://www.nytimes.com/2007/11/07/movies/07ste...</td>\n",
       "      <td>8</td>\n",
       "      <td>2</td>\n",
       "      <td>walterbell</td>\n",
       "      <td>9/30/2015 4:12</td>\n",
       "    </tr>\n",
       "    <tr>\n",
       "      <th>4</th>\n",
       "      <td>10482257</td>\n",
       "      <td>Title II kills investment? Comcast and other I...</td>\n",
       "      <td>http://arstechnica.com/business/2015/10/comcas...</td>\n",
       "      <td>53</td>\n",
       "      <td>22</td>\n",
       "      <td>Deinos</td>\n",
       "      <td>10/31/2015 9:48</td>\n",
       "    </tr>\n",
       "    <tr>\n",
       "      <th>...</th>\n",
       "      <td>...</td>\n",
       "      <td>...</td>\n",
       "      <td>...</td>\n",
       "      <td>...</td>\n",
       "      <td>...</td>\n",
       "      <td>...</td>\n",
       "      <td>...</td>\n",
       "    </tr>\n",
       "    <tr>\n",
       "      <th>20094</th>\n",
       "      <td>12379592</td>\n",
       "      <td>How Purism Avoids Intels Active Management Tec...</td>\n",
       "      <td>https://puri.sm/philosophy/how-purism-avoids-i...</td>\n",
       "      <td>10</td>\n",
       "      <td>6</td>\n",
       "      <td>AdmiralAsshat</td>\n",
       "      <td>8/29/2016 2:22</td>\n",
       "    </tr>\n",
       "    <tr>\n",
       "      <th>20095</th>\n",
       "      <td>10339284</td>\n",
       "      <td>YC Application Translated and Broken Down</td>\n",
       "      <td>https://medium.com/@zreitano/the-yc-applicatio...</td>\n",
       "      <td>4</td>\n",
       "      <td>1</td>\n",
       "      <td>zreitano</td>\n",
       "      <td>10/6/2015 14:57</td>\n",
       "    </tr>\n",
       "    <tr>\n",
       "      <th>20096</th>\n",
       "      <td>10824382</td>\n",
       "      <td>Microkernels are slow and Elvis didn't do no d...</td>\n",
       "      <td>http://blog.darknedgy.net/technology/2016/01/0...</td>\n",
       "      <td>169</td>\n",
       "      <td>132</td>\n",
       "      <td>vezzy-fnord</td>\n",
       "      <td>1/2/2016 0:49</td>\n",
       "    </tr>\n",
       "    <tr>\n",
       "      <th>20097</th>\n",
       "      <td>10739875</td>\n",
       "      <td>How Product Hunt really works</td>\n",
       "      <td>https://medium.com/@benjiwheeler/how-product-h...</td>\n",
       "      <td>695</td>\n",
       "      <td>222</td>\n",
       "      <td>brw12</td>\n",
       "      <td>12/15/2015 19:32</td>\n",
       "    </tr>\n",
       "    <tr>\n",
       "      <th>20098</th>\n",
       "      <td>11680777</td>\n",
       "      <td>RoboBrowser: Your friendly neighborhood web sc...</td>\n",
       "      <td>https://github.com/jmcarp/robobrowser</td>\n",
       "      <td>182</td>\n",
       "      <td>58</td>\n",
       "      <td>pmoriarty</td>\n",
       "      <td>5/12/2016 1:43</td>\n",
       "    </tr>\n",
       "  </tbody>\n",
       "</table>\n",
       "<p>20099 rows × 7 columns</p>\n",
       "</div>"
      ],
      "text/plain": [
       "             id                                              title  \\\n",
       "0      12224879                          Interactive Dynamic Video   \n",
       "1      11964716  Florida DJs May Face Felony for April Fools' W...   \n",
       "2      11919867       Technology ventures: From Idea to Enterprise   \n",
       "3      10301696  Note by Note: The Making of Steinway L1037 (2007)   \n",
       "4      10482257  Title II kills investment? Comcast and other I...   \n",
       "...         ...                                                ...   \n",
       "20094  12379592  How Purism Avoids Intels Active Management Tec...   \n",
       "20095  10339284          YC Application Translated and Broken Down   \n",
       "20096  10824382  Microkernels are slow and Elvis didn't do no d...   \n",
       "20097  10739875                      How Product Hunt really works   \n",
       "20098  11680777  RoboBrowser: Your friendly neighborhood web sc...   \n",
       "\n",
       "                                                     url  num_points  \\\n",
       "0                http://www.interactivedynamicvideo.com/         386   \n",
       "1      http://www.thewire.com/entertainment/2013/04/f...           2   \n",
       "2      https://www.amazon.com/Technology-Ventures-Ent...           3   \n",
       "3      http://www.nytimes.com/2007/11/07/movies/07ste...           8   \n",
       "4      http://arstechnica.com/business/2015/10/comcas...          53   \n",
       "...                                                  ...         ...   \n",
       "20094  https://puri.sm/philosophy/how-purism-avoids-i...          10   \n",
       "20095  https://medium.com/@zreitano/the-yc-applicatio...           4   \n",
       "20096  http://blog.darknedgy.net/technology/2016/01/0...         169   \n",
       "20097  https://medium.com/@benjiwheeler/how-product-h...         695   \n",
       "20098              https://github.com/jmcarp/robobrowser         182   \n",
       "\n",
       "       num_comments         author        created_at  \n",
       "0                52       ne0phyte    8/4/2016 11:52  \n",
       "1                 1       vezycash   6/23/2016 22:20  \n",
       "2                 1        hswarna    6/17/2016 0:01  \n",
       "3                 2     walterbell    9/30/2015 4:12  \n",
       "4                22         Deinos   10/31/2015 9:48  \n",
       "...             ...            ...               ...  \n",
       "20094             6  AdmiralAsshat    8/29/2016 2:22  \n",
       "20095             1       zreitano   10/6/2015 14:57  \n",
       "20096           132    vezzy-fnord     1/2/2016 0:49  \n",
       "20097           222          brw12  12/15/2015 19:32  \n",
       "20098            58      pmoriarty    5/12/2016 1:43  \n",
       "\n",
       "[20099 rows x 7 columns]"
      ]
     },
     "execution_count": 106,
     "metadata": {},
     "output_type": "execute_result"
    }
   ],
   "source": [
    "# 1. Read the hacker_news.csv file from data directory\n",
    "df = pd.read_csv(\"../data/hacker_news.csv\")\n",
    "\n",
    "df"
   ]
  },
  {
   "cell_type": "code",
   "execution_count": null,
   "id": "132ba06e",
   "metadata": {},
   "outputs": [
    {
     "data": {
      "text/html": [
       "<div>\n",
       "<style scoped>\n",
       "    .dataframe tbody tr th:only-of-type {\n",
       "        vertical-align: middle;\n",
       "    }\n",
       "\n",
       "    .dataframe tbody tr th {\n",
       "        vertical-align: top;\n",
       "    }\n",
       "\n",
       "    .dataframe thead th {\n",
       "        text-align: right;\n",
       "    }\n",
       "</style>\n",
       "<table border=\"1\" class=\"dataframe\">\n",
       "  <thead>\n",
       "    <tr style=\"text-align: right;\">\n",
       "      <th></th>\n",
       "      <th>id</th>\n",
       "      <th>title</th>\n",
       "      <th>url</th>\n",
       "      <th>num_points</th>\n",
       "      <th>num_comments</th>\n",
       "      <th>author</th>\n",
       "      <th>created_at</th>\n",
       "    </tr>\n",
       "  </thead>\n",
       "  <tbody>\n",
       "    <tr>\n",
       "      <th>0</th>\n",
       "      <td>12224879</td>\n",
       "      <td>Interactive Dynamic Video</td>\n",
       "      <td>http://www.interactivedynamicvideo.com/</td>\n",
       "      <td>386</td>\n",
       "      <td>52</td>\n",
       "      <td>ne0phyte</td>\n",
       "      <td>8/4/2016 11:52</td>\n",
       "    </tr>\n",
       "    <tr>\n",
       "      <th>1</th>\n",
       "      <td>11964716</td>\n",
       "      <td>Florida DJs May Face Felony for April Fools' W...</td>\n",
       "      <td>http://www.thewire.com/entertainment/2013/04/f...</td>\n",
       "      <td>2</td>\n",
       "      <td>1</td>\n",
       "      <td>vezycash</td>\n",
       "      <td>6/23/2016 22:20</td>\n",
       "    </tr>\n",
       "  </tbody>\n",
       "</table>\n",
       "</div>"
      ],
      "text/plain": [
       "         id                                              title  \\\n",
       "0  12224879                          Interactive Dynamic Video   \n",
       "1  11964716  Florida DJs May Face Felony for April Fools' W...   \n",
       "\n",
       "                                                 url  num_points  \\\n",
       "0            http://www.interactivedynamicvideo.com/         386   \n",
       "1  http://www.thewire.com/entertainment/2013/04/f...           2   \n",
       "\n",
       "   num_comments    author       created_at  \n",
       "0            52  ne0phyte   8/4/2016 11:52  \n",
       "1             1  vezycash  6/23/2016 22:20  "
      ]
     },
     "execution_count": 108,
     "metadata": {},
     "output_type": "execute_result"
    }
   ],
   "source": [
    "# 2. Get the first five rows\n",
    "\n",
    "df.head(2)"
   ]
  },
  {
   "cell_type": "code",
   "execution_count": 111,
   "id": "baeac83c",
   "metadata": {},
   "outputs": [
    {
     "data": {
      "text/html": [
       "<div>\n",
       "<style scoped>\n",
       "    .dataframe tbody tr th:only-of-type {\n",
       "        vertical-align: middle;\n",
       "    }\n",
       "\n",
       "    .dataframe tbody tr th {\n",
       "        vertical-align: top;\n",
       "    }\n",
       "\n",
       "    .dataframe thead th {\n",
       "        text-align: right;\n",
       "    }\n",
       "</style>\n",
       "<table border=\"1\" class=\"dataframe\">\n",
       "  <thead>\n",
       "    <tr style=\"text-align: right;\">\n",
       "      <th></th>\n",
       "      <th>id</th>\n",
       "      <th>title</th>\n",
       "      <th>url</th>\n",
       "      <th>num_points</th>\n",
       "      <th>num_comments</th>\n",
       "      <th>author</th>\n",
       "      <th>created_at</th>\n",
       "    </tr>\n",
       "  </thead>\n",
       "  <tbody>\n",
       "    <tr>\n",
       "      <th>20097</th>\n",
       "      <td>10739875</td>\n",
       "      <td>How Product Hunt really works</td>\n",
       "      <td>https://medium.com/@benjiwheeler/how-product-h...</td>\n",
       "      <td>695</td>\n",
       "      <td>222</td>\n",
       "      <td>brw12</td>\n",
       "      <td>12/15/2015 19:32</td>\n",
       "    </tr>\n",
       "    <tr>\n",
       "      <th>20098</th>\n",
       "      <td>11680777</td>\n",
       "      <td>RoboBrowser: Your friendly neighborhood web sc...</td>\n",
       "      <td>https://github.com/jmcarp/robobrowser</td>\n",
       "      <td>182</td>\n",
       "      <td>58</td>\n",
       "      <td>pmoriarty</td>\n",
       "      <td>5/12/2016 1:43</td>\n",
       "    </tr>\n",
       "  </tbody>\n",
       "</table>\n",
       "</div>"
      ],
      "text/plain": [
       "             id                                              title  \\\n",
       "20097  10739875                      How Product Hunt really works   \n",
       "20098  11680777  RoboBrowser: Your friendly neighborhood web sc...   \n",
       "\n",
       "                                                     url  num_points  \\\n",
       "20097  https://medium.com/@benjiwheeler/how-product-h...         695   \n",
       "20098              https://github.com/jmcarp/robobrowser         182   \n",
       "\n",
       "       num_comments     author        created_at  \n",
       "20097           222      brw12  12/15/2015 19:32  \n",
       "20098            58  pmoriarty    5/12/2016 1:43  "
      ]
     },
     "execution_count": 111,
     "metadata": {},
     "output_type": "execute_result"
    }
   ],
   "source": [
    "# 3. Get the last five rows\n",
    "df.tail(2)"
   ]
  },
  {
   "cell_type": "code",
   "execution_count": 113,
   "id": "be0936af",
   "metadata": {},
   "outputs": [
    {
     "data": {
      "text/plain": [
       "0                                Interactive Dynamic Video\n",
       "1        Florida DJs May Face Felony for April Fools' W...\n",
       "2             Technology ventures: From Idea to Enterprise\n",
       "3        Note by Note: The Making of Steinway L1037 (2007)\n",
       "4        Title II kills investment? Comcast and other I...\n",
       "                               ...                        \n",
       "20094    How Purism Avoids Intels Active Management Tec...\n",
       "20095            YC Application Translated and Broken Down\n",
       "20096    Microkernels are slow and Elvis didn't do no d...\n",
       "20097                        How Product Hunt really works\n",
       "20098    RoboBrowser: Your friendly neighborhood web sc...\n",
       "Name: title, Length: 20099, dtype: object"
      ]
     },
     "execution_count": 113,
     "metadata": {},
     "output_type": "execute_result"
    }
   ],
   "source": [
    "# 4. Get the title column as pandas series\n",
    "\n",
    "titles = df[\"title\"]\n",
    "titles"
   ]
  },
  {
   "cell_type": "code",
   "execution_count": 114,
   "id": "9f7b735b",
   "metadata": {},
   "outputs": [
    {
     "data": {
      "text/plain": [
       "(20099, 7)"
      ]
     },
     "execution_count": 114,
     "metadata": {},
     "output_type": "execute_result"
    }
   ],
   "source": [
    "# 5. Count the number of rows and columns\n",
    "\n",
    "df.shape"
   ]
  },
  {
   "cell_type": "code",
   "execution_count": 118,
   "id": "eb92fcaa",
   "metadata": {},
   "outputs": [
    {
     "data": {
      "text/html": [
       "<div>\n",
       "<style scoped>\n",
       "    .dataframe tbody tr th:only-of-type {\n",
       "        vertical-align: middle;\n",
       "    }\n",
       "\n",
       "    .dataframe tbody tr th {\n",
       "        vertical-align: top;\n",
       "    }\n",
       "\n",
       "    .dataframe thead th {\n",
       "        text-align: right;\n",
       "    }\n",
       "</style>\n",
       "<table border=\"1\" class=\"dataframe\">\n",
       "  <thead>\n",
       "    <tr style=\"text-align: right;\">\n",
       "      <th></th>\n",
       "      <th>id</th>\n",
       "      <th>title</th>\n",
       "      <th>url</th>\n",
       "      <th>num_points</th>\n",
       "      <th>num_comments</th>\n",
       "      <th>author</th>\n",
       "      <th>created_at</th>\n",
       "    </tr>\n",
       "  </thead>\n",
       "  <tbody>\n",
       "    <tr>\n",
       "      <th>102</th>\n",
       "      <td>10974870</td>\n",
       "      <td>From Python to Lua: Why We Switched</td>\n",
       "      <td>https://www.distelli.com/blog/using-lua-for-ou...</td>\n",
       "      <td>243</td>\n",
       "      <td>188</td>\n",
       "      <td>chase202</td>\n",
       "      <td>1/26/2016 18:17</td>\n",
       "    </tr>\n",
       "    <tr>\n",
       "      <th>103</th>\n",
       "      <td>11244541</td>\n",
       "      <td>Ubuntu 16.04 LTS to Ship Without Python 2</td>\n",
       "      <td>http://news.softpedia.com/news/ubuntu-16-04-lt...</td>\n",
       "      <td>2</td>\n",
       "      <td>1</td>\n",
       "      <td>_snydly</td>\n",
       "      <td>3/8/2016 10:39</td>\n",
       "    </tr>\n",
       "    <tr>\n",
       "      <th>144</th>\n",
       "      <td>10963528</td>\n",
       "      <td>Create a GUI Application Using Qt and Python i...</td>\n",
       "      <td>http://digitalpeer.com/s/c63e</td>\n",
       "      <td>21</td>\n",
       "      <td>1</td>\n",
       "      <td>zoodle</td>\n",
       "      <td>1/24/2016 19:01</td>\n",
       "    </tr>\n",
       "    <tr>\n",
       "      <th>196</th>\n",
       "      <td>10716331</td>\n",
       "      <td>How I Solved GCHQ's Xmas Card with Python and ...</td>\n",
       "      <td>http://matthewearl.github.io/2015/12/10/gchq-x...</td>\n",
       "      <td>6</td>\n",
       "      <td>1</td>\n",
       "      <td>kipi</td>\n",
       "      <td>12/11/2015 10:38</td>\n",
       "    </tr>\n",
       "    <tr>\n",
       "      <th>436</th>\n",
       "      <td>11895088</td>\n",
       "      <td>Unikernel Power Comes to Java, Node.js, Go, an...</td>\n",
       "      <td>http://www.infoworld.com/article/3082051/open-...</td>\n",
       "      <td>3</td>\n",
       "      <td>1</td>\n",
       "      <td>syslandscape</td>\n",
       "      <td>6/13/2016 16:23</td>\n",
       "    </tr>\n",
       "    <tr>\n",
       "      <th>...</th>\n",
       "      <td>...</td>\n",
       "      <td>...</td>\n",
       "      <td>...</td>\n",
       "      <td>...</td>\n",
       "      <td>...</td>\n",
       "      <td>...</td>\n",
       "      <td>...</td>\n",
       "    </tr>\n",
       "    <tr>\n",
       "      <th>19597</th>\n",
       "      <td>12061177</td>\n",
       "      <td>David Beazley  Python Concurrency from the Gro...</td>\n",
       "      <td>https://www.youtube.com/watch?v=MCs5OvhV9S4</td>\n",
       "      <td>2</td>\n",
       "      <td>1</td>\n",
       "      <td>bakery2k</td>\n",
       "      <td>7/9/2016 13:05</td>\n",
       "    </tr>\n",
       "    <tr>\n",
       "      <th>19852</th>\n",
       "      <td>10988468</td>\n",
       "      <td>Ask HN: How to automate Python apps deployment?</td>\n",
       "      <td>NaN</td>\n",
       "      <td>4</td>\n",
       "      <td>18</td>\n",
       "      <td>aalhour</td>\n",
       "      <td>1/28/2016 14:55</td>\n",
       "    </tr>\n",
       "    <tr>\n",
       "      <th>19862</th>\n",
       "      <td>11738470</td>\n",
       "      <td>Moving Away from Python 2</td>\n",
       "      <td>https://asmeurer.github.io/blog/posts/moving-a...</td>\n",
       "      <td>227</td>\n",
       "      <td>275</td>\n",
       "      <td>ngoldbaum</td>\n",
       "      <td>5/20/2016 15:14</td>\n",
       "    </tr>\n",
       "    <tr>\n",
       "      <th>19980</th>\n",
       "      <td>12524656</td>\n",
       "      <td>Python vs. Julia Observations</td>\n",
       "      <td>https://medium.com/@Jernfrost/python-vs-julia-...</td>\n",
       "      <td>2</td>\n",
       "      <td>1</td>\n",
       "      <td>blacksmythe</td>\n",
       "      <td>9/18/2016 9:54</td>\n",
       "    </tr>\n",
       "    <tr>\n",
       "      <th>19998</th>\n",
       "      <td>11735438</td>\n",
       "      <td>Show HN: Decorating: Animated pulsed for your ...</td>\n",
       "      <td>https://github.com/ryukinix/decorating</td>\n",
       "      <td>3</td>\n",
       "      <td>1</td>\n",
       "      <td>lerax</td>\n",
       "      <td>5/20/2016 3:48</td>\n",
       "    </tr>\n",
       "  </tbody>\n",
       "</table>\n",
       "<p>160 rows × 7 columns</p>\n",
       "</div>"
      ],
      "text/plain": [
       "             id                                              title  \\\n",
       "102    10974870                From Python to Lua: Why We Switched   \n",
       "103    11244541          Ubuntu 16.04 LTS to Ship Without Python 2   \n",
       "144    10963528  Create a GUI Application Using Qt and Python i...   \n",
       "196    10716331  How I Solved GCHQ's Xmas Card with Python and ...   \n",
       "436    11895088  Unikernel Power Comes to Java, Node.js, Go, an...   \n",
       "...         ...                                                ...   \n",
       "19597  12061177  David Beazley  Python Concurrency from the Gro...   \n",
       "19852  10988468    Ask HN: How to automate Python apps deployment?   \n",
       "19862  11738470                          Moving Away from Python 2   \n",
       "19980  12524656                      Python vs. Julia Observations   \n",
       "19998  11735438  Show HN: Decorating: Animated pulsed for your ...   \n",
       "\n",
       "                                                     url  num_points  \\\n",
       "102    https://www.distelli.com/blog/using-lua-for-ou...         243   \n",
       "103    http://news.softpedia.com/news/ubuntu-16-04-lt...           2   \n",
       "144                        http://digitalpeer.com/s/c63e          21   \n",
       "196    http://matthewearl.github.io/2015/12/10/gchq-x...           6   \n",
       "436    http://www.infoworld.com/article/3082051/open-...           3   \n",
       "...                                                  ...         ...   \n",
       "19597        https://www.youtube.com/watch?v=MCs5OvhV9S4           2   \n",
       "19852                                                NaN           4   \n",
       "19862  https://asmeurer.github.io/blog/posts/moving-a...         227   \n",
       "19980  https://medium.com/@Jernfrost/python-vs-julia-...           2   \n",
       "19998             https://github.com/ryukinix/decorating           3   \n",
       "\n",
       "       num_comments        author        created_at  \n",
       "102             188      chase202   1/26/2016 18:17  \n",
       "103               1       _snydly    3/8/2016 10:39  \n",
       "144               1        zoodle   1/24/2016 19:01  \n",
       "196               1          kipi  12/11/2015 10:38  \n",
       "436               1  syslandscape   6/13/2016 16:23  \n",
       "...             ...           ...               ...  \n",
       "19597             1      bakery2k    7/9/2016 13:05  \n",
       "19852            18       aalhour   1/28/2016 14:55  \n",
       "19862           275     ngoldbaum   5/20/2016 15:14  \n",
       "19980             1   blacksmythe    9/18/2016 9:54  \n",
       "19998             1         lerax    5/20/2016 3:48  \n",
       "\n",
       "[160 rows x 7 columns]"
      ]
     },
     "execution_count": 118,
     "metadata": {},
     "output_type": "execute_result"
    }
   ],
   "source": [
    "# Filter the titles which contain python\n",
    "\n",
    "# df[\"pthon\" in df[\"title\"]]\n",
    "df_py = df[df[\"title\"].str.contains(\"python\", case= False)]\n",
    "df_py"
   ]
  },
  {
   "cell_type": "code",
   "execution_count": 119,
   "id": "29a2c5a2",
   "metadata": {},
   "outputs": [
    {
     "data": {
      "text/html": [
       "<div>\n",
       "<style scoped>\n",
       "    .dataframe tbody tr th:only-of-type {\n",
       "        vertical-align: middle;\n",
       "    }\n",
       "\n",
       "    .dataframe tbody tr th {\n",
       "        vertical-align: top;\n",
       "    }\n",
       "\n",
       "    .dataframe thead th {\n",
       "        text-align: right;\n",
       "    }\n",
       "</style>\n",
       "<table border=\"1\" class=\"dataframe\">\n",
       "  <thead>\n",
       "    <tr style=\"text-align: right;\">\n",
       "      <th></th>\n",
       "      <th>id</th>\n",
       "      <th>title</th>\n",
       "      <th>url</th>\n",
       "      <th>num_points</th>\n",
       "      <th>num_comments</th>\n",
       "      <th>author</th>\n",
       "      <th>created_at</th>\n",
       "    </tr>\n",
       "  </thead>\n",
       "  <tbody>\n",
       "    <tr>\n",
       "      <th>267</th>\n",
       "      <td>12352636</td>\n",
       "      <td>Show HN: Hire JavaScript - Top JavaScript Talent</td>\n",
       "      <td>https://www.hirejs.com/</td>\n",
       "      <td>1</td>\n",
       "      <td>1</td>\n",
       "      <td>eibrahim</td>\n",
       "      <td>8/24/2016 15:16</td>\n",
       "    </tr>\n",
       "    <tr>\n",
       "      <th>580</th>\n",
       "      <td>10871330</td>\n",
       "      <td>Python integration for the Duktape Javascript ...</td>\n",
       "      <td>https://pypi.python.org/pypi/pyduktape</td>\n",
       "      <td>3</td>\n",
       "      <td>1</td>\n",
       "      <td>stefano</td>\n",
       "      <td>1/9/2016 14:26</td>\n",
       "    </tr>\n",
       "    <tr>\n",
       "      <th>811</th>\n",
       "      <td>10741251</td>\n",
       "      <td>Ask HN: Are there any projects or compilers wh...</td>\n",
       "      <td>NaN</td>\n",
       "      <td>1</td>\n",
       "      <td>2</td>\n",
       "      <td>ggonweb</td>\n",
       "      <td>12/15/2015 23:26</td>\n",
       "    </tr>\n",
       "    <tr>\n",
       "      <th>1046</th>\n",
       "      <td>11343334</td>\n",
       "      <td>If you write JavaScript tools or libraries, bu...</td>\n",
       "      <td>https://medium.com/@Rich_Harris/how-to-not-bre...</td>\n",
       "      <td>48</td>\n",
       "      <td>19</td>\n",
       "      <td>callumlocke</td>\n",
       "      <td>3/23/2016 10:54</td>\n",
       "    </tr>\n",
       "    <tr>\n",
       "      <th>1093</th>\n",
       "      <td>10422726</td>\n",
       "      <td>Rollup.js: A next-generation JavaScript module...</td>\n",
       "      <td>http://rollupjs.org</td>\n",
       "      <td>57</td>\n",
       "      <td>17</td>\n",
       "      <td>dmmalam</td>\n",
       "      <td>10/21/2015 0:02</td>\n",
       "    </tr>\n",
       "    <tr>\n",
       "      <th>...</th>\n",
       "      <td>...</td>\n",
       "      <td>...</td>\n",
       "      <td>...</td>\n",
       "      <td>...</td>\n",
       "      <td>...</td>\n",
       "      <td>...</td>\n",
       "      <td>...</td>\n",
       "    </tr>\n",
       "    <tr>\n",
       "      <th>19349</th>\n",
       "      <td>11448301</td>\n",
       "      <td>Fotorama, a responsive JavaScript photo gallery</td>\n",
       "      <td>http://fotorama.io/</td>\n",
       "      <td>1</td>\n",
       "      <td>1</td>\n",
       "      <td>alexkon</td>\n",
       "      <td>4/7/2016 15:59</td>\n",
       "    </tr>\n",
       "    <tr>\n",
       "      <th>19548</th>\n",
       "      <td>12105148</td>\n",
       "      <td>Another Kind of JavaScript Fatigue</td>\n",
       "      <td>http://chrismm.com/blog/the-other-kind-of-java...</td>\n",
       "      <td>9</td>\n",
       "      <td>2</td>\n",
       "      <td>JacksCracked</td>\n",
       "      <td>7/16/2016 3:44</td>\n",
       "    </tr>\n",
       "    <tr>\n",
       "      <th>19610</th>\n",
       "      <td>12203508</td>\n",
       "      <td>Lonely programmer detective uncovers the Mozil...</td>\n",
       "      <td>http://stackoverflow.com/a/38677222/984780</td>\n",
       "      <td>29</td>\n",
       "      <td>8</td>\n",
       "      <td>luisperezphd</td>\n",
       "      <td>8/1/2016 16:07</td>\n",
       "    </tr>\n",
       "    <tr>\n",
       "      <th>19885</th>\n",
       "      <td>12552131</td>\n",
       "      <td>Ask HN: Best Practices for CSS in a Modern Jav...</td>\n",
       "      <td>NaN</td>\n",
       "      <td>6</td>\n",
       "      <td>6</td>\n",
       "      <td>xwvvvvwx</td>\n",
       "      <td>9/21/2016 20:53</td>\n",
       "    </tr>\n",
       "    <tr>\n",
       "      <th>20069</th>\n",
       "      <td>12149183</td>\n",
       "      <td>Show HN: Parse recipe ingredients using JavaSc...</td>\n",
       "      <td>https://github.com/herkyl/ingredients-parser</td>\n",
       "      <td>6</td>\n",
       "      <td>2</td>\n",
       "      <td>zongitsrinzler</td>\n",
       "      <td>7/23/2016 11:35</td>\n",
       "    </tr>\n",
       "  </tbody>\n",
       "</table>\n",
       "<p>170 rows × 7 columns</p>\n",
       "</div>"
      ],
      "text/plain": [
       "             id                                              title  \\\n",
       "267    12352636   Show HN: Hire JavaScript - Top JavaScript Talent   \n",
       "580    10871330  Python integration for the Duktape Javascript ...   \n",
       "811    10741251  Ask HN: Are there any projects or compilers wh...   \n",
       "1046   11343334  If you write JavaScript tools or libraries, bu...   \n",
       "1093   10422726  Rollup.js: A next-generation JavaScript module...   \n",
       "...         ...                                                ...   \n",
       "19349  11448301    Fotorama, a responsive JavaScript photo gallery   \n",
       "19548  12105148                 Another Kind of JavaScript Fatigue   \n",
       "19610  12203508  Lonely programmer detective uncovers the Mozil...   \n",
       "19885  12552131  Ask HN: Best Practices for CSS in a Modern Jav...   \n",
       "20069  12149183  Show HN: Parse recipe ingredients using JavaSc...   \n",
       "\n",
       "                                                     url  num_points  \\\n",
       "267                              https://www.hirejs.com/           1   \n",
       "580               https://pypi.python.org/pypi/pyduktape           3   \n",
       "811                                                  NaN           1   \n",
       "1046   https://medium.com/@Rich_Harris/how-to-not-bre...          48   \n",
       "1093                                 http://rollupjs.org          57   \n",
       "...                                                  ...         ...   \n",
       "19349                                http://fotorama.io/           1   \n",
       "19548  http://chrismm.com/blog/the-other-kind-of-java...           9   \n",
       "19610         http://stackoverflow.com/a/38677222/984780          29   \n",
       "19885                                                NaN           6   \n",
       "20069       https://github.com/herkyl/ingredients-parser           6   \n",
       "\n",
       "       num_comments          author        created_at  \n",
       "267               1        eibrahim   8/24/2016 15:16  \n",
       "580               1         stefano    1/9/2016 14:26  \n",
       "811               2         ggonweb  12/15/2015 23:26  \n",
       "1046             19     callumlocke   3/23/2016 10:54  \n",
       "1093             17         dmmalam   10/21/2015 0:02  \n",
       "...             ...             ...               ...  \n",
       "19349             1         alexkon    4/7/2016 15:59  \n",
       "19548             2    JacksCracked    7/16/2016 3:44  \n",
       "19610             8    luisperezphd    8/1/2016 16:07  \n",
       "19885             6        xwvvvvwx   9/21/2016 20:53  \n",
       "20069             2  zongitsrinzler   7/23/2016 11:35  \n",
       "\n",
       "[170 rows x 7 columns]"
      ]
     },
     "execution_count": 119,
     "metadata": {},
     "output_type": "execute_result"
    }
   ],
   "source": [
    "# Filter the titles which contain JavaScript\n",
    "\n",
    "df_Java = df[df[\"title\"].str.contains(\"JavaScript\", case= False)]\n",
    "df_Java"
   ]
  },
  {
   "cell_type": "code",
   "execution_count": null,
   "id": "c7c3e8af",
   "metadata": {},
   "outputs": [],
   "source": [
    "# Explore the data and make sense of it\n",
    "# TODO"
   ]
  }
 ],
 "metadata": {
  "kernelspec": {
   "display_name": "base",
   "language": "python",
   "name": "python3"
  },
  "language_info": {
   "codemirror_mode": {
    "name": "ipython",
    "version": 3
   },
   "file_extension": ".py",
   "mimetype": "text/x-python",
   "name": "python",
   "nbconvert_exporter": "python",
   "pygments_lexer": "ipython3",
   "version": "3.12.7"
  }
 },
 "nbformat": 4,
 "nbformat_minor": 5
}
