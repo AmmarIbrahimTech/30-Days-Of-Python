{
 "cells": [
  {
   "cell_type": "markdown",
   "id": "4d1e1f60",
   "metadata": {},
   "source": [
    "## Print()"
   ]
  },
  {
   "cell_type": "code",
   "execution_count": 8,
   "id": "a2f6d4ed",
   "metadata": {},
   "outputs": [
    {
     "name": "stdout",
     "output_type": "stream",
     "text": [
      "Hello world!\n"
     ]
    }
   ],
   "source": [
    "A = \"Hello world!\"\n",
    "B = 5\n",
    "C = 1.5\n",
    "D = True\n",
    "E = 3 == 4\n",
    "print(A)"
   ]
  },
  {
   "cell_type": "code",
   "execution_count": 11,
   "id": "47300b0f",
   "metadata": {},
   "outputs": [
    {
     "name": "stdout",
     "output_type": "stream",
     "text": [
      "12\n"
     ]
    }
   ],
   "source": [
    "print(len(A))"
   ]
  },
  {
   "cell_type": "code",
   "execution_count": 29,
   "id": "8517a810",
   "metadata": {},
   "outputs": [
    {
     "name": "stdout",
     "output_type": "stream",
     "text": [
      "<class 'str'>\n",
      "<class 'int'>\n",
      "<class 'float'>\n",
      "type 'True' is:  <class 'bool'>\n",
      "5 is int but we are using f string is this True? \n",
      "we are in new line\n",
      "print is used to debug the code\n"
     ]
    }
   ],
   "source": [
    "print(type(A))\n",
    "print(type(B))\n",
    "print(type(C))\n",
    "print(\"type 'True' is: \", type(D))\n",
    "print(f\"{5} is int but we are using f string is this {D}? \\nwe are in new line\")\n",
    "\n",
    "print(\"print is used to debug the code\")"
   ]
  },
  {
   "cell_type": "code",
   "execution_count": 38,
   "id": "d57e7180",
   "metadata": {},
   "outputs": [
    {
     "name": "stdout",
     "output_type": "stream",
     "text": [
      "5.0\n",
      "5\n",
      "5\n",
      "5\n",
      "5\n",
      "6\n",
      "5\n",
      "6\n",
      "5\n",
      "5.13\n"
     ]
    }
   ],
   "source": [
    "print(float(5))\n",
    "print(int(5.0))\n",
    "print(int(float(5)))\n",
    "print(int(5.1))\n",
    "print(int(5.9))\n",
    "# python int function round to lower number\n",
    "\n",
    "print(round(5.9))\n",
    "print(round(5.1))\n",
    "print(round(5.5))\n",
    "print(round(5.4))\n",
    "\n",
    "print(round(5.1252, 2))\n",
    "\n"
   ]
  },
  {
   "cell_type": "code",
   "execution_count": 2,
   "id": "90919ec8",
   "metadata": {},
   "outputs": [],
   "source": [
    "ID = int(input(\"write your ID\"))"
   ]
  },
  {
   "cell_type": "code",
   "execution_count": 3,
   "id": "622abf96",
   "metadata": {},
   "outputs": [
    {
     "name": "stdout",
     "output_type": "stream",
     "text": [
      "8456416\n",
      "<class 'int'>\n"
     ]
    }
   ],
   "source": [
    "print(ID)\n",
    "print(type(ID))"
   ]
  },
  {
   "cell_type": "code",
   "execution_count": null,
   "id": "ec0d6655",
   "metadata": {},
   "outputs": [
    {
     "ename": "",
     "evalue": "",
     "output_type": "error",
     "traceback": [
      "\u001b[1;31mThe Kernel crashed while executing code in the current cell or a previous cell. \n",
      "\u001b[1;31mPlease review the code in the cell(s) to identify a possible cause of the failure. \n",
      "\u001b[1;31mClick <a href='https://aka.ms/vscodeJupyterKernelCrash'>here</a> for more info. \n",
      "\u001b[1;31mView Jupyter <a href='command:jupyter.viewOutput'>log</a> for further details."
     ]
    }
   ],
   "source": [
    "# exit()"
   ]
  },
  {
   "cell_type": "code",
   "execution_count": 8,
   "id": "30c6c243",
   "metadata": {},
   "outputs": [
    {
     "name": "stdout",
     "output_type": "stream",
     "text": [
      "\n",
      "Here is a list of the Python keywords.  Enter any keyword to get more help.\n",
      "\n",
      "False               class               from                or\n",
      "None                continue            global              pass\n",
      "True                def                 if                  raise\n",
      "and                 del                 import              return\n",
      "as                  elif                in                  try\n",
      "assert              else                is                  while\n",
      "async               except              lambda              with\n",
      "await               finally             nonlocal            yield\n",
      "break               for                 not                 \n",
      "\n"
     ]
    }
   ],
   "source": [
    "help('keywords')\n"
   ]
  },
  {
   "cell_type": "code",
   "execution_count": 8,
   "id": "42b14ad4",
   "metadata": {},
   "outputs": [],
   "source": [
    "\n",
    "My_list = [1,2,3,4,5]"
   ]
  },
  {
   "cell_type": "code",
   "execution_count": null,
   "id": "5203e192",
   "metadata": {},
   "outputs": [
    {
     "name": "stdout",
     "output_type": "stream",
     "text": [
      " max in the list is 5\n",
      "min in the lis is 1\n",
      "sum of the list is:  15\n"
     ]
    }
   ],
   "source": [
    "print(f\"max in the list is {max(My_list)}\")\n",
    "print(\"min in the lis is\", min(My_list))\n",
    "print(\"sum of the list is: \" , sum(My_list))"
   ]
  },
  {
   "cell_type": "code",
   "execution_count": null,
   "id": "41f5fc21",
   "metadata": {},
   "outputs": [],
   "source": [
    "_A = 5\n",
    "A_Z_1_9999999 = 4\n",
    "\n",
    "First = 1\n",
    "first = 2\n",
    "\n",
    "_if = 3"
   ]
  },
  {
   "cell_type": "code",
   "execution_count": 14,
   "id": "c2669544",
   "metadata": {},
   "outputs": [],
   "source": [
    "# Variables in Python\n",
    "first_name = 'Asabeneh'\n",
    "last_name = 'Yetayeh'\n",
    "country = 'Finland'\n",
    "city = 'Helsinki'\n",
    "age = 250\n",
    "is_married = True\n",
    "skills = ['HTML', 'CSS', 'JS', 'React', 'Python']\n",
    "person_info = {\n",
    "   'firstname':'Asabeneh',\n",
    "   'lastname':'Yetayeh',\n",
    "   'country':'Finland',\n",
    "   'city':'Helsinki'\n",
    "   }"
   ]
  },
  {
   "cell_type": "code",
   "execution_count": 12,
   "id": "de6b4c77",
   "metadata": {},
   "outputs": [
    {
     "name": "stdout",
     "output_type": "stream",
     "text": [
      "Hello, World!\n",
      "Hello , World !\n",
      "13\n"
     ]
    }
   ],
   "source": [
    "print('Hello, World!') # The text Hello, World! is an argument\n",
    "print('Hello',',', 'World','!') # it can take multiple arguments, four arguments have been passed\n",
    "print(len('Hello, World!')) # it takes only one argument"
   ]
  },
  {
   "cell_type": "code",
   "execution_count": 16,
   "id": "f72b1d81",
   "metadata": {},
   "outputs": [
    {
     "name": "stdout",
     "output_type": "stream",
     "text": [
      "First name: Asabeneh\n",
      "First name length: 8\n",
      "Last name:  Yetayeh\n",
      "Last name length:  7\n",
      "Country:  Finland\n",
      "City:  Helsinki\n",
      "Age:  250\n",
      "Married:  True\n",
      "Skills:  ['HTML', 'CSS', 'JS', 'React', 'Python']\n",
      "Person information:  {'firstname': 'Asabeneh', 'lastname': 'Yetayeh', 'country': 'Finland', 'city': 'Helsinki'}\n",
      "Asabeneh\n"
     ]
    }
   ],
   "source": [
    "# Printing the values stored in the variables\n",
    "\n",
    "print('First name:', first_name)\n",
    "print('First name length:', len(first_name))\n",
    "print('Last name: ', last_name)\n",
    "print('Last name length: ', len(last_name))\n",
    "print('Country: ', country)\n",
    "print('City: ', city)\n",
    "print('Age: ', age)\n",
    "print('Married: ', is_married)\n",
    "print('Skills: ', skills)\n",
    "print('Person information: ', person_info)\n",
    "print(person_info['firstname'])"
   ]
  },
  {
   "cell_type": "code",
   "execution_count": 18,
   "id": "a420cc3c",
   "metadata": {},
   "outputs": [
    {
     "name": "stdout",
     "output_type": "stream",
     "text": [
      "Hello\n",
      "Ammar\n",
      "35\n"
     ]
    }
   ],
   "source": [
    "first_name = input('What is your name: ')\n",
    "print(\"Hello\", first_name)\n",
    "age = input('How old are you? ')\n",
    "\n",
    "print(first_name)\n",
    "print(age)"
   ]
  },
  {
   "cell_type": "code",
   "execution_count": 23,
   "id": "9b6360d0",
   "metadata": {},
   "outputs": [
    {
     "name": "stdout",
     "output_type": "stream",
     "text": [
      "[1, 2, 3, 4, 1, 2, 3, 4]\n",
      "(1, 2, 3, 4, 1, 2, 3, 4)\n"
     ]
    }
   ],
   "source": [
    "my_list = [1,2,3,4]\n",
    "your_tuple = (1,2,3,4)\n",
    "print (my_list * 2)\n",
    "print(your_tuple *2)\n"
   ]
  },
  {
   "cell_type": "code",
   "execution_count": 28,
   "id": "7bd6362a",
   "metadata": {},
   "outputs": [
    {
     "name": "stdout",
     "output_type": "stream",
     "text": [
      "1is number\n"
     ]
    }
   ],
   "source": [
    "print(str(1) + \"is number\")"
   ]
  },
  {
   "cell_type": "code",
   "execution_count": null,
   "id": "89a9d63a",
   "metadata": {},
   "outputs": [],
   "source": [
    "# int to float\n",
    "num_int = 10\n",
    "print('num_int',num_int)         # 10\n",
    "num_float = float(num_int)\n",
    "print('num_float:', num_float)   # 10.0\n",
    "\n",
    "# float to int\n",
    "gravity = 9.81\n",
    "print(int(gravity))             # 9\n",
    "\n",
    "# int to str\n",
    "num_int = 10\n",
    "print(num_int)                  # 10\n",
    "num_str = str(num_int)\n",
    "print(num_str)                  # '10'\n",
    "\n",
    "# str to int or float\n",
    "num_str = '10.6'\n",
    "num_float = float(num_str)\n",
    "print('num_float', float(num_str))  # 10.6\n",
    "num_int = int(num_float)\n",
    "print('num_int', int(num_int))      # 10\n",
    "\n",
    "# str to list\n",
    "first_name = 'Asabeneh'\n",
    "print(first_name)               # 'Asabeneh'\n",
    "first_name_to_list = list(first_name)\n",
    "print(first_name_to_list)    "
   ]
  },
  {
   "cell_type": "code",
   "execution_count": 7,
   "id": "af8553af",
   "metadata": {},
   "outputs": [
    {
     "name": "stdout",
     "output_type": "stream",
     "text": [
      "0\n",
      "1\n",
      "5 is odd\n"
     ]
    }
   ],
   "source": [
    "evan = 4\n",
    "odd = 5\n",
    "number = 5\n",
    "print(evan % 2)\n",
    "print (odd % 2)\n",
    "\n",
    "if number == 0:\n",
    "    print(\"0 is neither evan nor odd\")\n",
    "elif number % 2 == 0:\n",
    "    print(f\"{number} is evan\")\n",
    "else:\n",
    "    print(f\"{number} is odd\")"
   ]
  }
 ],
 "metadata": {
  "kernelspec": {
   "display_name": "base",
   "language": "python",
   "name": "python3"
  },
  "language_info": {
   "codemirror_mode": {
    "name": "ipython",
    "version": 3
   },
   "file_extension": ".py",
   "mimetype": "text/x-python",
   "name": "python",
   "nbconvert_exporter": "python",
   "pygments_lexer": "ipython3",
   "version": "3.12.7"
  }
 },
 "nbformat": 4,
 "nbformat_minor": 5
}
