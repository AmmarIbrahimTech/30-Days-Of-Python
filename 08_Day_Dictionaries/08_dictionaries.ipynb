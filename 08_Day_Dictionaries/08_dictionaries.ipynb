{
 "cells": [
  {
   "cell_type": "markdown",
   "id": "e99ce289",
   "metadata": {},
   "source": [
    "# 30 Days Of Python: Day 8 - Dictionaries"
   ]
  },
  {
   "cell_type": "markdown",
   "id": "f689b9d5",
   "metadata": {},
   "source": [
    "## Creating a Dictionary"
   ]
  },
  {
   "cell_type": "code",
   "execution_count": 70,
   "id": "2fbeb937",
   "metadata": {},
   "outputs": [
    {
     "name": "stdout",
     "output_type": "stream",
     "text": [
      "<class 'dict'>\n"
     ]
    }
   ],
   "source": [
    "dct = {}\n",
    "\n",
    "print(type(dct))"
   ]
  },
  {
   "cell_type": "code",
   "execution_count": 71,
   "id": "eb43e2f8",
   "metadata": {},
   "outputs": [
    {
     "name": "stdout",
     "output_type": "stream",
     "text": [
      "<class 'dict'>\n"
     ]
    }
   ],
   "source": [
    "dct = dict()\n",
    "\n",
    "print(type(dct))"
   ]
  },
  {
   "cell_type": "code",
   "execution_count": 72,
   "id": "bc2a38d2",
   "metadata": {},
   "outputs": [],
   "source": [
    "dct = {'key1':'value', 'key2':'value'}"
   ]
  },
  {
   "cell_type": "code",
   "execution_count": 73,
   "id": "3f142c3e",
   "metadata": {},
   "outputs": [
    {
     "name": "stdout",
     "output_type": "stream",
     "text": [
      "7\n"
     ]
    }
   ],
   "source": [
    "person = {\n",
    "    'first_name':'Asabeneh',\n",
    "    'last_name':'Yetayeh',\n",
    "    'age':250,\n",
    "    'country':'Finland',\n",
    "    'is_marred':True,\n",
    "    'skills':['JavaScript', 'React', 'Node', 'MongoDB', 'Python'],\n",
    "    'address':{\n",
    "        'street':'Space street',\n",
    "        'zipcode':'02210'\n",
    "    }\n",
    "    }\n",
    "print(len(person))"
   ]
  },
  {
   "cell_type": "markdown",
   "id": "4cdac0e4",
   "metadata": {},
   "source": [
    "## Getting Dictionary Keys as a List"
   ]
  },
  {
   "cell_type": "code",
   "execution_count": 74,
   "id": "b96c2f00",
   "metadata": {},
   "outputs": [
    {
     "name": "stdout",
     "output_type": "stream",
     "text": [
      "value1\n"
     ]
    }
   ],
   "source": [
    "dct = {'key1':'value1',\n",
    "       'key2':'value2', \n",
    "       'key3':'value3', \n",
    "       'key4':'value4'}\n",
    "\n",
    "\n",
    "keys = dct.keys()\n",
    "\n",
    "item_in_key_1 = dct['key1']\n",
    "\n",
    "print(item_in_key_1)"
   ]
  },
  {
   "cell_type": "code",
   "execution_count": 75,
   "id": "de2797b7",
   "metadata": {},
   "outputs": [
    {
     "name": "stdout",
     "output_type": "stream",
     "text": [
      "your grade is None\n"
     ]
    }
   ],
   "source": [
    "grades = {101001 : 'A*',\n",
    "          100000 : 'B'}\n",
    "\n",
    "ID_enterd = int(input(\"Enter your ID\"))\n",
    "\n",
    "# if ID_enterd in grades:\n",
    "#     print(f'your grade is {grades[ID_enterd]}')\n",
    "\n",
    "# else:\n",
    "#     print('You are not student with us, go check your univarsity')\n",
    "\n",
    "# try:\n",
    "#     print(f'your grade is {grades[ID_enterd]}')\n",
    "# except KeyError:\n",
    "#     print('You are not student with us, go check your univarsity')\n",
    "\n",
    "print(f'your grade is {grades.get(ID_enterd)}') #! \n"
   ]
  },
  {
   "cell_type": "code",
   "execution_count": 76,
   "id": "6813d00f",
   "metadata": {},
   "outputs": [
    {
     "name": "stdout",
     "output_type": "stream",
     "text": [
      "dict_keys([1, 2, 3])\n",
      "dict_values(['a', 'b', ['c', 'd']])\n"
     ]
    }
   ],
   "source": [
    "keys_values_dct = {1: 'a',\n",
    "                   2: 'b',\n",
    "                   3: ['c','d']}\n",
    "\n",
    "keys = keys_values_dct.keys()\n",
    "values = keys_values_dct.values()\n",
    "\n",
    "print(keys)\n",
    "print(values)"
   ]
  },
  {
   "cell_type": "code",
   "execution_count": 77,
   "id": "ddc99250",
   "metadata": {},
   "outputs": [
    {
     "name": "stdout",
     "output_type": "stream",
     "text": [
      "{1: 'a', 2: 'b', 3: ['c', 'd', 'e']}\n"
     ]
    }
   ],
   "source": [
    "keys_values_dct[3].append('e')\n",
    "print(keys_values_dct)"
   ]
  },
  {
   "cell_type": "code",
   "execution_count": 78,
   "id": "ecb94275",
   "metadata": {},
   "outputs": [
    {
     "name": "stdout",
     "output_type": "stream",
     "text": [
      "{1: 'a', 2: 'b', 3: ['c', 'd', 'e'], 4: {11: 'h', 21: 'j', 31: ['j', 'l']}}\n"
     ]
    }
   ],
   "source": [
    "keys_values_dct[4] = {11: 'h',\n",
    "                   21: 'j',\n",
    "                   31: ['j','l']}\n",
    "\n",
    "print(keys_values_dct)"
   ]
  },
  {
   "cell_type": "code",
   "execution_count": 79,
   "id": "7744fb4b",
   "metadata": {},
   "outputs": [
    {
     "name": "stdout",
     "output_type": "stream",
     "text": [
      "['j', 'l']\n"
     ]
    }
   ],
   "source": [
    "'''\n",
    "{\n",
    "1: 'a',\n",
    "2: 'b',\n",
    "3: ['c', 'd', 'e'],\n",
    "4: {11: 'h', 21: 'j', 31: ['j', 'l']}\n",
    "}\n",
    "'''\n",
    "\n",
    "my_list = keys_values_dct[4][31]\n",
    "\n",
    "print(my_list)\n"
   ]
  },
  {
   "cell_type": "code",
   "execution_count": 80,
   "id": "4adc786d",
   "metadata": {},
   "outputs": [
    {
     "name": "stdout",
     "output_type": "stream",
     "text": [
      "{101001: 'A*', 100000: 'B', 101222: 'C'}\n"
     ]
    }
   ],
   "source": [
    "grades[101222] = 'C'\n",
    "\n",
    "print(grades)"
   ]
  },
  {
   "cell_type": "code",
   "execution_count": 81,
   "id": "b4323096",
   "metadata": {},
   "outputs": [
    {
     "name": "stdout",
     "output_type": "stream",
     "text": [
      "{101001: 'A*', 100000: 'B', 101222: 'B'}\n"
     ]
    }
   ],
   "source": [
    "grades[101222] = 'B'\n",
    "\n",
    "print(grades)"
   ]
  },
  {
   "cell_type": "code",
   "execution_count": 82,
   "id": "d6f5157a",
   "metadata": {},
   "outputs": [
    {
     "name": "stdout",
     "output_type": "stream",
     "text": [
      "{101001: 'A*', 100000: 'B'}\n",
      "B\n"
     ]
    }
   ],
   "source": [
    "poped_item = grades.pop(101222)\n",
    "\n",
    "print(grades)\n",
    "print(poped_item)"
   ]
  },
  {
   "cell_type": "code",
   "execution_count": 83,
   "id": "3bab1eba",
   "metadata": {},
   "outputs": [
    {
     "name": "stdout",
     "output_type": "stream",
     "text": [
      "{101001: 'A*'}\n",
      "(100000, 'B')\n"
     ]
    }
   ],
   "source": [
    "poped_item = grades.popitem()\n",
    "\n",
    "print(grades)\n",
    "print(poped_item)"
   ]
  },
  {
   "cell_type": "code",
   "execution_count": 84,
   "id": "f7c76c10",
   "metadata": {},
   "outputs": [
    {
     "name": "stdout",
     "output_type": "stream",
     "text": [
      "{}\n"
     ]
    }
   ],
   "source": [
    "del grades[101001]\n",
    "\n",
    "print(grades)"
   ]
  },
  {
   "cell_type": "code",
   "execution_count": 85,
   "id": "12955802",
   "metadata": {},
   "outputs": [],
   "source": [
    "dct = {'key1':'value1', 'key2':'value2', 'key3':'value3', 'key4':'value4'}\n",
    "list_of_items = dct.items()"
   ]
  },
  {
   "cell_type": "code",
   "execution_count": 89,
   "id": "4a2496ef",
   "metadata": {},
   "outputs": [
    {
     "name": "stdout",
     "output_type": "stream",
     "text": [
      "dict_items([('key1', 'value1'), ('key2', 'value2'), ('key3', 'value3'), ('key4', 'value4')])\n",
      "<class 'dict_items'>\n"
     ]
    }
   ],
   "source": [
    "print(list_of_items)\n",
    "print(type(list_of_items))"
   ]
  },
  {
   "cell_type": "code",
   "execution_count": 92,
   "id": "4d7c226e",
   "metadata": {},
   "outputs": [
    {
     "name": "stdout",
     "output_type": "stream",
     "text": [
      "{'key1': 'value1', 'key2': 'value2', 'key3': 'value3', 'key4': 'value4'}\n"
     ]
    }
   ],
   "source": [
    "dct2 = dct #!\n",
    "dct2 = dct.copy()\n",
    "print(dct2)"
   ]
  }
 ],
 "metadata": {
  "kernelspec": {
   "display_name": "base",
   "language": "python",
   "name": "python3"
  },
  "language_info": {
   "codemirror_mode": {
    "name": "ipython",
    "version": 3
   },
   "file_extension": ".py",
   "mimetype": "text/x-python",
   "name": "python",
   "nbconvert_exporter": "python",
   "pygments_lexer": "ipython3",
   "version": "3.12.7"
  }
 },
 "nbformat": 4,
 "nbformat_minor": 5
}
