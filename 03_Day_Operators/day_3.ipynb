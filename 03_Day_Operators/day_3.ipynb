{
 "cells": [
  {
   "cell_type": "markdown",
   "id": "c400895c",
   "metadata": {},
   "source": [
    "## Boolean"
   ]
  },
  {
   "cell_type": "code",
   "execution_count": 1,
   "id": "260a83e0",
   "metadata": {},
   "outputs": [
    {
     "name": "stdout",
     "output_type": "stream",
     "text": [
      "result is:  9\n"
     ]
    }
   ],
   "source": [
    "# Assingment\n",
    "\n",
    "result = 5 + 2\n",
    "# result = result + 2\n",
    "result += 2 \n",
    "\n",
    "number_of_students = 0\n",
    "\n",
    "# loop \n",
    "number_of_students += 1\n",
    "\n",
    "print(\"result is: \" , result)"
   ]
  },
  {
   "cell_type": "code",
   "execution_count": 9,
   "id": "6a00d6d3",
   "metadata": {},
   "outputs": [
    {
     "name": "stdout",
     "output_type": "stream",
     "text": [
      "Addition:  3\n",
      "Subtraction:  1\n",
      "Multiplication:  6\n",
      "Division:  2.0\n",
      "Division:  3.0\n",
      "Division:  3.5\n",
      "Division without the remainder:  3\n",
      "Division without the remainder:  2\n",
      "Modulus:  1\n",
      "Exponentiation:  8\n"
     ]
    }
   ],
   "source": [
    "# Arithmetic Operations in Python\n",
    "# Integers\n",
    "\n",
    "print('Addition: ', 1 + 2)        # 3\n",
    "print('Subtraction: ', 2 - 1)     # 1\n",
    "print('Multiplication: ', 2 * 3)  # 6\n",
    "print ('Division: ', 4 / 2)       # 2.0  Division in Python gives floating number\n",
    "print('Division: ', 6 / 2)        # 3.0         \n",
    "print('Division: ', 7 / 2)        # 3.5\n",
    "print('Division without the remainder: ', 7 // 2)   # 3,  gives without the floating number or without the remaining\n",
    "print ('Division without the remainder: ',7 // 3)   # 2\n",
    "print('Modulus: ', 3 % 2)         # 1, Gives the remainder\n",
    "print('Exponentiation: ', 2 ** 3) # 9 it means 2 * 2 * 2"
   ]
  },
  {
   "cell_type": "code",
   "execution_count": 10,
   "id": "df69d17c",
   "metadata": {},
   "outputs": [
    {
     "name": "stdout",
     "output_type": "stream",
     "text": [
      "Floating Point Number, PI 3.14\n",
      "Floating Point Number, gravity 9.81\n"
     ]
    }
   ],
   "source": [
    "# Floating numbers\n",
    "print('Floating Point Number, PI', 3.14)\n",
    "print('Floating Point Number, gravity', 9.81)"
   ]
  },
  {
   "cell_type": "code",
   "execution_count": 11,
   "id": "db5c0ba2",
   "metadata": {},
   "outputs": [
    {
     "name": "stdout",
     "output_type": "stream",
     "text": [
      "Complex number:  (1+1j)\n",
      "Multiplying complex numbers:  (2+0j)\n"
     ]
    }
   ],
   "source": [
    "# Complex numbers\n",
    "print('Complex number: ', 1 + 1j)\n",
    "print('Multiplying complex numbers: ',(1 + 1j) * (1 - 1j))"
   ]
  },
  {
   "cell_type": "code",
   "execution_count": 2,
   "id": "73f9af23",
   "metadata": {},
   "outputs": [
    {
     "name": "stdout",
     "output_type": "stream",
     "text": [
      "5\n",
      "a + b =  5\n",
      "a - b =  1\n",
      "a * b =  6\n",
      "a / b =  1.5\n",
      "a % b =  1\n",
      "a // b =  1\n",
      "a ** b =  9\n"
     ]
    }
   ],
   "source": [
    "# Declaring the variable at the top first\n",
    "\n",
    "a = 3 # a is a variable name and 3 is an integer data type\n",
    "b = 2 # b is a variable name and 3 is an integer data type\n",
    "\n",
    "# Arithmetic operations and assigning the result to a variable\n",
    "total = a + b\n",
    "diff = a - b\n",
    "product = a * b\n",
    "division = a / b\n",
    "remainder = a % b # 1\n",
    "floor_division = a // b #1\n",
    "exponential = a ** b # 9\n",
    "\n",
    "# I should have used sum instead of total but sum is a built-in function - try to avoid overriding built-in functions\n",
    "print(total) # if you do not label your print with some string, you never know where the result is coming from\n",
    "print('a + b = ', total)\n",
    "print('a - b = ', diff)\n",
    "print('a * b = ', product)\n",
    "print('a / b = ', division)\n",
    "print('a % b = ', remainder)\n",
    "print('a // b = ', floor_division)\n",
    "print('a ** b = ', exponential)\n"
   ]
  },
  {
   "cell_type": "code",
   "execution_count": 4,
   "id": "7a076333",
   "metadata": {},
   "outputs": [
    {
     "name": "stdout",
     "output_type": "stream",
     "text": [
      "== Addition, Subtraction, Multiplication, Division, Modulus ==\n",
      "total:  7\n",
      "difference:  1\n",
      "product:  12\n",
      "division:  1.3333333333333333\n",
      "remainder:  1\n"
     ]
    }
   ],
   "source": [
    "print('== Addition, Subtraction, Multiplication, Division, Modulus ==')\n",
    "\n",
    "# Declaring values and organizing them together\n",
    "num_one = 3\n",
    "num_two = 4\n",
    "\n",
    "# Arithmetic operations\n",
    "total = num_one + num_two\n",
    "diff = num_two - num_one\n",
    "product = num_one * num_two\n",
    "div = num_two / num_one\n",
    "remainder = num_two % num_one\n",
    "\n",
    "# Printing values with label\n",
    "print('total: ', total)\n",
    "print('difference: ', diff)\n",
    "print('product: ', product)\n",
    "print('division: ', div)\n",
    "print('remainder: ', remainder)"
   ]
  },
  {
   "cell_type": "code",
   "execution_count": 6,
   "id": "a4a6e474",
   "metadata": {},
   "outputs": [
    {
     "name": "stdout",
     "output_type": "stream",
     "text": [
      "Area of a circle: 314.0\n",
      "Area of rectangle: 200\n",
      "735.75 N\n"
     ]
    }
   ],
   "source": [
    "# Calculating area of a circle\n",
    "radius = 10                                 # radius of a circle\n",
    "area_of_circle = 3.14 * radius ** 2         # two * sign means exponent or power\n",
    "print('Area of a circle:', area_of_circle)\n",
    "\n",
    "# Calculating area of a rectangle\n",
    "length = 10\n",
    "width = 20\n",
    "area_of_rectangle = length * width\n",
    "print('Area of rectangle:', area_of_rectangle)\n",
    "\n",
    "# Calculating a weight of an object\n",
    "mass = 75\n",
    "gravity = 9.81\n",
    "weight = mass * gravity\n",
    "print(weight, 'N')                         # Adding unit to the weight\n",
    "\n",
    "# Calculate the density of a liquid\n",
    "mass = 75 # in Kg\n",
    "volume = 0.075 # in cubic meter\n",
    "density = mass / volume # 1000 Kg/m^3\n"
   ]
  },
  {
   "cell_type": "code",
   "execution_count": 9,
   "id": "7ac34bc6",
   "metadata": {},
   "outputs": [
    {
     "name": "stdout",
     "output_type": "stream",
     "text": [
      "True\n",
      "True\n",
      "False\n",
      "True\n",
      "True\n",
      "False\n",
      "True\n",
      "False\n",
      "True\n",
      "True\n",
      "False\n",
      "True\n",
      "True\n",
      "False\n",
      "True == True:  True\n",
      "True == False:  False\n",
      "False == False: True\n"
     ]
    }
   ],
   "source": [
    "print(3 > 2)     # True, because 3 is greater than 2\n",
    "print(3 >= 2)    # True, because 3 is greater than 2\n",
    "print(3 < 2)     # False,  because 3 is greater than 2\n",
    "print(2 < 3)     # True, because 2 is less than 3\n",
    "print(2 <= 3)    # True, because 2 is less than 3\n",
    "print(3 == 2)    # False, because 3 is not equal to 2\n",
    "print(3 != 2)    # True, because 3 is not equal to 2\n",
    "print(len('mango') == len('avocado'))  # False\n",
    "print(len('mango') != len('avocado'))  # True\n",
    "print(len('mango') < len('avocado'))   # True\n",
    "print(len('milk') != len('meat'))      # False\n",
    "print(len('milk') == len('meat'))      # True\n",
    "print(len('tomato') == len('potato'))  # True\n",
    "print(len('python') > len('dragon'))   # False\n",
    "\n",
    "\n",
    "# Comparing something gives either a True or False\n",
    "\n",
    "print('True == True: ', True is True)\n",
    "print('True == False: ', True is False)\n",
    "print('False == False:', False is False)"
   ]
  },
  {
   "cell_type": "code",
   "execution_count": null,
   "id": "433e77bc",
   "metadata": {},
   "outputs": [
    {
     "name": "stdout",
     "output_type": "stream",
     "text": [
      "1 is 1 True\n",
      "1 is not 2 True\n",
      "A in Asabeneh True\n",
      "B in Asabeneh True\n",
      "True\n",
      "a in an: True\n",
      "4 is 2 ** 2: True\n"
     ]
    },
    {
     "name": "stderr",
     "output_type": "stream",
     "text": [
      "<>:1: SyntaxWarning: \"is\" with 'int' literal. Did you mean \"==\"?\n",
      "<>:2: SyntaxWarning: \"is not\" with 'int' literal. Did you mean \"!=\"?\n",
      "<>:7: SyntaxWarning: \"is\" with 'int' literal. Did you mean \"==\"?\n",
      "<>:1: SyntaxWarning: \"is\" with 'int' literal. Did you mean \"==\"?\n",
      "<>:2: SyntaxWarning: \"is not\" with 'int' literal. Did you mean \"!=\"?\n",
      "<>:7: SyntaxWarning: \"is\" with 'int' literal. Did you mean \"==\"?\n",
      "C:\\Users\\3mmar\\AppData\\Local\\Temp\\ipykernel_3972\\3229092995.py:1: SyntaxWarning: \"is\" with 'int' literal. Did you mean \"==\"?\n",
      "  print('1 is 1', 1 is 1)                   # True - because the data values are the same\n",
      "C:\\Users\\3mmar\\AppData\\Local\\Temp\\ipykernel_3972\\3229092995.py:2: SyntaxWarning: \"is not\" with 'int' literal. Did you mean \"!=\"?\n",
      "  print('1 is not 2', 1 is not 2)           # True - because 1 is not 2\n",
      "C:\\Users\\3mmar\\AppData\\Local\\Temp\\ipykernel_3972\\3229092995.py:7: SyntaxWarning: \"is\" with 'int' literal. Did you mean \"==\"?\n",
      "  print('4 is 2 ** 2:', 4 is 2 ** 2)   # True\n"
     ]
    }
   ],
   "source": [
    "print('1 is 1', 1 is 1)                   # True - because the data values are the same\n",
    "print('1 is not 2', 1 is not 2)           # True - because 1 is not 2\n",
    "print('A in Asabeneh', 'A' in 'Asabeneh') # True - A found in the string\n",
    "print('B in Asabeneh', 'B' in 'Asabeneh') # False - there is no uppercase B\n",
    "print('coding' in 'coding for all') # True - because coding for all has the word coding\n",
    "print('a in an:', 'a' in 'an')      # True\n",
    "print('4 is 2 ** 2:', 4 is 2 ** 2)   # True\n",
    "\n",
    "\n"
   ]
  },
  {
   "cell_type": "code",
   "execution_count": null,
   "id": "f44e0018",
   "metadata": {},
   "outputs": [],
   "source": [
    "print(3 > 2 and 4 > 3) # True - because both statements are true\n",
    "print(3 > 2 and 4 < 3) # False - because the second statement is false\n",
    "print(3 < 2 and 4 < 3) # False - because both statements are false\n",
    "print('True and True: ', True and True)\n",
    "print(3 > 2 or 4 > 3)  # True - because both statements are true\n",
    "print(3 > 2 or 4 < 3)  # True - because one of the statements is true\n",
    "print(3 < 2 or 4 < 3)  # False - because both statements are false\n",
    "print('True or False:', True or False)\n",
    "print(not 3 > 2)     # False - because 3 > 2 is true, then not True gives False\n",
    "print(not True)      # False - Negation, the not operator turns true to false\n",
    "print(not False)     # True\n",
    "print(not not True)  # True\n",
    "print(not not False) # False\n"
   ]
  },
  {
   "cell_type": "markdown",
   "id": "d7b85e0c",
   "metadata": {},
   "source": [
    "## Exercise"
   ]
  },
  {
   "cell_type": "code",
   "execution_count": 2,
   "id": "b6a15e55",
   "metadata": {},
   "outputs": [
    {
     "name": "stdout",
     "output_type": "stream",
     "text": [
      "The area of the tingle is  5.73\n"
     ]
    }
   ],
   "source": [
    "# Exercises - Day 3\n",
    "# Declare your age as integer variable\n",
    "Age = 25\n",
    "\n",
    "# Declare your height as a float variable\n",
    "Height:float = 165\n",
    "Height = float(165)\n",
    "Height = 165.0\n",
    "\n",
    "# Declare a variable that store a complex number\n",
    "complex_num = 1 + 5j\n",
    "\n",
    "# Write a script that prompts the user to enter base and height of the triangle and calculate an area of this triangle (area = 0.5 x b x h).\n",
    "\n",
    "def tringle_area_calc(base, height):\n",
    "    area = 0.5 * base * height\n",
    "    rond_area = round(area, 2)\n",
    "    \n",
    "    return rond_area\n",
    "\n",
    "base_str = input(\"Enter base: \")\n",
    "base_float = float(base_str)\n",
    "\n",
    "height_str = input(\"Enter height: \")\n",
    "height_float = float(height_str)\n",
    "\n",
    "area = tringle_area_calc(base_float, height_float)\n",
    "\n",
    "print(\"The area of the tingle is \", area)"
   ]
  },
  {
   "cell_type": "code",
   "execution_count": 3,
   "id": "914e15c5",
   "metadata": {},
   "outputs": [
    {
     "name": "stdout",
     "output_type": "stream",
     "text": [
      "The perimeter of the tingle is: 12.0\n"
     ]
    }
   ],
   "source": [
    "# Write a script that prompts the user to enter side a, \n",
    "# side b, and side c of the triangle. \n",
    "# Calculate the perimeter of the triangle (perimeter = a + b + c).\n",
    "\n",
    "A = float(input(\"Enter side a: \"))\n",
    "\n",
    "B = float(input(\"Enter side b: \"))\n",
    "\n",
    "C = float(input(\"Enter side c: \"))\n",
    "\n",
    "perimeter = A + B + C\n",
    "\n",
    "print(f\"The perimeter of the tingle is: {perimeter}\")\n"
   ]
  },
  {
   "cell_type": "code",
   "execution_count": 14,
   "id": "2a55489f",
   "metadata": {},
   "outputs": [
    {
     "name": "stdout",
     "output_type": "stream",
     "text": [
      "200\n",
      "60\n",
      "rectangle: lenght: 50, width: 10\n"
     ]
    }
   ],
   "source": [
    "# Get length and width of a rectangle using prompt. Calculate its area (area = length x width) and perimeter (perimeter = 2 x (length + width))\n",
    "\n",
    "\n",
    "\n",
    "\n",
    "class rectangle:\n",
    "    def __init__(self, length, width):\n",
    "        self.length = length \n",
    "        self.width = width\n",
    "    \n",
    "    def __str__(self):\n",
    "        return  f\"rectangle: lenght: {self.length}, width: {self.width}\"\n",
    "    def area(self):\n",
    "        return self.length * self.width\n",
    "    \n",
    "    def perimeter(self):\n",
    "        return 2 * (self.length + self.width)\n",
    "    \n",
    "    def __add__(self, other):\n",
    "        new_length = self.length + other.length\n",
    "        \n",
    "        return rectangle(new_length, self.width)\n",
    "        \n",
    "\n",
    "\n",
    "rectangle_1 = rectangle(20,10)\n",
    "rectangle_2 = rectangle(30,10)\n",
    "\n",
    "print(rectangle_1.area())\n",
    "print(rectangle_1.perimeter())\n",
    "rectangle_3 = rectangle_1 + rectangle_2\n",
    "print(rectangle_3)\n",
    "\n"
   ]
  },
  {
   "cell_type": "code",
   "execution_count": null,
   "id": "8798e16c",
   "metadata": {},
   "outputs": [],
   "source": [
    "\n",
    "\n"
   ]
  },
  {
   "cell_type": "markdown",
   "id": "74a82675",
   "metadata": {},
   "source": [
    "# تصحيح شغل أحمد"
   ]
  },
  {
   "cell_type": "code",
   "execution_count": 15,
   "id": "ca6c019f",
   "metadata": {},
   "outputs": [
    {
     "name": "stdout",
     "output_type": "stream",
     "text": [
      "The equation of the line you entered is y = 1.0x + (5)\n",
      "The slope of the equation equals 1.0. The x-intercept equals -5.0 and the y-intercept equals 5\n"
     ]
    }
   ],
   "source": [
    "script_slope = input('Enter the value of the slope of a line:' ); slope = float(script_slope)\n",
    "script_b = input('Enter the value of the free term of the line (If none, enter 0): '); b = int(script_b)\n",
    "print(f\"The equation of the line you entered is y = {slope}x + ({b})\")\n",
    "print(f\"The slope of the equation equals {slope}. The x-intercept equals {-(b)/slope} and the y-intercept equals {b}\")\n"
   ]
  },
  {
   "cell_type": "code",
   "execution_count": null,
   "id": "8b90ee28",
   "metadata": {},
   "outputs": [],
   "source": [
    "# Calculate the slope, x-intercept and y-intercept of y = 2x -2\n",
    "# x = (y + 2) / 2\n",
    "\n",
    "x = 5\n",
    "\n"
   ]
  },
  {
   "cell_type": "code",
   "execution_count": 16,
   "id": "f3a5c428",
   "metadata": {},
   "outputs": [
    {
     "name": "stdout",
     "output_type": "stream",
     "text": [
      "y is going to be 0 when x =  -3\n"
     ]
    }
   ],
   "source": [
    "#try x : -1000 --> 1000\n",
    "# substitute in  y = x^2 + 6x + 9\n",
    "# if y = 3 stop and retun the x value\n",
    "\n",
    "for x in range(-1000, 1000):\n",
    "\n",
    "    y = x**2 + 6*x + 9\n",
    "    \n",
    "    if y == 0:\n",
    "        x_value = x\n",
    "        break\n",
    "\n",
    "print(\"y is going to be 0 when x = \", x_value)\n"
   ]
  },
  {
   "cell_type": "code",
   "execution_count": null,
   "id": "0fdfc3f5",
   "metadata": {},
   "outputs": [
    {
     "data": {
      "text/plain": [
       "True"
      ]
     },
     "execution_count": 17,
     "metadata": {},
     "output_type": "execute_result"
    }
   ],
   "source": [
    "'on' in 'python' and 'on' in 'dragon'\n",
    "\n",
    "# .lower()\n",
    "# .upper()\n"
   ]
  },
  {
   "cell_type": "code",
   "execution_count": 28,
   "id": "e9891f31",
   "metadata": {},
   "outputs": [
    {
     "name": "stdout",
     "output_type": "stream",
     "text": [
      "a        3mmar2001@                gmail.com                z\n"
     ]
    }
   ],
   "source": [
    "#removing spaces from str\n",
    "\n",
    "\n",
    "email = \" 3mmar2001@  gmail.com  \"\n",
    "\n",
    "refined_email_1 = email.strip()\n",
    "\n",
    "refined_email_2 = email.replace(\" \", \"        \")\n",
    "\n",
    "# print(\"a\" + email + \"z\")\n",
    "print(\"a\" + refined_email_2 + \"z\")"
   ]
  },
  {
   "cell_type": "code",
   "execution_count": 30,
   "id": "5fde1165",
   "metadata": {},
   "outputs": [
    {
     "name": "stdout",
     "output_type": "stream",
     "text": [
      "The length of the word 'python' equals 6: 6.0: 6.0\n"
     ]
    }
   ],
   "source": [
    "print(f\"The length of the word 'python' equals {len('python')}: {float(len('python'))}: {str(float(len('python')))}\")\n"
   ]
  },
  {
   "cell_type": "markdown",
   "id": "acc19161",
   "metadata": {},
   "source": []
  }
 ],
 "metadata": {
  "kernelspec": {
   "display_name": "base",
   "language": "python",
   "name": "python3"
  },
  "language_info": {
   "codemirror_mode": {
    "name": "ipython",
    "version": 3
   },
   "file_extension": ".py",
   "mimetype": "text/x-python",
   "name": "python",
   "nbconvert_exporter": "python",
   "pygments_lexer": "ipython3",
   "version": "3.12.7"
  }
 },
 "nbformat": 4,
 "nbformat_minor": 5
}
